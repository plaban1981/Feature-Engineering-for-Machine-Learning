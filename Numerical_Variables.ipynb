{
  "nbformat": 4,
  "nbformat_minor": 0,
  "metadata": {
    "colab": {
      "name": "Numerical_Variables.ipynb",
      "provenance": [],
      "collapsed_sections": [
        "f6A4YaSRgQcV",
        "6rM9nppiitrn",
        "wWywyT31sLbP",
        "nujtBMqQyrzE",
        "JVR9kBYx9-AO"
      ],
      "include_colab_link": true
    },
    "kernelspec": {
      "name": "python3",
      "display_name": "Python 3"
    },
    "accelerator": "GPU"
  },
  "cells": [
    {
      "cell_type": "markdown",
      "metadata": {
        "id": "view-in-github",
        "colab_type": "text"
      },
      "source": [
        "<a href=\"https://colab.research.google.com/github/plaban1981/Feature-Engineering-for-Machine-Learning/blob/master/Numerical_Variables.ipynb\" target=\"_parent\"><img src=\"https://colab.research.google.com/assets/colab-badge.svg\" alt=\"Open In Colab\"/></a>"
      ]
    },
    {
      "cell_type": "markdown",
      "metadata": {
        "id": "n-lM4Tq2wgOv",
        "colab_type": "text"
      },
      "source": [
        "\n",
        "#### What is a Variable?\n",
        "A variable is any characteristic, number, or quantity that can be measured or counted. The following are examples of variables:\n",
        "\n",
        "- Age (21, 35, 62, ...)\n",
        "- Gender (male, female)\n",
        "- Income (GBP 20000, GBP 35000, GBP 45000, ...)\n",
        "- House price (GBP 350000, GBP 570000, ...)\n",
        "- Country of birth (China, Russia, Costa Rica, ...)\n",
        "- Eye colour (brown, green, blue, ...)\n",
        "- Vehicle make (Ford, Volkswagen, ...)\n",
        "\n",
        "\n",
        "They are called 'variables' because the value they take may vary (and it usually does) in a population.\n",
        "\n",
        "#### Most variables in a data set can be classified into one of two major types:\n",
        "\n",
        "- Numerical variables\n",
        "- Categorical variables"
      ]
    },
    {
      "cell_type": "markdown",
      "metadata": {
        "id": "YfurfNG4w4PY",
        "colab_type": "text"
      },
      "source": [
        "##Numerical variables\n",
        "The values of a numerical variable are numbers. They can be further classified into \n",
        "\n",
        "- discrete variables and \n",
        "- continuous variables.\n",
        "\n",
        "#### Discrete numerical variable\n",
        "A variable which values are whole numbers (counts) is called discrete. \n",
        "\n",
        "For example, the number of items bought by a customer in a supermarket is discrete. The customer can buy 1, 25, or 50 items, but not 3.7 items. It is always a round number. \n",
        "\n",
        "The following are examples of discrete variables:\n",
        "\n",
        "- Number of active bank accounts of a borrower (1, 4, 7, ...)\n",
        "- Number of pets in the family\n",
        "- Number of children in the family\n",
        "\n",
        "#### Continuous numerical variable\n",
        "A variable that may contain any value within some range is called continuous. \n",
        "\n",
        "For example, the total amount paid by a customer in a supermarket is continuous. \n",
        "\n",
        "The customer can pay, GBP 20.5, GBP 13.10, GBP 83.20 and so on. Other examples of continuous variables are:\n",
        "\n",
        "- House price (in principle, it can take any value) (GBP 350000, 57000, 1000000, ...)\n",
        "- Time spent surfing a website (3.4 seconds, 5.10 seconds, ...)\n",
        "- Total debt as percentage of total income in the last month (0.2, 0.001, 0, 0.75, ...)"
      ]
    },
    {
      "cell_type": "markdown",
      "metadata": {
        "id": "GIAThmSb0DYK",
        "colab_type": "text"
      },
      "source": [
        "## Real Life example: Peer to peer lending (Finance)\n",
        "#### Lending Club\n",
        "\n",
        "Lending Club is a peer-to-peer Lending company based in the US. They match people looking to invest money with people looking to borrow money. When investors invest their money through Lending Club, this money is passed onto borrowers, and when borrowers pay their loans back, the capital plus the interest passes on back to the investors. It is a win for everybody as they can get typically lower loan rates and higher investor returns.\n",
        "\n",
        "If you want to learn more about Lending Club follow this link.\n",
        "\n",
        "The Lending Club dataset contains complete loan data for all loans issued through 2007-2015, including the current loan status (Current, Late, Fully Paid, etc.) and latest payment information. Features include credit scores, number of finance inquiries, address including zip codes and state, and collections among others. Collections indicates whether the customer has missed one or more payments and the team is trying to recover their money.\n",
        "\n",
        "The file is a matrix of about 890 thousand observations and 75 variables. More detail on this dataset can be found in Kaggle's website\n",
        "\n",
        "Let's go ahead and have a look at the variables!\n",
        "\n",
        "====================================================================================================\n",
        "\n",
        "#### To download the Lending Club loan book from Kaggle go to this website\n",
        "\n",
        "Scroll down to the bottom of the page, and click on the link 'loan.csv', and then click the 'download' blue button towards the right of the screen, to download the dataset. Unzip it, and save it to a directory of your choice.\n",
        "\n",
        "Note that you need to be logged in to Kaggle in order to download the datasets."
      ]
    },
    {
      "cell_type": "code",
      "metadata": {
        "id": "JzEzJOaFtjEs",
        "colab_type": "code",
        "colab": {}
      },
      "source": [
        "import pandas as pd\n",
        "import numpy as np\n",
        "import matplotlib.pyplot as plt\n",
        "%matplotlib inline"
      ],
      "execution_count": 0,
      "outputs": []
    },
    {
      "cell_type": "markdown",
      "metadata": {
        "id": "Bqx_Td1O2_JR",
        "colab_type": "text"
      },
      "source": [
        "## let's load the dataset with just a few columns and a few rows to speed things up"
      ]
    },
    {
      "cell_type": "code",
      "metadata": {
        "id": "LQfsFcvd240z",
        "colab_type": "code",
        "outputId": "22528178-5a72-4506-e42a-e8c6feb01ccd",
        "colab": {
          "base_uri": "https://localhost:8080/",
          "height": 372
        }
      },
      "source": [
        "#use_cols = ['loan_amnt', 'int_rate', 'annual_inc', 'open_acc', 'loan_status','open_il_12m']\n",
        "data = pd.read_csv('/content/drive/My Drive/loan.csv')  # set a seed for reproducibility\n",
        "data.head()"
      ],
      "execution_count": 60,
      "outputs": [
        {
          "output_type": "stream",
          "text": [
            "/usr/local/lib/python3.6/dist-packages/IPython/core/interactiveshell.py:2718: DtypeWarning: Columns (19,47,55,112,123,124,125,128,129,130,133,139,140,141) have mixed types. Specify dtype option on import or set low_memory=False.\n",
            "  interactivity=interactivity, compiler=compiler, result=result)\n"
          ],
          "name": "stderr"
        },
        {
          "output_type": "execute_result",
          "data": {
            "text/html": [
              "<div>\n",
              "<style scoped>\n",
              "    .dataframe tbody tr th:only-of-type {\n",
              "        vertical-align: middle;\n",
              "    }\n",
              "\n",
              "    .dataframe tbody tr th {\n",
              "        vertical-align: top;\n",
              "    }\n",
              "\n",
              "    .dataframe thead th {\n",
              "        text-align: right;\n",
              "    }\n",
              "</style>\n",
              "<table border=\"1\" class=\"dataframe\">\n",
              "  <thead>\n",
              "    <tr style=\"text-align: right;\">\n",
              "      <th></th>\n",
              "      <th>id</th>\n",
              "      <th>member_id</th>\n",
              "      <th>loan_amnt</th>\n",
              "      <th>funded_amnt</th>\n",
              "      <th>funded_amnt_inv</th>\n",
              "      <th>term</th>\n",
              "      <th>int_rate</th>\n",
              "      <th>installment</th>\n",
              "      <th>grade</th>\n",
              "      <th>sub_grade</th>\n",
              "      <th>emp_title</th>\n",
              "      <th>emp_length</th>\n",
              "      <th>home_ownership</th>\n",
              "      <th>annual_inc</th>\n",
              "      <th>verification_status</th>\n",
              "      <th>issue_d</th>\n",
              "      <th>loan_status</th>\n",
              "      <th>pymnt_plan</th>\n",
              "      <th>url</th>\n",
              "      <th>desc</th>\n",
              "      <th>purpose</th>\n",
              "      <th>title</th>\n",
              "      <th>zip_code</th>\n",
              "      <th>addr_state</th>\n",
              "      <th>dti</th>\n",
              "      <th>delinq_2yrs</th>\n",
              "      <th>earliest_cr_line</th>\n",
              "      <th>inq_last_6mths</th>\n",
              "      <th>mths_since_last_delinq</th>\n",
              "      <th>mths_since_last_record</th>\n",
              "      <th>open_acc</th>\n",
              "      <th>pub_rec</th>\n",
              "      <th>revol_bal</th>\n",
              "      <th>revol_util</th>\n",
              "      <th>total_acc</th>\n",
              "      <th>initial_list_status</th>\n",
              "      <th>out_prncp</th>\n",
              "      <th>out_prncp_inv</th>\n",
              "      <th>total_pymnt</th>\n",
              "      <th>total_pymnt_inv</th>\n",
              "      <th>...</th>\n",
              "      <th>pub_rec_bankruptcies</th>\n",
              "      <th>tax_liens</th>\n",
              "      <th>tot_hi_cred_lim</th>\n",
              "      <th>total_bal_ex_mort</th>\n",
              "      <th>total_bc_limit</th>\n",
              "      <th>total_il_high_credit_limit</th>\n",
              "      <th>revol_bal_joint</th>\n",
              "      <th>sec_app_earliest_cr_line</th>\n",
              "      <th>sec_app_inq_last_6mths</th>\n",
              "      <th>sec_app_mort_acc</th>\n",
              "      <th>sec_app_open_acc</th>\n",
              "      <th>sec_app_revol_util</th>\n",
              "      <th>sec_app_open_act_il</th>\n",
              "      <th>sec_app_num_rev_accts</th>\n",
              "      <th>sec_app_chargeoff_within_12_mths</th>\n",
              "      <th>sec_app_collections_12_mths_ex_med</th>\n",
              "      <th>sec_app_mths_since_last_major_derog</th>\n",
              "      <th>hardship_flag</th>\n",
              "      <th>hardship_type</th>\n",
              "      <th>hardship_reason</th>\n",
              "      <th>hardship_status</th>\n",
              "      <th>deferral_term</th>\n",
              "      <th>hardship_amount</th>\n",
              "      <th>hardship_start_date</th>\n",
              "      <th>hardship_end_date</th>\n",
              "      <th>payment_plan_start_date</th>\n",
              "      <th>hardship_length</th>\n",
              "      <th>hardship_dpd</th>\n",
              "      <th>hardship_loan_status</th>\n",
              "      <th>orig_projected_additional_accrued_interest</th>\n",
              "      <th>hardship_payoff_balance_amount</th>\n",
              "      <th>hardship_last_payment_amount</th>\n",
              "      <th>disbursement_method</th>\n",
              "      <th>debt_settlement_flag</th>\n",
              "      <th>debt_settlement_flag_date</th>\n",
              "      <th>settlement_status</th>\n",
              "      <th>settlement_date</th>\n",
              "      <th>settlement_amount</th>\n",
              "      <th>settlement_percentage</th>\n",
              "      <th>settlement_term</th>\n",
              "    </tr>\n",
              "  </thead>\n",
              "  <tbody>\n",
              "    <tr>\n",
              "      <th>0</th>\n",
              "      <td>NaN</td>\n",
              "      <td>NaN</td>\n",
              "      <td>2500</td>\n",
              "      <td>2500</td>\n",
              "      <td>2500.0</td>\n",
              "      <td>36 months</td>\n",
              "      <td>13.56</td>\n",
              "      <td>84.92</td>\n",
              "      <td>C</td>\n",
              "      <td>C1</td>\n",
              "      <td>Chef</td>\n",
              "      <td>10+ years</td>\n",
              "      <td>RENT</td>\n",
              "      <td>55000.0</td>\n",
              "      <td>Not Verified</td>\n",
              "      <td>Dec-2018</td>\n",
              "      <td>Current</td>\n",
              "      <td>n</td>\n",
              "      <td>NaN</td>\n",
              "      <td>NaN</td>\n",
              "      <td>debt_consolidation</td>\n",
              "      <td>Debt consolidation</td>\n",
              "      <td>109xx</td>\n",
              "      <td>NY</td>\n",
              "      <td>18.24</td>\n",
              "      <td>0.0</td>\n",
              "      <td>Apr-2001</td>\n",
              "      <td>1.0</td>\n",
              "      <td>NaN</td>\n",
              "      <td>45.0</td>\n",
              "      <td>9.0</td>\n",
              "      <td>1.0</td>\n",
              "      <td>4341</td>\n",
              "      <td>10.3</td>\n",
              "      <td>34.0</td>\n",
              "      <td>w</td>\n",
              "      <td>2386.02</td>\n",
              "      <td>2386.02</td>\n",
              "      <td>167.02</td>\n",
              "      <td>167.02</td>\n",
              "      <td>...</td>\n",
              "      <td>1.0</td>\n",
              "      <td>0.0</td>\n",
              "      <td>60124.0</td>\n",
              "      <td>16901.0</td>\n",
              "      <td>36500.0</td>\n",
              "      <td>18124.0</td>\n",
              "      <td>NaN</td>\n",
              "      <td>NaN</td>\n",
              "      <td>NaN</td>\n",
              "      <td>NaN</td>\n",
              "      <td>NaN</td>\n",
              "      <td>NaN</td>\n",
              "      <td>NaN</td>\n",
              "      <td>NaN</td>\n",
              "      <td>NaN</td>\n",
              "      <td>NaN</td>\n",
              "      <td>NaN</td>\n",
              "      <td>N</td>\n",
              "      <td>NaN</td>\n",
              "      <td>NaN</td>\n",
              "      <td>NaN</td>\n",
              "      <td>NaN</td>\n",
              "      <td>NaN</td>\n",
              "      <td>NaN</td>\n",
              "      <td>NaN</td>\n",
              "      <td>NaN</td>\n",
              "      <td>NaN</td>\n",
              "      <td>NaN</td>\n",
              "      <td>NaN</td>\n",
              "      <td>NaN</td>\n",
              "      <td>NaN</td>\n",
              "      <td>NaN</td>\n",
              "      <td>Cash</td>\n",
              "      <td>N</td>\n",
              "      <td>NaN</td>\n",
              "      <td>NaN</td>\n",
              "      <td>NaN</td>\n",
              "      <td>NaN</td>\n",
              "      <td>NaN</td>\n",
              "      <td>NaN</td>\n",
              "    </tr>\n",
              "    <tr>\n",
              "      <th>1</th>\n",
              "      <td>NaN</td>\n",
              "      <td>NaN</td>\n",
              "      <td>30000</td>\n",
              "      <td>30000</td>\n",
              "      <td>30000.0</td>\n",
              "      <td>60 months</td>\n",
              "      <td>18.94</td>\n",
              "      <td>777.23</td>\n",
              "      <td>D</td>\n",
              "      <td>D2</td>\n",
              "      <td>Postmaster</td>\n",
              "      <td>10+ years</td>\n",
              "      <td>MORTGAGE</td>\n",
              "      <td>90000.0</td>\n",
              "      <td>Source Verified</td>\n",
              "      <td>Dec-2018</td>\n",
              "      <td>Current</td>\n",
              "      <td>n</td>\n",
              "      <td>NaN</td>\n",
              "      <td>NaN</td>\n",
              "      <td>debt_consolidation</td>\n",
              "      <td>Debt consolidation</td>\n",
              "      <td>713xx</td>\n",
              "      <td>LA</td>\n",
              "      <td>26.52</td>\n",
              "      <td>0.0</td>\n",
              "      <td>Jun-1987</td>\n",
              "      <td>0.0</td>\n",
              "      <td>71.0</td>\n",
              "      <td>75.0</td>\n",
              "      <td>13.0</td>\n",
              "      <td>1.0</td>\n",
              "      <td>12315</td>\n",
              "      <td>24.2</td>\n",
              "      <td>44.0</td>\n",
              "      <td>w</td>\n",
              "      <td>29387.75</td>\n",
              "      <td>29387.75</td>\n",
              "      <td>1507.11</td>\n",
              "      <td>1507.11</td>\n",
              "      <td>...</td>\n",
              "      <td>1.0</td>\n",
              "      <td>0.0</td>\n",
              "      <td>372872.0</td>\n",
              "      <td>99468.0</td>\n",
              "      <td>15000.0</td>\n",
              "      <td>94072.0</td>\n",
              "      <td>NaN</td>\n",
              "      <td>NaN</td>\n",
              "      <td>NaN</td>\n",
              "      <td>NaN</td>\n",
              "      <td>NaN</td>\n",
              "      <td>NaN</td>\n",
              "      <td>NaN</td>\n",
              "      <td>NaN</td>\n",
              "      <td>NaN</td>\n",
              "      <td>NaN</td>\n",
              "      <td>NaN</td>\n",
              "      <td>N</td>\n",
              "      <td>NaN</td>\n",
              "      <td>NaN</td>\n",
              "      <td>NaN</td>\n",
              "      <td>NaN</td>\n",
              "      <td>NaN</td>\n",
              "      <td>NaN</td>\n",
              "      <td>NaN</td>\n",
              "      <td>NaN</td>\n",
              "      <td>NaN</td>\n",
              "      <td>NaN</td>\n",
              "      <td>NaN</td>\n",
              "      <td>NaN</td>\n",
              "      <td>NaN</td>\n",
              "      <td>NaN</td>\n",
              "      <td>Cash</td>\n",
              "      <td>N</td>\n",
              "      <td>NaN</td>\n",
              "      <td>NaN</td>\n",
              "      <td>NaN</td>\n",
              "      <td>NaN</td>\n",
              "      <td>NaN</td>\n",
              "      <td>NaN</td>\n",
              "    </tr>\n",
              "    <tr>\n",
              "      <th>2</th>\n",
              "      <td>NaN</td>\n",
              "      <td>NaN</td>\n",
              "      <td>5000</td>\n",
              "      <td>5000</td>\n",
              "      <td>5000.0</td>\n",
              "      <td>36 months</td>\n",
              "      <td>17.97</td>\n",
              "      <td>180.69</td>\n",
              "      <td>D</td>\n",
              "      <td>D1</td>\n",
              "      <td>Administrative</td>\n",
              "      <td>6 years</td>\n",
              "      <td>MORTGAGE</td>\n",
              "      <td>59280.0</td>\n",
              "      <td>Source Verified</td>\n",
              "      <td>Dec-2018</td>\n",
              "      <td>Current</td>\n",
              "      <td>n</td>\n",
              "      <td>NaN</td>\n",
              "      <td>NaN</td>\n",
              "      <td>debt_consolidation</td>\n",
              "      <td>Debt consolidation</td>\n",
              "      <td>490xx</td>\n",
              "      <td>MI</td>\n",
              "      <td>10.51</td>\n",
              "      <td>0.0</td>\n",
              "      <td>Apr-2011</td>\n",
              "      <td>0.0</td>\n",
              "      <td>NaN</td>\n",
              "      <td>NaN</td>\n",
              "      <td>8.0</td>\n",
              "      <td>0.0</td>\n",
              "      <td>4599</td>\n",
              "      <td>19.1</td>\n",
              "      <td>13.0</td>\n",
              "      <td>w</td>\n",
              "      <td>4787.21</td>\n",
              "      <td>4787.21</td>\n",
              "      <td>353.89</td>\n",
              "      <td>353.89</td>\n",
              "      <td>...</td>\n",
              "      <td>0.0</td>\n",
              "      <td>0.0</td>\n",
              "      <td>136927.0</td>\n",
              "      <td>11749.0</td>\n",
              "      <td>13800.0</td>\n",
              "      <td>10000.0</td>\n",
              "      <td>NaN</td>\n",
              "      <td>NaN</td>\n",
              "      <td>NaN</td>\n",
              "      <td>NaN</td>\n",
              "      <td>NaN</td>\n",
              "      <td>NaN</td>\n",
              "      <td>NaN</td>\n",
              "      <td>NaN</td>\n",
              "      <td>NaN</td>\n",
              "      <td>NaN</td>\n",
              "      <td>NaN</td>\n",
              "      <td>N</td>\n",
              "      <td>NaN</td>\n",
              "      <td>NaN</td>\n",
              "      <td>NaN</td>\n",
              "      <td>NaN</td>\n",
              "      <td>NaN</td>\n",
              "      <td>NaN</td>\n",
              "      <td>NaN</td>\n",
              "      <td>NaN</td>\n",
              "      <td>NaN</td>\n",
              "      <td>NaN</td>\n",
              "      <td>NaN</td>\n",
              "      <td>NaN</td>\n",
              "      <td>NaN</td>\n",
              "      <td>NaN</td>\n",
              "      <td>Cash</td>\n",
              "      <td>N</td>\n",
              "      <td>NaN</td>\n",
              "      <td>NaN</td>\n",
              "      <td>NaN</td>\n",
              "      <td>NaN</td>\n",
              "      <td>NaN</td>\n",
              "      <td>NaN</td>\n",
              "    </tr>\n",
              "    <tr>\n",
              "      <th>3</th>\n",
              "      <td>NaN</td>\n",
              "      <td>NaN</td>\n",
              "      <td>4000</td>\n",
              "      <td>4000</td>\n",
              "      <td>4000.0</td>\n",
              "      <td>36 months</td>\n",
              "      <td>18.94</td>\n",
              "      <td>146.51</td>\n",
              "      <td>D</td>\n",
              "      <td>D2</td>\n",
              "      <td>IT Supervisor</td>\n",
              "      <td>10+ years</td>\n",
              "      <td>MORTGAGE</td>\n",
              "      <td>92000.0</td>\n",
              "      <td>Source Verified</td>\n",
              "      <td>Dec-2018</td>\n",
              "      <td>Current</td>\n",
              "      <td>n</td>\n",
              "      <td>NaN</td>\n",
              "      <td>NaN</td>\n",
              "      <td>debt_consolidation</td>\n",
              "      <td>Debt consolidation</td>\n",
              "      <td>985xx</td>\n",
              "      <td>WA</td>\n",
              "      <td>16.74</td>\n",
              "      <td>0.0</td>\n",
              "      <td>Feb-2006</td>\n",
              "      <td>0.0</td>\n",
              "      <td>NaN</td>\n",
              "      <td>NaN</td>\n",
              "      <td>10.0</td>\n",
              "      <td>0.0</td>\n",
              "      <td>5468</td>\n",
              "      <td>78.1</td>\n",
              "      <td>13.0</td>\n",
              "      <td>w</td>\n",
              "      <td>3831.93</td>\n",
              "      <td>3831.93</td>\n",
              "      <td>286.71</td>\n",
              "      <td>286.71</td>\n",
              "      <td>...</td>\n",
              "      <td>0.0</td>\n",
              "      <td>0.0</td>\n",
              "      <td>385183.0</td>\n",
              "      <td>36151.0</td>\n",
              "      <td>5000.0</td>\n",
              "      <td>44984.0</td>\n",
              "      <td>NaN</td>\n",
              "      <td>NaN</td>\n",
              "      <td>NaN</td>\n",
              "      <td>NaN</td>\n",
              "      <td>NaN</td>\n",
              "      <td>NaN</td>\n",
              "      <td>NaN</td>\n",
              "      <td>NaN</td>\n",
              "      <td>NaN</td>\n",
              "      <td>NaN</td>\n",
              "      <td>NaN</td>\n",
              "      <td>N</td>\n",
              "      <td>NaN</td>\n",
              "      <td>NaN</td>\n",
              "      <td>NaN</td>\n",
              "      <td>NaN</td>\n",
              "      <td>NaN</td>\n",
              "      <td>NaN</td>\n",
              "      <td>NaN</td>\n",
              "      <td>NaN</td>\n",
              "      <td>NaN</td>\n",
              "      <td>NaN</td>\n",
              "      <td>NaN</td>\n",
              "      <td>NaN</td>\n",
              "      <td>NaN</td>\n",
              "      <td>NaN</td>\n",
              "      <td>Cash</td>\n",
              "      <td>N</td>\n",
              "      <td>NaN</td>\n",
              "      <td>NaN</td>\n",
              "      <td>NaN</td>\n",
              "      <td>NaN</td>\n",
              "      <td>NaN</td>\n",
              "      <td>NaN</td>\n",
              "    </tr>\n",
              "    <tr>\n",
              "      <th>4</th>\n",
              "      <td>NaN</td>\n",
              "      <td>NaN</td>\n",
              "      <td>30000</td>\n",
              "      <td>30000</td>\n",
              "      <td>30000.0</td>\n",
              "      <td>60 months</td>\n",
              "      <td>16.14</td>\n",
              "      <td>731.78</td>\n",
              "      <td>C</td>\n",
              "      <td>C4</td>\n",
              "      <td>Mechanic</td>\n",
              "      <td>10+ years</td>\n",
              "      <td>MORTGAGE</td>\n",
              "      <td>57250.0</td>\n",
              "      <td>Not Verified</td>\n",
              "      <td>Dec-2018</td>\n",
              "      <td>Current</td>\n",
              "      <td>n</td>\n",
              "      <td>NaN</td>\n",
              "      <td>NaN</td>\n",
              "      <td>debt_consolidation</td>\n",
              "      <td>Debt consolidation</td>\n",
              "      <td>212xx</td>\n",
              "      <td>MD</td>\n",
              "      <td>26.35</td>\n",
              "      <td>0.0</td>\n",
              "      <td>Dec-2000</td>\n",
              "      <td>0.0</td>\n",
              "      <td>NaN</td>\n",
              "      <td>NaN</td>\n",
              "      <td>12.0</td>\n",
              "      <td>0.0</td>\n",
              "      <td>829</td>\n",
              "      <td>3.6</td>\n",
              "      <td>26.0</td>\n",
              "      <td>w</td>\n",
              "      <td>29339.02</td>\n",
              "      <td>29339.02</td>\n",
              "      <td>1423.21</td>\n",
              "      <td>1423.21</td>\n",
              "      <td>...</td>\n",
              "      <td>0.0</td>\n",
              "      <td>0.0</td>\n",
              "      <td>157548.0</td>\n",
              "      <td>29674.0</td>\n",
              "      <td>9300.0</td>\n",
              "      <td>32332.0</td>\n",
              "      <td>NaN</td>\n",
              "      <td>NaN</td>\n",
              "      <td>NaN</td>\n",
              "      <td>NaN</td>\n",
              "      <td>NaN</td>\n",
              "      <td>NaN</td>\n",
              "      <td>NaN</td>\n",
              "      <td>NaN</td>\n",
              "      <td>NaN</td>\n",
              "      <td>NaN</td>\n",
              "      <td>NaN</td>\n",
              "      <td>N</td>\n",
              "      <td>NaN</td>\n",
              "      <td>NaN</td>\n",
              "      <td>NaN</td>\n",
              "      <td>NaN</td>\n",
              "      <td>NaN</td>\n",
              "      <td>NaN</td>\n",
              "      <td>NaN</td>\n",
              "      <td>NaN</td>\n",
              "      <td>NaN</td>\n",
              "      <td>NaN</td>\n",
              "      <td>NaN</td>\n",
              "      <td>NaN</td>\n",
              "      <td>NaN</td>\n",
              "      <td>NaN</td>\n",
              "      <td>Cash</td>\n",
              "      <td>N</td>\n",
              "      <td>NaN</td>\n",
              "      <td>NaN</td>\n",
              "      <td>NaN</td>\n",
              "      <td>NaN</td>\n",
              "      <td>NaN</td>\n",
              "      <td>NaN</td>\n",
              "    </tr>\n",
              "  </tbody>\n",
              "</table>\n",
              "<p>5 rows × 145 columns</p>\n",
              "</div>"
            ],
            "text/plain": [
              "   id  member_id  ...  settlement_percentage  settlement_term\n",
              "0 NaN        NaN  ...                    NaN              NaN\n",
              "1 NaN        NaN  ...                    NaN              NaN\n",
              "2 NaN        NaN  ...                    NaN              NaN\n",
              "3 NaN        NaN  ...                    NaN              NaN\n",
              "4 NaN        NaN  ...                    NaN              NaN\n",
              "\n",
              "[5 rows x 145 columns]"
            ]
          },
          "metadata": {
            "tags": []
          },
          "execution_count": 60
        }
      ]
    },
    {
      "cell_type": "code",
      "metadata": {
        "id": "cEFFs9jD3jww",
        "colab_type": "code",
        "outputId": "a731fbc1-a65b-4031-8204-de0311c68d0e",
        "colab": {
          "base_uri": "https://localhost:8080/",
          "height": 102
        }
      },
      "source": [
        "data.info()"
      ],
      "execution_count": 24,
      "outputs": [
        {
          "output_type": "stream",
          "text": [
            "<class 'pandas.core.frame.DataFrame'>\n",
            "RangeIndex: 1310173 entries, 0 to 1310172\n",
            "Columns: 145 entries, id to settlement_term\n",
            "dtypes: float64(107), int64(2), object(36)\n",
            "memory usage: 1.4+ GB\n"
          ],
          "name": "stdout"
        }
      ]
    },
    {
      "cell_type": "code",
      "metadata": {
        "id": "C0t5uZjm3YVi",
        "colab_type": "code",
        "outputId": "cd52c1db-6dd2-47c4-9384-abf313f38a6c",
        "colab": {
          "base_uri": "https://localhost:8080/",
          "height": 34
        }
      },
      "source": [
        "data.shape"
      ],
      "execution_count": 25,
      "outputs": [
        {
          "output_type": "execute_result",
          "data": {
            "text/plain": [
              "(1310173, 145)"
            ]
          },
          "metadata": {
            "tags": []
          },
          "execution_count": 25
        }
      ]
    },
    {
      "cell_type": "code",
      "metadata": {
        "id": "rLHeMucgwB09",
        "colab_type": "code",
        "outputId": "958726b8-18c2-4430-ccad-765008212ff6",
        "colab": {
          "base_uri": "https://localhost:8080/",
          "height": 346
        }
      },
      "source": [
        "data.describe()"
      ],
      "execution_count": 26,
      "outputs": [
        {
          "output_type": "execute_result",
          "data": {
            "text/html": [
              "<div>\n",
              "<style scoped>\n",
              "    .dataframe tbody tr th:only-of-type {\n",
              "        vertical-align: middle;\n",
              "    }\n",
              "\n",
              "    .dataframe tbody tr th {\n",
              "        vertical-align: top;\n",
              "    }\n",
              "\n",
              "    .dataframe thead th {\n",
              "        text-align: right;\n",
              "    }\n",
              "</style>\n",
              "<table border=\"1\" class=\"dataframe\">\n",
              "  <thead>\n",
              "    <tr style=\"text-align: right;\">\n",
              "      <th></th>\n",
              "      <th>id</th>\n",
              "      <th>member_id</th>\n",
              "      <th>loan_amnt</th>\n",
              "      <th>funded_amnt</th>\n",
              "      <th>funded_amnt_inv</th>\n",
              "      <th>int_rate</th>\n",
              "      <th>installment</th>\n",
              "      <th>annual_inc</th>\n",
              "      <th>url</th>\n",
              "      <th>dti</th>\n",
              "      <th>delinq_2yrs</th>\n",
              "      <th>inq_last_6mths</th>\n",
              "      <th>mths_since_last_delinq</th>\n",
              "      <th>mths_since_last_record</th>\n",
              "      <th>open_acc</th>\n",
              "      <th>pub_rec</th>\n",
              "      <th>revol_bal</th>\n",
              "      <th>revol_util</th>\n",
              "      <th>total_acc</th>\n",
              "      <th>out_prncp</th>\n",
              "      <th>out_prncp_inv</th>\n",
              "      <th>total_pymnt</th>\n",
              "      <th>total_pymnt_inv</th>\n",
              "      <th>total_rec_prncp</th>\n",
              "      <th>total_rec_int</th>\n",
              "      <th>total_rec_late_fee</th>\n",
              "      <th>recoveries</th>\n",
              "      <th>collection_recovery_fee</th>\n",
              "      <th>last_pymnt_amnt</th>\n",
              "      <th>collections_12_mths_ex_med</th>\n",
              "      <th>mths_since_last_major_derog</th>\n",
              "      <th>policy_code</th>\n",
              "      <th>annual_inc_joint</th>\n",
              "      <th>dti_joint</th>\n",
              "      <th>acc_now_delinq</th>\n",
              "      <th>tot_coll_amt</th>\n",
              "      <th>tot_cur_bal</th>\n",
              "      <th>open_acc_6m</th>\n",
              "      <th>open_act_il</th>\n",
              "      <th>open_il_12m</th>\n",
              "      <th>...</th>\n",
              "      <th>num_actv_rev_tl</th>\n",
              "      <th>num_bc_sats</th>\n",
              "      <th>num_bc_tl</th>\n",
              "      <th>num_il_tl</th>\n",
              "      <th>num_op_rev_tl</th>\n",
              "      <th>num_rev_accts</th>\n",
              "      <th>num_rev_tl_bal_gt_0</th>\n",
              "      <th>num_sats</th>\n",
              "      <th>num_tl_120dpd_2m</th>\n",
              "      <th>num_tl_30dpd</th>\n",
              "      <th>num_tl_90g_dpd_24m</th>\n",
              "      <th>num_tl_op_past_12m</th>\n",
              "      <th>pct_tl_nvr_dlq</th>\n",
              "      <th>percent_bc_gt_75</th>\n",
              "      <th>pub_rec_bankruptcies</th>\n",
              "      <th>tax_liens</th>\n",
              "      <th>tot_hi_cred_lim</th>\n",
              "      <th>total_bal_ex_mort</th>\n",
              "      <th>total_bc_limit</th>\n",
              "      <th>total_il_high_credit_limit</th>\n",
              "      <th>revol_bal_joint</th>\n",
              "      <th>sec_app_inq_last_6mths</th>\n",
              "      <th>sec_app_mort_acc</th>\n",
              "      <th>sec_app_open_acc</th>\n",
              "      <th>sec_app_revol_util</th>\n",
              "      <th>sec_app_open_act_il</th>\n",
              "      <th>sec_app_num_rev_accts</th>\n",
              "      <th>sec_app_chargeoff_within_12_mths</th>\n",
              "      <th>sec_app_collections_12_mths_ex_med</th>\n",
              "      <th>sec_app_mths_since_last_major_derog</th>\n",
              "      <th>deferral_term</th>\n",
              "      <th>hardship_amount</th>\n",
              "      <th>hardship_length</th>\n",
              "      <th>hardship_dpd</th>\n",
              "      <th>orig_projected_additional_accrued_interest</th>\n",
              "      <th>hardship_payoff_balance_amount</th>\n",
              "      <th>hardship_last_payment_amount</th>\n",
              "      <th>settlement_amount</th>\n",
              "      <th>settlement_percentage</th>\n",
              "      <th>settlement_term</th>\n",
              "    </tr>\n",
              "  </thead>\n",
              "  <tbody>\n",
              "    <tr>\n",
              "      <th>count</th>\n",
              "      <td>0.0</td>\n",
              "      <td>0.0</td>\n",
              "      <td>1.310173e+06</td>\n",
              "      <td>1.310173e+06</td>\n",
              "      <td>1.310173e+06</td>\n",
              "      <td>1.310173e+06</td>\n",
              "      <td>1.310173e+06</td>\n",
              "      <td>1.310173e+06</td>\n",
              "      <td>0.0</td>\n",
              "      <td>1.308975e+06</td>\n",
              "      <td>1.310172e+06</td>\n",
              "      <td>1.310171e+06</td>\n",
              "      <td>644285.000000</td>\n",
              "      <td>213310.000000</td>\n",
              "      <td>1.310172e+06</td>\n",
              "      <td>1.310172e+06</td>\n",
              "      <td>1.310172e+06</td>\n",
              "      <td>1.309167e+06</td>\n",
              "      <td>1.310172e+06</td>\n",
              "      <td>1.310172e+06</td>\n",
              "      <td>1.310172e+06</td>\n",
              "      <td>1.310172e+06</td>\n",
              "      <td>1.310172e+06</td>\n",
              "      <td>1.310172e+06</td>\n",
              "      <td>1.310172e+06</td>\n",
              "      <td>1.310172e+06</td>\n",
              "      <td>1.310172e+06</td>\n",
              "      <td>1.310172e+06</td>\n",
              "      <td>1.310172e+06</td>\n",
              "      <td>1.310172e+06</td>\n",
              "      <td>351419.000000</td>\n",
              "      <td>1310172.0</td>\n",
              "      <td>7.828500e+04</td>\n",
              "      <td>78281.000000</td>\n",
              "      <td>1.310172e+06</td>\n",
              "      <td>1.310172e+06</td>\n",
              "      <td>1.310172e+06</td>\n",
              "      <td>950959.000000</td>\n",
              "      <td>950960.000000</td>\n",
              "      <td>950960.000000</td>\n",
              "      <td>...</td>\n",
              "      <td>1.310172e+06</td>\n",
              "      <td>1.310172e+06</td>\n",
              "      <td>1.310172e+06</td>\n",
              "      <td>1.310172e+06</td>\n",
              "      <td>1.310172e+06</td>\n",
              "      <td>1.310171e+06</td>\n",
              "      <td>1.310172e+06</td>\n",
              "      <td>1.310172e+06</td>\n",
              "      <td>1.258141e+06</td>\n",
              "      <td>1.310172e+06</td>\n",
              "      <td>1.310172e+06</td>\n",
              "      <td>1.310172e+06</td>\n",
              "      <td>1.310170e+06</td>\n",
              "      <td>1.295109e+06</td>\n",
              "      <td>1.310172e+06</td>\n",
              "      <td>1.310172e+06</td>\n",
              "      <td>1.310172e+06</td>\n",
              "      <td>1.310172e+06</td>\n",
              "      <td>1.310172e+06</td>\n",
              "      <td>1.310172e+06</td>\n",
              "      <td>6.898500e+04</td>\n",
              "      <td>68985.000000</td>\n",
              "      <td>68985.000000</td>\n",
              "      <td>68985.000000</td>\n",
              "      <td>67788.000000</td>\n",
              "      <td>68985.000000</td>\n",
              "      <td>68985.000000</td>\n",
              "      <td>68985.000000</td>\n",
              "      <td>68985.000000</td>\n",
              "      <td>22377.000000</td>\n",
              "      <td>7116.0</td>\n",
              "      <td>7116.000000</td>\n",
              "      <td>7116.0</td>\n",
              "      <td>7116.000000</td>\n",
              "      <td>5614.000000</td>\n",
              "      <td>7116.000000</td>\n",
              "      <td>7116.000000</td>\n",
              "      <td>21739.000000</td>\n",
              "      <td>21739.000000</td>\n",
              "      <td>21739.000000</td>\n",
              "    </tr>\n",
              "    <tr>\n",
              "      <th>mean</th>\n",
              "      <td>NaN</td>\n",
              "      <td>NaN</td>\n",
              "      <td>1.536886e+04</td>\n",
              "      <td>1.536884e+04</td>\n",
              "      <td>1.536363e+04</td>\n",
              "      <td>1.278063e+01</td>\n",
              "      <td>4.518380e+02</td>\n",
              "      <td>7.903220e+04</td>\n",
              "      <td>NaN</td>\n",
              "      <td>1.925419e+01</td>\n",
              "      <td>3.071940e-01</td>\n",
              "      <td>5.188262e-01</td>\n",
              "      <td>34.849504</td>\n",
              "      <td>71.708598</td>\n",
              "      <td>1.175597e+01</td>\n",
              "      <td>2.035908e-01</td>\n",
              "      <td>1.690450e+04</td>\n",
              "      <td>4.896432e+01</td>\n",
              "      <td>2.407538e+01</td>\n",
              "      <td>5.605610e+03</td>\n",
              "      <td>5.604384e+03</td>\n",
              "      <td>1.080711e+04</td>\n",
              "      <td>1.080282e+04</td>\n",
              "      <td>8.536689e+03</td>\n",
              "      <td>2.142070e+03</td>\n",
              "      <td>1.473783e+00</td>\n",
              "      <td>1.268757e+02</td>\n",
              "      <td>2.242903e+01</td>\n",
              "      <td>3.115441e+03</td>\n",
              "      <td>1.990426e-02</td>\n",
              "      <td>44.771313</td>\n",
              "      <td>1.0</td>\n",
              "      <td>1.263487e+05</td>\n",
              "      <td>19.232127</td>\n",
              "      <td>4.016267e-03</td>\n",
              "      <td>2.459284e+02</td>\n",
              "      <td>1.426844e+05</td>\n",
              "      <td>0.950893</td>\n",
              "      <td>2.763654</td>\n",
              "      <td>0.699295</td>\n",
              "      <td>...</td>\n",
              "      <td>5.624758e+00</td>\n",
              "      <td>4.809707e+00</td>\n",
              "      <td>7.566266e+00</td>\n",
              "      <td>8.465263e+00</td>\n",
              "      <td>8.293813e+00</td>\n",
              "      <td>1.386421e+01</td>\n",
              "      <td>5.571556e+00</td>\n",
              "      <td>1.171482e+01</td>\n",
              "      <td>5.539920e-04</td>\n",
              "      <td>2.676748e-03</td>\n",
              "      <td>8.159234e-02</td>\n",
              "      <td>2.137948e+00</td>\n",
              "      <td>9.406652e+01</td>\n",
              "      <td>4.042975e+01</td>\n",
              "      <td>1.326688e-01</td>\n",
              "      <td>4.717625e-02</td>\n",
              "      <td>1.796120e+05</td>\n",
              "      <td>5.225202e+04</td>\n",
              "      <td>2.388527e+04</td>\n",
              "      <td>4.491566e+04</td>\n",
              "      <td>3.475705e+04</td>\n",
              "      <td>0.607538</td>\n",
              "      <td>1.538189</td>\n",
              "      <td>11.486497</td>\n",
              "      <td>57.108528</td>\n",
              "      <td>2.998043</td>\n",
              "      <td>12.517707</td>\n",
              "      <td>0.041748</td>\n",
              "      <td>0.070943</td>\n",
              "      <td>37.326183</td>\n",
              "      <td>3.0</td>\n",
              "      <td>143.857598</td>\n",
              "      <td>3.0</td>\n",
              "      <td>13.809444</td>\n",
              "      <td>421.293981</td>\n",
              "      <td>10941.603096</td>\n",
              "      <td>184.506336</td>\n",
              "      <td>5034.702076</td>\n",
              "      <td>47.633525</td>\n",
              "      <td>13.954644</td>\n",
              "    </tr>\n",
              "    <tr>\n",
              "      <th>std</th>\n",
              "      <td>NaN</td>\n",
              "      <td>NaN</td>\n",
              "      <td>9.346530e+03</td>\n",
              "      <td>9.346532e+03</td>\n",
              "      <td>9.344858e+03</td>\n",
              "      <td>4.852437e+00</td>\n",
              "      <td>2.701846e+02</td>\n",
              "      <td>8.114760e+04</td>\n",
              "      <td>NaN</td>\n",
              "      <td>1.473392e+01</td>\n",
              "      <td>8.729961e-01</td>\n",
              "      <td>8.161617e-01</td>\n",
              "      <td>21.946060</td>\n",
              "      <td>25.519617</td>\n",
              "      <td>5.802250e+00</td>\n",
              "      <td>5.799315e-01</td>\n",
              "      <td>2.364499e+04</td>\n",
              "      <td>2.473765e+01</td>\n",
              "      <td>1.212795e+01</td>\n",
              "      <td>8.427518e+03</td>\n",
              "      <td>8.426595e+03</td>\n",
              "      <td>9.734906e+03</td>\n",
              "      <td>9.731252e+03</td>\n",
              "      <td>8.312221e+03</td>\n",
              "      <td>2.460390e+03</td>\n",
              "      <td>1.197868e+01</td>\n",
              "      <td>7.084684e+02</td>\n",
              "      <td>1.263756e+02</td>\n",
              "      <td>5.854942e+03</td>\n",
              "      <td>1.582795e-01</td>\n",
              "      <td>21.607559</td>\n",
              "      <td>0.0</td>\n",
              "      <td>8.120669e+04</td>\n",
              "      <td>7.977080</td>\n",
              "      <td>6.896206e-02</td>\n",
              "      <td>7.398293e+03</td>\n",
              "      <td>1.618603e+05</td>\n",
              "      <td>1.155414</td>\n",
              "      <td>2.990333</td>\n",
              "      <td>0.952661</td>\n",
              "      <td>...</td>\n",
              "      <td>3.458782e+00</td>\n",
              "      <td>3.125124e+00</td>\n",
              "      <td>4.673306e+00</td>\n",
              "      <td>7.440939e+00</td>\n",
              "      <td>4.802693e+00</td>\n",
              "      <td>8.118676e+00</td>\n",
              "      <td>3.361105e+00</td>\n",
              "      <td>5.785945e+00</td>\n",
              "      <td>2.506789e-02</td>\n",
              "      <td>5.503014e-02</td>\n",
              "      <td>4.935601e-01</td>\n",
              "      <td>1.899816e+00</td>\n",
              "      <td>9.115488e+00</td>\n",
              "      <td>3.624776e+01</td>\n",
              "      <td>3.722440e-01</td>\n",
              "      <td>3.812517e-01</td>\n",
              "      <td>1.833584e+05</td>\n",
              "      <td>5.107517e+04</td>\n",
              "      <td>2.363992e+04</td>\n",
              "      <td>4.601480e+04</td>\n",
              "      <td>2.959911e+04</td>\n",
              "      <td>0.969398</td>\n",
              "      <td>1.766506</td>\n",
              "      <td>6.670732</td>\n",
              "      <td>25.836450</td>\n",
              "      <td>3.236424</td>\n",
              "      <td>8.211074</td>\n",
              "      <td>0.390470</td>\n",
              "      <td>0.393264</td>\n",
              "      <td>23.803320</td>\n",
              "      <td>0.0</td>\n",
              "      <td>120.111358</td>\n",
              "      <td>0.0</td>\n",
              "      <td>9.762518</td>\n",
              "      <td>350.318583</td>\n",
              "      <td>7120.431628</td>\n",
              "      <td>190.957741</td>\n",
              "      <td>3651.394506</td>\n",
              "      <td>6.203744</td>\n",
              "      <td>7.445441</td>\n",
              "    </tr>\n",
              "    <tr>\n",
              "      <th>min</th>\n",
              "      <td>NaN</td>\n",
              "      <td>NaN</td>\n",
              "      <td>1.000000e+03</td>\n",
              "      <td>1.000000e+03</td>\n",
              "      <td>7.250000e+02</td>\n",
              "      <td>5.310000e+00</td>\n",
              "      <td>1.477000e+01</td>\n",
              "      <td>0.000000e+00</td>\n",
              "      <td>NaN</td>\n",
              "      <td>-1.000000e+00</td>\n",
              "      <td>0.000000e+00</td>\n",
              "      <td>0.000000e+00</td>\n",
              "      <td>0.000000</td>\n",
              "      <td>0.000000</td>\n",
              "      <td>0.000000e+00</td>\n",
              "      <td>0.000000e+00</td>\n",
              "      <td>0.000000e+00</td>\n",
              "      <td>0.000000e+00</td>\n",
              "      <td>2.000000e+00</td>\n",
              "      <td>0.000000e+00</td>\n",
              "      <td>0.000000e+00</td>\n",
              "      <td>0.000000e+00</td>\n",
              "      <td>0.000000e+00</td>\n",
              "      <td>0.000000e+00</td>\n",
              "      <td>0.000000e+00</td>\n",
              "      <td>-9.500000e-09</td>\n",
              "      <td>0.000000e+00</td>\n",
              "      <td>0.000000e+00</td>\n",
              "      <td>0.000000e+00</td>\n",
              "      <td>0.000000e+00</td>\n",
              "      <td>0.000000</td>\n",
              "      <td>1.0</td>\n",
              "      <td>5.693510e+03</td>\n",
              "      <td>0.000000</td>\n",
              "      <td>0.000000e+00</td>\n",
              "      <td>0.000000e+00</td>\n",
              "      <td>0.000000e+00</td>\n",
              "      <td>0.000000</td>\n",
              "      <td>0.000000</td>\n",
              "      <td>0.000000</td>\n",
              "      <td>...</td>\n",
              "      <td>0.000000e+00</td>\n",
              "      <td>0.000000e+00</td>\n",
              "      <td>0.000000e+00</td>\n",
              "      <td>0.000000e+00</td>\n",
              "      <td>0.000000e+00</td>\n",
              "      <td>2.000000e+00</td>\n",
              "      <td>0.000000e+00</td>\n",
              "      <td>0.000000e+00</td>\n",
              "      <td>0.000000e+00</td>\n",
              "      <td>0.000000e+00</td>\n",
              "      <td>0.000000e+00</td>\n",
              "      <td>0.000000e+00</td>\n",
              "      <td>0.000000e+00</td>\n",
              "      <td>0.000000e+00</td>\n",
              "      <td>0.000000e+00</td>\n",
              "      <td>0.000000e+00</td>\n",
              "      <td>0.000000e+00</td>\n",
              "      <td>0.000000e+00</td>\n",
              "      <td>0.000000e+00</td>\n",
              "      <td>0.000000e+00</td>\n",
              "      <td>0.000000e+00</td>\n",
              "      <td>0.000000</td>\n",
              "      <td>0.000000</td>\n",
              "      <td>0.000000</td>\n",
              "      <td>0.000000</td>\n",
              "      <td>0.000000</td>\n",
              "      <td>0.000000</td>\n",
              "      <td>0.000000</td>\n",
              "      <td>0.000000</td>\n",
              "      <td>0.000000</td>\n",
              "      <td>3.0</td>\n",
              "      <td>0.640000</td>\n",
              "      <td>3.0</td>\n",
              "      <td>0.000000</td>\n",
              "      <td>1.920000</td>\n",
              "      <td>55.730000</td>\n",
              "      <td>0.010000</td>\n",
              "      <td>107.000000</td>\n",
              "      <td>0.450000</td>\n",
              "      <td>0.000000</td>\n",
              "    </tr>\n",
              "    <tr>\n",
              "      <th>25%</th>\n",
              "      <td>NaN</td>\n",
              "      <td>NaN</td>\n",
              "      <td>8.000000e+03</td>\n",
              "      <td>8.000000e+03</td>\n",
              "      <td>8.000000e+03</td>\n",
              "      <td>9.160000e+00</td>\n",
              "      <td>2.550000e+02</td>\n",
              "      <td>4.700000e+04</td>\n",
              "      <td>NaN</td>\n",
              "      <td>1.207000e+01</td>\n",
              "      <td>0.000000e+00</td>\n",
              "      <td>0.000000e+00</td>\n",
              "      <td>16.000000</td>\n",
              "      <td>55.000000</td>\n",
              "      <td>8.000000e+00</td>\n",
              "      <td>0.000000e+00</td>\n",
              "      <td>5.880000e+03</td>\n",
              "      <td>3.000000e+01</td>\n",
              "      <td>1.500000e+01</td>\n",
              "      <td>0.000000e+00</td>\n",
              "      <td>0.000000e+00</td>\n",
              "      <td>3.186460e+03</td>\n",
              "      <td>3.184708e+03</td>\n",
              "      <td>2.012980e+03</td>\n",
              "      <td>5.896975e+02</td>\n",
              "      <td>0.000000e+00</td>\n",
              "      <td>0.000000e+00</td>\n",
              "      <td>0.000000e+00</td>\n",
              "      <td>3.049100e+02</td>\n",
              "      <td>0.000000e+00</td>\n",
              "      <td>28.000000</td>\n",
              "      <td>1.0</td>\n",
              "      <td>8.461900e+04</td>\n",
              "      <td>13.370000</td>\n",
              "      <td>0.000000e+00</td>\n",
              "      <td>0.000000e+00</td>\n",
              "      <td>2.927600e+04</td>\n",
              "      <td>0.000000</td>\n",
              "      <td>1.000000</td>\n",
              "      <td>0.000000</td>\n",
              "      <td>...</td>\n",
              "      <td>3.000000e+00</td>\n",
              "      <td>3.000000e+00</td>\n",
              "      <td>4.000000e+00</td>\n",
              "      <td>3.000000e+00</td>\n",
              "      <td>5.000000e+00</td>\n",
              "      <td>8.000000e+00</td>\n",
              "      <td>3.000000e+00</td>\n",
              "      <td>8.000000e+00</td>\n",
              "      <td>0.000000e+00</td>\n",
              "      <td>0.000000e+00</td>\n",
              "      <td>0.000000e+00</td>\n",
              "      <td>1.000000e+00</td>\n",
              "      <td>9.130000e+01</td>\n",
              "      <td>0.000000e+00</td>\n",
              "      <td>0.000000e+00</td>\n",
              "      <td>0.000000e+00</td>\n",
              "      <td>5.163800e+04</td>\n",
              "      <td>2.125800e+04</td>\n",
              "      <td>8.500000e+03</td>\n",
              "      <td>1.541600e+04</td>\n",
              "      <td>1.547700e+04</td>\n",
              "      <td>0.000000</td>\n",
              "      <td>0.000000</td>\n",
              "      <td>7.000000</td>\n",
              "      <td>38.300000</td>\n",
              "      <td>1.000000</td>\n",
              "      <td>7.000000</td>\n",
              "      <td>0.000000</td>\n",
              "      <td>0.000000</td>\n",
              "      <td>17.000000</td>\n",
              "      <td>3.0</td>\n",
              "      <td>53.940000</td>\n",
              "      <td>3.0</td>\n",
              "      <td>5.000000</td>\n",
              "      <td>159.570000</td>\n",
              "      <td>5239.557500</td>\n",
              "      <td>41.065000</td>\n",
              "      <td>2197.885000</td>\n",
              "      <td>45.000000</td>\n",
              "      <td>8.000000</td>\n",
              "    </tr>\n",
              "    <tr>\n",
              "      <th>50%</th>\n",
              "      <td>NaN</td>\n",
              "      <td>NaN</td>\n",
              "      <td>1.337500e+04</td>\n",
              "      <td>1.337500e+04</td>\n",
              "      <td>1.335000e+04</td>\n",
              "      <td>1.199000e+01</td>\n",
              "      <td>3.823900e+02</td>\n",
              "      <td>6.500000e+04</td>\n",
              "      <td>NaN</td>\n",
              "      <td>1.815000e+01</td>\n",
              "      <td>0.000000e+00</td>\n",
              "      <td>0.000000e+00</td>\n",
              "      <td>32.000000</td>\n",
              "      <td>73.000000</td>\n",
              "      <td>1.100000e+01</td>\n",
              "      <td>0.000000e+00</td>\n",
              "      <td>1.129100e+04</td>\n",
              "      <td>4.850000e+01</td>\n",
              "      <td>2.200000e+01</td>\n",
              "      <td>0.000000e+00</td>\n",
              "      <td>0.000000e+00</td>\n",
              "      <td>7.814894e+03</td>\n",
              "      <td>7.810950e+03</td>\n",
              "      <td>5.837550e+03</td>\n",
              "      <td>1.286850e+03</td>\n",
              "      <td>0.000000e+00</td>\n",
              "      <td>0.000000e+00</td>\n",
              "      <td>0.000000e+00</td>\n",
              "      <td>5.545700e+02</td>\n",
              "      <td>0.000000e+00</td>\n",
              "      <td>45.000000</td>\n",
              "      <td>1.0</td>\n",
              "      <td>1.120000e+05</td>\n",
              "      <td>18.770000</td>\n",
              "      <td>0.000000e+00</td>\n",
              "      <td>0.000000e+00</td>\n",
              "      <td>7.848900e+04</td>\n",
              "      <td>1.000000</td>\n",
              "      <td>2.000000</td>\n",
              "      <td>0.000000</td>\n",
              "      <td>...</td>\n",
              "      <td>5.000000e+00</td>\n",
              "      <td>4.000000e+00</td>\n",
              "      <td>7.000000e+00</td>\n",
              "      <td>6.000000e+00</td>\n",
              "      <td>7.000000e+00</td>\n",
              "      <td>1.200000e+01</td>\n",
              "      <td>5.000000e+00</td>\n",
              "      <td>1.100000e+01</td>\n",
              "      <td>0.000000e+00</td>\n",
              "      <td>0.000000e+00</td>\n",
              "      <td>0.000000e+00</td>\n",
              "      <td>2.000000e+00</td>\n",
              "      <td>1.000000e+02</td>\n",
              "      <td>3.330000e+01</td>\n",
              "      <td>0.000000e+00</td>\n",
              "      <td>0.000000e+00</td>\n",
              "      <td>1.145400e+05</td>\n",
              "      <td>3.877200e+04</td>\n",
              "      <td>1.680000e+04</td>\n",
              "      <td>3.367900e+04</td>\n",
              "      <td>2.735000e+04</td>\n",
              "      <td>0.000000</td>\n",
              "      <td>1.000000</td>\n",
              "      <td>10.000000</td>\n",
              "      <td>59.100000</td>\n",
              "      <td>2.000000</td>\n",
              "      <td>11.000000</td>\n",
              "      <td>0.000000</td>\n",
              "      <td>0.000000</td>\n",
              "      <td>36.000000</td>\n",
              "      <td>3.0</td>\n",
              "      <td>110.830000</td>\n",
              "      <td>3.0</td>\n",
              "      <td>15.000000</td>\n",
              "      <td>325.005000</td>\n",
              "      <td>9512.810000</td>\n",
              "      <td>123.565000</td>\n",
              "      <td>4224.000000</td>\n",
              "      <td>45.000000</td>\n",
              "      <td>15.000000</td>\n",
              "    </tr>\n",
              "    <tr>\n",
              "      <th>75%</th>\n",
              "      <td>NaN</td>\n",
              "      <td>NaN</td>\n",
              "      <td>2.000000e+04</td>\n",
              "      <td>2.000000e+04</td>\n",
              "      <td>2.000000e+04</td>\n",
              "      <td>1.559000e+01</td>\n",
              "      <td>6.032600e+02</td>\n",
              "      <td>9.500000e+04</td>\n",
              "      <td>NaN</td>\n",
              "      <td>2.507000e+01</td>\n",
              "      <td>0.000000e+00</td>\n",
              "      <td>1.000000e+00</td>\n",
              "      <td>51.000000</td>\n",
              "      <td>90.000000</td>\n",
              "      <td>1.500000e+01</td>\n",
              "      <td>0.000000e+00</td>\n",
              "      <td>2.038100e+04</td>\n",
              "      <td>6.780000e+01</td>\n",
              "      <td>3.100000e+01</td>\n",
              "      <td>9.033760e+03</td>\n",
              "      <td>9.031680e+03</td>\n",
              "      <td>1.570669e+04</td>\n",
              "      <td>1.569933e+04</td>\n",
              "      <td>1.200000e+04</td>\n",
              "      <td>2.729145e+03</td>\n",
              "      <td>0.000000e+00</td>\n",
              "      <td>0.000000e+00</td>\n",
              "      <td>0.000000e+00</td>\n",
              "      <td>2.444142e+03</td>\n",
              "      <td>0.000000e+00</td>\n",
              "      <td>63.000000</td>\n",
              "      <td>1.0</td>\n",
              "      <td>1.500000e+05</td>\n",
              "      <td>24.690000</td>\n",
              "      <td>0.000000e+00</td>\n",
              "      <td>0.000000e+00</td>\n",
              "      <td>2.130472e+05</td>\n",
              "      <td>1.000000</td>\n",
              "      <td>3.000000</td>\n",
              "      <td>1.000000</td>\n",
              "      <td>...</td>\n",
              "      <td>7.000000e+00</td>\n",
              "      <td>6.000000e+00</td>\n",
              "      <td>1.000000e+01</td>\n",
              "      <td>1.100000e+01</td>\n",
              "      <td>1.100000e+01</td>\n",
              "      <td>1.800000e+01</td>\n",
              "      <td>7.000000e+00</td>\n",
              "      <td>1.500000e+01</td>\n",
              "      <td>0.000000e+00</td>\n",
              "      <td>0.000000e+00</td>\n",
              "      <td>0.000000e+00</td>\n",
              "      <td>3.000000e+00</td>\n",
              "      <td>1.000000e+02</td>\n",
              "      <td>6.670000e+01</td>\n",
              "      <td>0.000000e+00</td>\n",
              "      <td>0.000000e+00</td>\n",
              "      <td>2.592712e+05</td>\n",
              "      <td>6.611000e+04</td>\n",
              "      <td>3.120000e+04</td>\n",
              "      <td>6.036600e+04</td>\n",
              "      <td>4.521500e+04</td>\n",
              "      <td>1.000000</td>\n",
              "      <td>2.000000</td>\n",
              "      <td>15.000000</td>\n",
              "      <td>77.800000</td>\n",
              "      <td>4.000000</td>\n",
              "      <td>17.000000</td>\n",
              "      <td>0.000000</td>\n",
              "      <td>0.000000</td>\n",
              "      <td>57.000000</td>\n",
              "      <td>3.0</td>\n",
              "      <td>198.080000</td>\n",
              "      <td>3.0</td>\n",
              "      <td>23.000000</td>\n",
              "      <td>577.800000</td>\n",
              "      <td>15253.070000</td>\n",
              "      <td>270.685000</td>\n",
              "      <td>6946.830000</td>\n",
              "      <td>50.000000</td>\n",
              "      <td>18.000000</td>\n",
              "    </tr>\n",
              "    <tr>\n",
              "      <th>max</th>\n",
              "      <td>NaN</td>\n",
              "      <td>NaN</td>\n",
              "      <td>4.000000e+04</td>\n",
              "      <td>4.000000e+04</td>\n",
              "      <td>4.000000e+04</td>\n",
              "      <td>3.099000e+01</td>\n",
              "      <td>1.670150e+03</td>\n",
              "      <td>9.930475e+06</td>\n",
              "      <td>NaN</td>\n",
              "      <td>9.990000e+02</td>\n",
              "      <td>5.800000e+01</td>\n",
              "      <td>6.000000e+00</td>\n",
              "      <td>226.000000</td>\n",
              "      <td>127.000000</td>\n",
              "      <td>1.010000e+02</td>\n",
              "      <td>8.600000e+01</td>\n",
              "      <td>2.904836e+06</td>\n",
              "      <td>1.930000e+02</td>\n",
              "      <td>1.760000e+02</td>\n",
              "      <td>4.000000e+04</td>\n",
              "      <td>4.000000e+04</td>\n",
              "      <td>5.980826e+04</td>\n",
              "      <td>5.980826e+04</td>\n",
              "      <td>4.000000e+04</td>\n",
              "      <td>2.694866e+04</td>\n",
              "      <td>1.427250e+03</td>\n",
              "      <td>3.715346e+04</td>\n",
              "      <td>6.687623e+03</td>\n",
              "      <td>4.214853e+04</td>\n",
              "      <td>2.000000e+01</td>\n",
              "      <td>226.000000</td>\n",
              "      <td>1.0</td>\n",
              "      <td>7.874821e+06</td>\n",
              "      <td>69.490000</td>\n",
              "      <td>1.400000e+01</td>\n",
              "      <td>6.214661e+06</td>\n",
              "      <td>9.971659e+06</td>\n",
              "      <td>18.000000</td>\n",
              "      <td>56.000000</td>\n",
              "      <td>25.000000</td>\n",
              "      <td>...</td>\n",
              "      <td>7.200000e+01</td>\n",
              "      <td>7.100000e+01</td>\n",
              "      <td>8.600000e+01</td>\n",
              "      <td>1.590000e+02</td>\n",
              "      <td>9.100000e+01</td>\n",
              "      <td>1.510000e+02</td>\n",
              "      <td>6.500000e+01</td>\n",
              "      <td>1.010000e+02</td>\n",
              "      <td>6.000000e+00</td>\n",
              "      <td>4.000000e+00</td>\n",
              "      <td>5.800000e+01</td>\n",
              "      <td>3.200000e+01</td>\n",
              "      <td>1.000000e+02</td>\n",
              "      <td>1.000000e+02</td>\n",
              "      <td>9.000000e+00</td>\n",
              "      <td>8.500000e+01</td>\n",
              "      <td>9.999999e+06</td>\n",
              "      <td>2.921551e+06</td>\n",
              "      <td>1.569000e+06</td>\n",
              "      <td>2.118996e+06</td>\n",
              "      <td>1.110019e+06</td>\n",
              "      <td>6.000000</td>\n",
              "      <td>27.000000</td>\n",
              "      <td>67.000000</td>\n",
              "      <td>434.300000</td>\n",
              "      <td>43.000000</td>\n",
              "      <td>106.000000</td>\n",
              "      <td>21.000000</td>\n",
              "      <td>23.000000</td>\n",
              "      <td>185.000000</td>\n",
              "      <td>3.0</td>\n",
              "      <td>845.220000</td>\n",
              "      <td>3.0</td>\n",
              "      <td>37.000000</td>\n",
              "      <td>2535.660000</td>\n",
              "      <td>40149.350000</td>\n",
              "      <td>1407.860000</td>\n",
              "      <td>30000.000000</td>\n",
              "      <td>166.670000</td>\n",
              "      <td>112.000000</td>\n",
              "    </tr>\n",
              "  </tbody>\n",
              "</table>\n",
              "<p>8 rows × 109 columns</p>\n",
              "</div>"
            ],
            "text/plain": [
              "        id  member_id  ...  settlement_percentage  settlement_term\n",
              "count  0.0        0.0  ...           21739.000000     21739.000000\n",
              "mean   NaN        NaN  ...              47.633525        13.954644\n",
              "std    NaN        NaN  ...               6.203744         7.445441\n",
              "min    NaN        NaN  ...               0.450000         0.000000\n",
              "25%    NaN        NaN  ...              45.000000         8.000000\n",
              "50%    NaN        NaN  ...              45.000000        15.000000\n",
              "75%    NaN        NaN  ...              50.000000        18.000000\n",
              "max    NaN        NaN  ...             166.670000       112.000000\n",
              "\n",
              "[8 rows x 109 columns]"
            ]
          },
          "metadata": {
            "tags": []
          },
          "execution_count": 26
        }
      ]
    },
    {
      "cell_type": "markdown",
      "metadata": {
        "id": "E42Ny9Bq3ycm",
        "colab_type": "text"
      },
      "source": [
        "##Continuous Variables"
      ]
    },
    {
      "cell_type": "code",
      "metadata": {
        "id": "iwJFytH530o5",
        "colab_type": "code",
        "outputId": "88381c27-49ee-4b30-b609-1ad3066f0940",
        "colab": {
          "base_uri": "https://localhost:8080/",
          "height": 34
        }
      },
      "source": [
        "# let's look at the values of the variable loan_amnt\n",
        "# this is the amount of money requested by the borrower\n",
        "# in US dollars\n",
        "\n",
        "data['loan_amnt'].unique()"
      ],
      "execution_count": 27,
      "outputs": [
        {
          "output_type": "execute_result",
          "data": {
            "text/plain": [
              "array([ 2500, 30000,  5000, ..., 36100,  2025, 35125])"
            ]
          },
          "metadata": {
            "tags": []
          },
          "execution_count": 27
        }
      ]
    },
    {
      "cell_type": "code",
      "metadata": {
        "id": "zETGWaS34y14",
        "colab_type": "code",
        "outputId": "44c3b7e0-dbae-487f-9f4a-40c5a0bcb038",
        "colab": {
          "base_uri": "https://localhost:8080/",
          "height": 312
        }
      },
      "source": [
        "# let's make an histogram to get familiar with the\n",
        "# distribution of the variable\n",
        "data['loan_amnt'].hist(bins=50)\n",
        "plt.title('Loan Amount Requested')\n",
        "plt.xlabel('Loan Amount')\n",
        "plt.ylabel('Number of Loans')"
      ],
      "execution_count": 28,
      "outputs": [
        {
          "output_type": "execute_result",
          "data": {
            "text/plain": [
              "Text(0, 0.5, 'Number of Loans')"
            ]
          },
          "metadata": {
            "tags": []
          },
          "execution_count": 28
        },
        {
          "output_type": "display_data",
          "data": {
            "image/png": "[encoded data removed]",
            "text/plain": [
              "<Figure size 432x288 with 1 Axes>"
            ]
          },
          "metadata": {
            "tags": []
          }
        }
      ]
    },
    {
      "cell_type": "markdown",
      "metadata": {
        "id": "BtrSCPpp6LDT",
        "colab_type": "text"
      },
      "source": [
        "\n",
        "The values of the variable vary across the entire range of the variable. This is characteristic of continuous variables.\n",
        "\n",
        "The taller bars correspond to loan sizes of 10000, 15000, 20000, and 35000. There are more loans disbursed for those loan amount values. This indicates that most people tend to ask for these loan amounts. Likely, these particular loan amounts are pre-determined and offered as such in the Lending Club website.\n",
        "\n",
        "Less frequent loan values, like 23,000 or 33,000 could be requested by people who require a specific amount of money for a definite purpose."
      ]
    },
    {
      "cell_type": "code",
      "metadata": {
        "id": "ypb8a-Dz6UKt",
        "colab_type": "code",
        "outputId": "3f4ba854-3536-471b-d061-795c4f00ba3b",
        "colab": {
          "base_uri": "https://localhost:8080/",
          "height": 312
        }
      },
      "source": [
        "data['int_rate'].hist(bins=30)\n",
        "plt.title('Interest Rate')\n",
        "plt.xlabel('Interest Rate')\n",
        "plt.ylabel('Number of Loans')"
      ],
      "execution_count": 29,
      "outputs": [
        {
          "output_type": "execute_result",
          "data": {
            "text/plain": [
              "Text(0, 0.5, 'Number of Loans')"
            ]
          },
          "metadata": {
            "tags": []
          },
          "execution_count": 29
        },
        {
          "output_type": "display_data",
          "data": {
            "image/png": "[encoded data removed]",
            "text/plain": [
              "<Figure size 432x288 with 1 Axes>"
            ]
          },
          "metadata": {
            "tags": []
          }
        }
      ]
    },
    {
      "cell_type": "markdown",
      "metadata": {
        "id": "Jk0QaxNWCzhu",
        "colab_type": "text"
      },
      "source": [
        "#### Again, we see that the values of the variable vary continuously across the variable range.\n",
        "\n"
      ]
    },
    {
      "cell_type": "code",
      "metadata": {
        "id": "uxjoTKNbVHAf",
        "colab_type": "code",
        "outputId": "a42849a7-5878-4161-9be1-2a9f261d59bc",
        "colab": {
          "base_uri": "https://localhost:8080/",
          "height": 312
        }
      },
      "source": [
        "# and now,let's explore the income declared by the customers,\n",
        "# that is, how much they earn yearly.\n",
        "\n",
        "fig = data.annual_inc.hist(bins=100)\n",
        "fig.set_xlim(0, 400000)\n",
        "fig.set_title(\"Customer's Annual Income\")\n",
        "fig.set_xlabel('Annual Income')\n",
        "fig.set_ylabel('Number of Customers')"
      ],
      "execution_count": 30,
      "outputs": [
        {
          "output_type": "execute_result",
          "data": {
            "text/plain": [
              "Text(0, 0.5, 'Number of Customers')"
            ]
          },
          "metadata": {
            "tags": []
          },
          "execution_count": 30
        },
        {
          "output_type": "display_data",
          "data": {
            "image/png": "[encoded data removed]",
            "text/plain": [
              "<Figure size 432x288 with 1 Axes>"
            ]
          },
          "metadata": {
            "tags": []
          }
        }
      ]
    },
    {
      "cell_type": "markdown",
      "metadata": {
        "id": "4ROpV4GkdsLZ",
        "colab_type": "text"
      },
      "source": [
        "\n",
        "The majority of salaries are concentrated towards values in the range 30-70 k, with only a few customers earning higher salaries. Again, the values of the variable, vary continuosly across the variable range."
      ]
    },
    {
      "cell_type": "markdown",
      "metadata": {
        "id": "gF70SWPkdzKb",
        "colab_type": "text"
      },
      "source": [
        "## Discrete Variables"
      ]
    },
    {
      "cell_type": "code",
      "metadata": {
        "id": "eRucAuVodtmu",
        "colab_type": "code",
        "outputId": "ba2b5893-f1d8-409c-9da2-67a85a9ca381",
        "colab": {
          "base_uri": "https://localhost:8080/",
          "height": 221
        }
      },
      "source": [
        "data.isnull().sum()[data.isnull().sum() > 0]"
      ],
      "execution_count": 31,
      "outputs": [
        {
          "output_type": "execute_result",
          "data": {
            "text/plain": [
              "id                       1310173\n",
              "member_id                1310173\n",
              "emp_title                 104711\n",
              "emp_length                 91709\n",
              "url                      1310173\n",
              "                          ...   \n",
              "settlement_status        1288434\n",
              "settlement_date          1288434\n",
              "settlement_amount        1288434\n",
              "settlement_percentage    1288434\n",
              "settlement_term          1288434\n",
              "Length: 130, dtype: int64"
            ]
          },
          "metadata": {
            "tags": []
          },
          "execution_count": 31
        }
      ]
    },
    {
      "cell_type": "code",
      "metadata": {
        "id": "wmoqjFj6fPi_",
        "colab_type": "code",
        "outputId": "f1a8e4f3-64a2-4133-dc48-da345faae094",
        "colab": {
          "base_uri": "https://localhost:8080/",
          "height": 153
        }
      },
      "source": [
        "data.open_acc.dropna().unique()"
      ],
      "execution_count": 32,
      "outputs": [
        {
          "output_type": "execute_result",
          "data": {
            "text/plain": [
              "array([  9.,  13.,   8.,  10.,  12.,  18.,   1.,  19.,  38.,   6.,  20.,\n",
              "        27.,   7.,   4.,  14.,  17.,   5.,  11.,   3.,  16.,  15.,  24.,\n",
              "        23.,  26.,  22.,  21.,  25.,  29.,   2.,  44.,  28.,  31.,  34.,\n",
              "        32.,  30.,  35.,  41.,  36.,  40.,  33.,  45.,  43.,  37.,  59.,\n",
              "        39.,   0.,  55.,  48.,  60.,  47.,  42.,  51.,  66.,  49.,  53.,\n",
              "        57.,  50.,  46.,  54.,  61.,  63.,  68.,  52.,  64.,  62.,  69.,\n",
              "        94.,  70.,  58.,  78.,  56.,  82., 101.,  86.,  65.,  72.,  80.,\n",
              "        77.,  81.,  71.,  74.,  97.,  67.])"
            ]
          },
          "metadata": {
            "tags": []
          },
          "execution_count": 32
        }
      ]
    },
    {
      "cell_type": "code",
      "metadata": {
        "id": "aZ7yczbDfWIs",
        "colab_type": "code",
        "outputId": "81f2153b-0418-4141-f2e8-7b937252b24f",
        "colab": {
          "base_uri": "https://localhost:8080/",
          "height": 295
        }
      },
      "source": [
        "# let's make an histogram to get familiar with the\n",
        "# distribution of the variable\n",
        "data.open_acc.plot.hist(bins=200)\n",
        "plt.xlabel('Number of Open Accounts')\n",
        "plt.ylabel('Number of Customers')\n",
        "plt.title('Open Accounts vs Customers')\n",
        "plt.xlim(0, 30)\n",
        "plt.show()"
      ],
      "execution_count": 33,
      "outputs": [
        {
          "output_type": "display_data",
          "data": {
            "image/png": "[encoded data removed]",
            "text/plain": [
              "<Figure size 432x288 with 1 Axes>"
            ]
          },
          "metadata": {
            "tags": []
          }
        }
      ]
    },
    {
      "cell_type": "markdown",
      "metadata": {
        "id": "f6A4YaSRgQcV",
        "colab_type": "text"
      },
      "source": [
        "#### Histograms of discrete variables have this typical broken shape, as not all the values within the variable range are present in the variable."
      ]
    },
    {
      "cell_type": "markdown",
      "metadata": {
        "id": "BWR5P3JRgSJA",
        "colab_type": "text"
      },
      "source": [
        "**Number of installment accounts opened in past 12 months (open_il_12m in the dataset)**. \n",
        "\n",
        "Installment accounts are those that at the moment of acquiring them, there is a set period and amount of repayments agreed between the lender and borrower. An example of this is a car loan, or a student loan. The borrower knows that they are going to pay a certain, fixed amount over for example 36 months."
      ]
    },
    {
      "cell_type": "code",
      "metadata": {
        "id": "QZaYlndXg_De",
        "colab_type": "code",
        "outputId": "0fad1ce2-829c-49c6-b8ef-3aee708eaa0b",
        "colab": {
          "base_uri": "https://localhost:8080/",
          "height": 0
        }
      },
      "source": [
        "data.open_il_12m.unique()"
      ],
      "execution_count": 34,
      "outputs": [
        {
          "output_type": "execute_result",
          "data": {
            "text/plain": [
              "array([ 1.,  2.,  0.,  3.,  5.,  4.,  6.,  8.,  7., 10.,  9., 11., 12.,\n",
              "       13., 20., 21., 25., 15., 14., nan])"
            ]
          },
          "metadata": {
            "tags": []
          },
          "execution_count": 34
        }
      ]
    },
    {
      "cell_type": "code",
      "metadata": {
        "id": "SCKivYKziHun",
        "colab_type": "code",
        "outputId": "33021b32-13bc-45d1-b6cc-a5d41fa9d47f",
        "colab": {
          "base_uri": "https://localhost:8080/",
          "height": 0
        }
      },
      "source": [
        "data.open_il_12m.plot.hist(bins=50)\n",
        "plt.title('Number of installment accounts opened in past 12 months')\n",
        "plt.xlabel('Number of installment accounts opened in past 12 months')\n",
        "plt.ylabel('Number of borrowers')\n",
        "plt.xlim(0,15)\n",
        "plt.plot()"
      ],
      "execution_count": 35,
      "outputs": [
        {
          "output_type": "execute_result",
          "data": {
            "text/plain": [
              "[]"
            ]
          },
          "metadata": {
            "tags": []
          },
          "execution_count": 35
        },
        {
          "output_type": "display_data",
          "data": {
            "image/png": "[encoded data removed]",
            "text/plain": [
              "<Figure size 432x288 with 1 Axes>"
            ]
          },
          "metadata": {
            "tags": []
          }
        }
      ]
    },
    {
      "cell_type": "markdown",
      "metadata": {
        "id": "6rM9nppiitrn",
        "colab_type": "text"
      },
      "source": [
        "####The majority of the borrowers have none or 1 installment account, with only a few borrowers having more than 2."
      ]
    },
    {
      "cell_type": "markdown",
      "metadata": {
        "id": "oyPs3tpTi4w8",
        "colab_type": "text"
      },
      "source": [
        "##A variation of discrete variables: the binary variable"
      ]
    },
    {
      "cell_type": "markdown",
      "metadata": {
        "id": "MYaM-MuujgGE",
        "colab_type": "text"
      },
      "source": [
        "#### Binary variables, are discrete variables, that can take only 2 values, therefore binary.\n",
        "\n",
        "In the next cells I will create an additional variable, called defaulted, to capture the number of loans that have defaulted. A defaulted loan is a loan that a customer has failed to re-pay and the money is lost.\n",
        "\n",
        "The variable takes the values 0 where the loans are ok and being re-paid regularly, or 1, when the borrower has confirmed that will not be able to re-pay the borrowed amount."
      ]
    },
    {
      "cell_type": "code",
      "metadata": {
        "id": "ajmF5ohcjik-",
        "colab_type": "code",
        "outputId": "c443d42d-f272-4072-a9e1-2d1ac55118b8",
        "colab": {
          "base_uri": "https://localhost:8080/",
          "height": 51
        }
      },
      "source": [
        "data.loan_status.unique()"
      ],
      "execution_count": 36,
      "outputs": [
        {
          "output_type": "execute_result",
          "data": {
            "text/plain": [
              "array(['Current', 'Fully Paid', 'Late (31-120 days)', 'In Grace Period',\n",
              "       'Charged Off', 'Late (16-30 days)', 'Default'], dtype=object)"
            ]
          },
          "metadata": {
            "tags": []
          },
          "execution_count": 36
        }
      ]
    },
    {
      "cell_type": "code",
      "metadata": {
        "id": "GDurWDJCiwjv",
        "colab_type": "code",
        "colab": {}
      },
      "source": [
        "# let's create one additional variable called defaulted.\n",
        "# This variable indicates if the loan has defaulted, which means,\n",
        "# if the borrower failed to re-pay the loan, and the money\n",
        "# is deemed lost.\n",
        "\n",
        "data['Defaulted'] = np.where(data['loan_status'].isin(['Default']),1,0)"
      ],
      "execution_count": 0,
      "outputs": []
    },
    {
      "cell_type": "code",
      "metadata": {
        "id": "ivV18CB_oI6y",
        "colab_type": "code",
        "outputId": "0eef70d4-0919-4cd9-f5bb-7e44c30f67b2",
        "colab": {
          "base_uri": "https://localhost:8080/",
          "height": 34
        }
      },
      "source": [
        "data['Defaulted'].mean()"
      ],
      "execution_count": 38,
      "outputs": [
        {
          "output_type": "execute_result",
          "data": {
            "text/plain": [
              "1.602841762118438e-05"
            ]
          },
          "metadata": {
            "tags": []
          },
          "execution_count": 38
        }
      ]
    },
    {
      "cell_type": "code",
      "metadata": {
        "id": "_cPRFhMyoSpw",
        "colab_type": "code",
        "outputId": "b9c81f4f-4b84-4cb1-fa1f-ecc2c5cca73d",
        "colab": {
          "base_uri": "https://localhost:8080/",
          "height": 338
        }
      },
      "source": [
        "data.head()"
      ],
      "execution_count": 39,
      "outputs": [
        {
          "output_type": "execute_result",
          "data": {
            "text/html": [
              "<div>\n",
              "<style scoped>\n",
              "    .dataframe tbody tr th:only-of-type {\n",
              "        vertical-align: middle;\n",
              "    }\n",
              "\n",
              "    .dataframe tbody tr th {\n",
              "        vertical-align: top;\n",
              "    }\n",
              "\n",
              "    .dataframe thead th {\n",
              "        text-align: right;\n",
              "    }\n",
              "</style>\n",
              "<table border=\"1\" class=\"dataframe\">\n",
              "  <thead>\n",
              "    <tr style=\"text-align: right;\">\n",
              "      <th></th>\n",
              "      <th>id</th>\n",
              "      <th>member_id</th>\n",
              "      <th>loan_amnt</th>\n",
              "      <th>funded_amnt</th>\n",
              "      <th>funded_amnt_inv</th>\n",
              "      <th>term</th>\n",
              "      <th>int_rate</th>\n",
              "      <th>installment</th>\n",
              "      <th>grade</th>\n",
              "      <th>sub_grade</th>\n",
              "      <th>emp_title</th>\n",
              "      <th>emp_length</th>\n",
              "      <th>home_ownership</th>\n",
              "      <th>annual_inc</th>\n",
              "      <th>verification_status</th>\n",
              "      <th>issue_d</th>\n",
              "      <th>loan_status</th>\n",
              "      <th>pymnt_plan</th>\n",
              "      <th>url</th>\n",
              "      <th>desc</th>\n",
              "      <th>purpose</th>\n",
              "      <th>title</th>\n",
              "      <th>zip_code</th>\n",
              "      <th>addr_state</th>\n",
              "      <th>dti</th>\n",
              "      <th>delinq_2yrs</th>\n",
              "      <th>earliest_cr_line</th>\n",
              "      <th>inq_last_6mths</th>\n",
              "      <th>mths_since_last_delinq</th>\n",
              "      <th>mths_since_last_record</th>\n",
              "      <th>open_acc</th>\n",
              "      <th>pub_rec</th>\n",
              "      <th>revol_bal</th>\n",
              "      <th>revol_util</th>\n",
              "      <th>total_acc</th>\n",
              "      <th>initial_list_status</th>\n",
              "      <th>out_prncp</th>\n",
              "      <th>out_prncp_inv</th>\n",
              "      <th>total_pymnt</th>\n",
              "      <th>total_pymnt_inv</th>\n",
              "      <th>...</th>\n",
              "      <th>tax_liens</th>\n",
              "      <th>tot_hi_cred_lim</th>\n",
              "      <th>total_bal_ex_mort</th>\n",
              "      <th>total_bc_limit</th>\n",
              "      <th>total_il_high_credit_limit</th>\n",
              "      <th>revol_bal_joint</th>\n",
              "      <th>sec_app_earliest_cr_line</th>\n",
              "      <th>sec_app_inq_last_6mths</th>\n",
              "      <th>sec_app_mort_acc</th>\n",
              "      <th>sec_app_open_acc</th>\n",
              "      <th>sec_app_revol_util</th>\n",
              "      <th>sec_app_open_act_il</th>\n",
              "      <th>sec_app_num_rev_accts</th>\n",
              "      <th>sec_app_chargeoff_within_12_mths</th>\n",
              "      <th>sec_app_collections_12_mths_ex_med</th>\n",
              "      <th>sec_app_mths_since_last_major_derog</th>\n",
              "      <th>hardship_flag</th>\n",
              "      <th>hardship_type</th>\n",
              "      <th>hardship_reason</th>\n",
              "      <th>hardship_status</th>\n",
              "      <th>deferral_term</th>\n",
              "      <th>hardship_amount</th>\n",
              "      <th>hardship_start_date</th>\n",
              "      <th>hardship_end_date</th>\n",
              "      <th>payment_plan_start_date</th>\n",
              "      <th>hardship_length</th>\n",
              "      <th>hardship_dpd</th>\n",
              "      <th>hardship_loan_status</th>\n",
              "      <th>orig_projected_additional_accrued_interest</th>\n",
              "      <th>hardship_payoff_balance_amount</th>\n",
              "      <th>hardship_last_payment_amount</th>\n",
              "      <th>disbursement_method</th>\n",
              "      <th>debt_settlement_flag</th>\n",
              "      <th>debt_settlement_flag_date</th>\n",
              "      <th>settlement_status</th>\n",
              "      <th>settlement_date</th>\n",
              "      <th>settlement_amount</th>\n",
              "      <th>settlement_percentage</th>\n",
              "      <th>settlement_term</th>\n",
              "      <th>Defaulted</th>\n",
              "    </tr>\n",
              "  </thead>\n",
              "  <tbody>\n",
              "    <tr>\n",
              "      <th>0</th>\n",
              "      <td>NaN</td>\n",
              "      <td>NaN</td>\n",
              "      <td>2500</td>\n",
              "      <td>2500</td>\n",
              "      <td>2500.0</td>\n",
              "      <td>36 months</td>\n",
              "      <td>13.56</td>\n",
              "      <td>84.92</td>\n",
              "      <td>C</td>\n",
              "      <td>C1</td>\n",
              "      <td>Chef</td>\n",
              "      <td>10+ years</td>\n",
              "      <td>RENT</td>\n",
              "      <td>55000.0</td>\n",
              "      <td>Not Verified</td>\n",
              "      <td>Dec-2018</td>\n",
              "      <td>Current</td>\n",
              "      <td>n</td>\n",
              "      <td>NaN</td>\n",
              "      <td>NaN</td>\n",
              "      <td>debt_consolidation</td>\n",
              "      <td>Debt consolidation</td>\n",
              "      <td>109xx</td>\n",
              "      <td>NY</td>\n",
              "      <td>18.24</td>\n",
              "      <td>0.0</td>\n",
              "      <td>Apr-2001</td>\n",
              "      <td>1.0</td>\n",
              "      <td>NaN</td>\n",
              "      <td>45.0</td>\n",
              "      <td>9.0</td>\n",
              "      <td>1.0</td>\n",
              "      <td>4341.0</td>\n",
              "      <td>10.3</td>\n",
              "      <td>34.0</td>\n",
              "      <td>w</td>\n",
              "      <td>2386.02</td>\n",
              "      <td>2386.02</td>\n",
              "      <td>167.02</td>\n",
              "      <td>167.02</td>\n",
              "      <td>...</td>\n",
              "      <td>0.0</td>\n",
              "      <td>60124.0</td>\n",
              "      <td>16901.0</td>\n",
              "      <td>36500.0</td>\n",
              "      <td>18124.0</td>\n",
              "      <td>NaN</td>\n",
              "      <td>NaN</td>\n",
              "      <td>NaN</td>\n",
              "      <td>NaN</td>\n",
              "      <td>NaN</td>\n",
              "      <td>NaN</td>\n",
              "      <td>NaN</td>\n",
              "      <td>NaN</td>\n",
              "      <td>NaN</td>\n",
              "      <td>NaN</td>\n",
              "      <td>NaN</td>\n",
              "      <td>N</td>\n",
              "      <td>NaN</td>\n",
              "      <td>NaN</td>\n",
              "      <td>NaN</td>\n",
              "      <td>NaN</td>\n",
              "      <td>NaN</td>\n",
              "      <td>NaN</td>\n",
              "      <td>NaN</td>\n",
              "      <td>NaN</td>\n",
              "      <td>NaN</td>\n",
              "      <td>NaN</td>\n",
              "      <td>NaN</td>\n",
              "      <td>NaN</td>\n",
              "      <td>NaN</td>\n",
              "      <td>NaN</td>\n",
              "      <td>Cash</td>\n",
              "      <td>N</td>\n",
              "      <td>NaN</td>\n",
              "      <td>NaN</td>\n",
              "      <td>NaN</td>\n",
              "      <td>NaN</td>\n",
              "      <td>NaN</td>\n",
              "      <td>NaN</td>\n",
              "      <td>0</td>\n",
              "    </tr>\n",
              "    <tr>\n",
              "      <th>1</th>\n",
              "      <td>NaN</td>\n",
              "      <td>NaN</td>\n",
              "      <td>30000</td>\n",
              "      <td>30000</td>\n",
              "      <td>30000.0</td>\n",
              "      <td>60 months</td>\n",
              "      <td>18.94</td>\n",
              "      <td>777.23</td>\n",
              "      <td>D</td>\n",
              "      <td>D2</td>\n",
              "      <td>Postmaster</td>\n",
              "      <td>10+ years</td>\n",
              "      <td>MORTGAGE</td>\n",
              "      <td>90000.0</td>\n",
              "      <td>Source Verified</td>\n",
              "      <td>Dec-2018</td>\n",
              "      <td>Current</td>\n",
              "      <td>n</td>\n",
              "      <td>NaN</td>\n",
              "      <td>NaN</td>\n",
              "      <td>debt_consolidation</td>\n",
              "      <td>Debt consolidation</td>\n",
              "      <td>713xx</td>\n",
              "      <td>LA</td>\n",
              "      <td>26.52</td>\n",
              "      <td>0.0</td>\n",
              "      <td>Jun-1987</td>\n",
              "      <td>0.0</td>\n",
              "      <td>71.0</td>\n",
              "      <td>75.0</td>\n",
              "      <td>13.0</td>\n",
              "      <td>1.0</td>\n",
              "      <td>12315.0</td>\n",
              "      <td>24.2</td>\n",
              "      <td>44.0</td>\n",
              "      <td>w</td>\n",
              "      <td>29387.75</td>\n",
              "      <td>29387.75</td>\n",
              "      <td>1507.11</td>\n",
              "      <td>1507.11</td>\n",
              "      <td>...</td>\n",
              "      <td>0.0</td>\n",
              "      <td>372872.0</td>\n",
              "      <td>99468.0</td>\n",
              "      <td>15000.0</td>\n",
              "      <td>94072.0</td>\n",
              "      <td>NaN</td>\n",
              "      <td>NaN</td>\n",
              "      <td>NaN</td>\n",
              "      <td>NaN</td>\n",
              "      <td>NaN</td>\n",
              "      <td>NaN</td>\n",
              "      <td>NaN</td>\n",
              "      <td>NaN</td>\n",
              "      <td>NaN</td>\n",
              "      <td>NaN</td>\n",
              "      <td>NaN</td>\n",
              "      <td>N</td>\n",
              "      <td>NaN</td>\n",
              "      <td>NaN</td>\n",
              "      <td>NaN</td>\n",
              "      <td>NaN</td>\n",
              "      <td>NaN</td>\n",
              "      <td>NaN</td>\n",
              "      <td>NaN</td>\n",
              "      <td>NaN</td>\n",
              "      <td>NaN</td>\n",
              "      <td>NaN</td>\n",
              "      <td>NaN</td>\n",
              "      <td>NaN</td>\n",
              "      <td>NaN</td>\n",
              "      <td>NaN</td>\n",
              "      <td>Cash</td>\n",
              "      <td>N</td>\n",
              "      <td>NaN</td>\n",
              "      <td>NaN</td>\n",
              "      <td>NaN</td>\n",
              "      <td>NaN</td>\n",
              "      <td>NaN</td>\n",
              "      <td>NaN</td>\n",
              "      <td>0</td>\n",
              "    </tr>\n",
              "    <tr>\n",
              "      <th>2</th>\n",
              "      <td>NaN</td>\n",
              "      <td>NaN</td>\n",
              "      <td>5000</td>\n",
              "      <td>5000</td>\n",
              "      <td>5000.0</td>\n",
              "      <td>36 months</td>\n",
              "      <td>17.97</td>\n",
              "      <td>180.69</td>\n",
              "      <td>D</td>\n",
              "      <td>D1</td>\n",
              "      <td>Administrative</td>\n",
              "      <td>6 years</td>\n",
              "      <td>MORTGAGE</td>\n",
              "      <td>59280.0</td>\n",
              "      <td>Source Verified</td>\n",
              "      <td>Dec-2018</td>\n",
              "      <td>Current</td>\n",
              "      <td>n</td>\n",
              "      <td>NaN</td>\n",
              "      <td>NaN</td>\n",
              "      <td>debt_consolidation</td>\n",
              "      <td>Debt consolidation</td>\n",
              "      <td>490xx</td>\n",
              "      <td>MI</td>\n",
              "      <td>10.51</td>\n",
              "      <td>0.0</td>\n",
              "      <td>Apr-2011</td>\n",
              "      <td>0.0</td>\n",
              "      <td>NaN</td>\n",
              "      <td>NaN</td>\n",
              "      <td>8.0</td>\n",
              "      <td>0.0</td>\n",
              "      <td>4599.0</td>\n",
              "      <td>19.1</td>\n",
              "      <td>13.0</td>\n",
              "      <td>w</td>\n",
              "      <td>4787.21</td>\n",
              "      <td>4787.21</td>\n",
              "      <td>353.89</td>\n",
              "      <td>353.89</td>\n",
              "      <td>...</td>\n",
              "      <td>0.0</td>\n",
              "      <td>136927.0</td>\n",
              "      <td>11749.0</td>\n",
              "      <td>13800.0</td>\n",
              "      <td>10000.0</td>\n",
              "      <td>NaN</td>\n",
              "      <td>NaN</td>\n",
              "      <td>NaN</td>\n",
              "      <td>NaN</td>\n",
              "      <td>NaN</td>\n",
              "      <td>NaN</td>\n",
              "      <td>NaN</td>\n",
              "      <td>NaN</td>\n",
              "      <td>NaN</td>\n",
              "      <td>NaN</td>\n",
              "      <td>NaN</td>\n",
              "      <td>N</td>\n",
              "      <td>NaN</td>\n",
              "      <td>NaN</td>\n",
              "      <td>NaN</td>\n",
              "      <td>NaN</td>\n",
              "      <td>NaN</td>\n",
              "      <td>NaN</td>\n",
              "      <td>NaN</td>\n",
              "      <td>NaN</td>\n",
              "      <td>NaN</td>\n",
              "      <td>NaN</td>\n",
              "      <td>NaN</td>\n",
              "      <td>NaN</td>\n",
              "      <td>NaN</td>\n",
              "      <td>NaN</td>\n",
              "      <td>Cash</td>\n",
              "      <td>N</td>\n",
              "      <td>NaN</td>\n",
              "      <td>NaN</td>\n",
              "      <td>NaN</td>\n",
              "      <td>NaN</td>\n",
              "      <td>NaN</td>\n",
              "      <td>NaN</td>\n",
              "      <td>0</td>\n",
              "    </tr>\n",
              "    <tr>\n",
              "      <th>3</th>\n",
              "      <td>NaN</td>\n",
              "      <td>NaN</td>\n",
              "      <td>4000</td>\n",
              "      <td>4000</td>\n",
              "      <td>4000.0</td>\n",
              "      <td>36 months</td>\n",
              "      <td>18.94</td>\n",
              "      <td>146.51</td>\n",
              "      <td>D</td>\n",
              "      <td>D2</td>\n",
              "      <td>IT Supervisor</td>\n",
              "      <td>10+ years</td>\n",
              "      <td>MORTGAGE</td>\n",
              "      <td>92000.0</td>\n",
              "      <td>Source Verified</td>\n",
              "      <td>Dec-2018</td>\n",
              "      <td>Current</td>\n",
              "      <td>n</td>\n",
              "      <td>NaN</td>\n",
              "      <td>NaN</td>\n",
              "      <td>debt_consolidation</td>\n",
              "      <td>Debt consolidation</td>\n",
              "      <td>985xx</td>\n",
              "      <td>WA</td>\n",
              "      <td>16.74</td>\n",
              "      <td>0.0</td>\n",
              "      <td>Feb-2006</td>\n",
              "      <td>0.0</td>\n",
              "      <td>NaN</td>\n",
              "      <td>NaN</td>\n",
              "      <td>10.0</td>\n",
              "      <td>0.0</td>\n",
              "      <td>5468.0</td>\n",
              "      <td>78.1</td>\n",
              "      <td>13.0</td>\n",
              "      <td>w</td>\n",
              "      <td>3831.93</td>\n",
              "      <td>3831.93</td>\n",
              "      <td>286.71</td>\n",
              "      <td>286.71</td>\n",
              "      <td>...</td>\n",
              "      <td>0.0</td>\n",
              "      <td>385183.0</td>\n",
              "      <td>36151.0</td>\n",
              "      <td>5000.0</td>\n",
              "      <td>44984.0</td>\n",
              "      <td>NaN</td>\n",
              "      <td>NaN</td>\n",
              "      <td>NaN</td>\n",
              "      <td>NaN</td>\n",
              "      <td>NaN</td>\n",
              "      <td>NaN</td>\n",
              "      <td>NaN</td>\n",
              "      <td>NaN</td>\n",
              "      <td>NaN</td>\n",
              "      <td>NaN</td>\n",
              "      <td>NaN</td>\n",
              "      <td>N</td>\n",
              "      <td>NaN</td>\n",
              "      <td>NaN</td>\n",
              "      <td>NaN</td>\n",
              "      <td>NaN</td>\n",
              "      <td>NaN</td>\n",
              "      <td>NaN</td>\n",
              "      <td>NaN</td>\n",
              "      <td>NaN</td>\n",
              "      <td>NaN</td>\n",
              "      <td>NaN</td>\n",
              "      <td>NaN</td>\n",
              "      <td>NaN</td>\n",
              "      <td>NaN</td>\n",
              "      <td>NaN</td>\n",
              "      <td>Cash</td>\n",
              "      <td>N</td>\n",
              "      <td>NaN</td>\n",
              "      <td>NaN</td>\n",
              "      <td>NaN</td>\n",
              "      <td>NaN</td>\n",
              "      <td>NaN</td>\n",
              "      <td>NaN</td>\n",
              "      <td>0</td>\n",
              "    </tr>\n",
              "    <tr>\n",
              "      <th>4</th>\n",
              "      <td>NaN</td>\n",
              "      <td>NaN</td>\n",
              "      <td>30000</td>\n",
              "      <td>30000</td>\n",
              "      <td>30000.0</td>\n",
              "      <td>60 months</td>\n",
              "      <td>16.14</td>\n",
              "      <td>731.78</td>\n",
              "      <td>C</td>\n",
              "      <td>C4</td>\n",
              "      <td>Mechanic</td>\n",
              "      <td>10+ years</td>\n",
              "      <td>MORTGAGE</td>\n",
              "      <td>57250.0</td>\n",
              "      <td>Not Verified</td>\n",
              "      <td>Dec-2018</td>\n",
              "      <td>Current</td>\n",
              "      <td>n</td>\n",
              "      <td>NaN</td>\n",
              "      <td>NaN</td>\n",
              "      <td>debt_consolidation</td>\n",
              "      <td>Debt consolidation</td>\n",
              "      <td>212xx</td>\n",
              "      <td>MD</td>\n",
              "      <td>26.35</td>\n",
              "      <td>0.0</td>\n",
              "      <td>Dec-2000</td>\n",
              "      <td>0.0</td>\n",
              "      <td>NaN</td>\n",
              "      <td>NaN</td>\n",
              "      <td>12.0</td>\n",
              "      <td>0.0</td>\n",
              "      <td>829.0</td>\n",
              "      <td>3.6</td>\n",
              "      <td>26.0</td>\n",
              "      <td>w</td>\n",
              "      <td>29339.02</td>\n",
              "      <td>29339.02</td>\n",
              "      <td>1423.21</td>\n",
              "      <td>1423.21</td>\n",
              "      <td>...</td>\n",
              "      <td>0.0</td>\n",
              "      <td>157548.0</td>\n",
              "      <td>29674.0</td>\n",
              "      <td>9300.0</td>\n",
              "      <td>32332.0</td>\n",
              "      <td>NaN</td>\n",
              "      <td>NaN</td>\n",
              "      <td>NaN</td>\n",
              "      <td>NaN</td>\n",
              "      <td>NaN</td>\n",
              "      <td>NaN</td>\n",
              "      <td>NaN</td>\n",
              "      <td>NaN</td>\n",
              "      <td>NaN</td>\n",
              "      <td>NaN</td>\n",
              "      <td>NaN</td>\n",
              "      <td>N</td>\n",
              "      <td>NaN</td>\n",
              "      <td>NaN</td>\n",
              "      <td>NaN</td>\n",
              "      <td>NaN</td>\n",
              "      <td>NaN</td>\n",
              "      <td>NaN</td>\n",
              "      <td>NaN</td>\n",
              "      <td>NaN</td>\n",
              "      <td>NaN</td>\n",
              "      <td>NaN</td>\n",
              "      <td>NaN</td>\n",
              "      <td>NaN</td>\n",
              "      <td>NaN</td>\n",
              "      <td>NaN</td>\n",
              "      <td>Cash</td>\n",
              "      <td>N</td>\n",
              "      <td>NaN</td>\n",
              "      <td>NaN</td>\n",
              "      <td>NaN</td>\n",
              "      <td>NaN</td>\n",
              "      <td>NaN</td>\n",
              "      <td>NaN</td>\n",
              "      <td>0</td>\n",
              "    </tr>\n",
              "  </tbody>\n",
              "</table>\n",
              "<p>5 rows × 146 columns</p>\n",
              "</div>"
            ],
            "text/plain": [
              "   id  member_id  loan_amnt  ...  settlement_percentage  settlement_term Defaulted\n",
              "0 NaN        NaN       2500  ...                    NaN              NaN         0\n",
              "1 NaN        NaN      30000  ...                    NaN              NaN         0\n",
              "2 NaN        NaN       5000  ...                    NaN              NaN         0\n",
              "3 NaN        NaN       4000  ...                    NaN              NaN         0\n",
              "4 NaN        NaN      30000  ...                    NaN              NaN         0\n",
              "\n",
              "[5 rows x 146 columns]"
            ]
          },
          "metadata": {
            "tags": []
          },
          "execution_count": 39
        }
      ]
    },
    {
      "cell_type": "code",
      "metadata": {
        "id": "4qhMdpKtoi5b",
        "colab_type": "code",
        "outputId": "72d20777-645b-4d10-bebe-b11ccfd4a1b9",
        "colab": {
          "base_uri": "https://localhost:8080/",
          "height": 338
        }
      },
      "source": [
        "# the new variable takes the value 1 for loans that\n",
        "# are defaulted\n",
        "\n",
        "data[data['loan_status'] == 'Default'].head()"
      ],
      "execution_count": 40,
      "outputs": [
        {
          "output_type": "execute_result",
          "data": {
            "text/html": [
              "<div>\n",
              "<style scoped>\n",
              "    .dataframe tbody tr th:only-of-type {\n",
              "        vertical-align: middle;\n",
              "    }\n",
              "\n",
              "    .dataframe tbody tr th {\n",
              "        vertical-align: top;\n",
              "    }\n",
              "\n",
              "    .dataframe thead th {\n",
              "        text-align: right;\n",
              "    }\n",
              "</style>\n",
              "<table border=\"1\" class=\"dataframe\">\n",
              "  <thead>\n",
              "    <tr style=\"text-align: right;\">\n",
              "      <th></th>\n",
              "      <th>id</th>\n",
              "      <th>member_id</th>\n",
              "      <th>loan_amnt</th>\n",
              "      <th>funded_amnt</th>\n",
              "      <th>funded_amnt_inv</th>\n",
              "      <th>term</th>\n",
              "      <th>int_rate</th>\n",
              "      <th>installment</th>\n",
              "      <th>grade</th>\n",
              "      <th>sub_grade</th>\n",
              "      <th>emp_title</th>\n",
              "      <th>emp_length</th>\n",
              "      <th>home_ownership</th>\n",
              "      <th>annual_inc</th>\n",
              "      <th>verification_status</th>\n",
              "      <th>issue_d</th>\n",
              "      <th>loan_status</th>\n",
              "      <th>pymnt_plan</th>\n",
              "      <th>url</th>\n",
              "      <th>desc</th>\n",
              "      <th>purpose</th>\n",
              "      <th>title</th>\n",
              "      <th>zip_code</th>\n",
              "      <th>addr_state</th>\n",
              "      <th>dti</th>\n",
              "      <th>delinq_2yrs</th>\n",
              "      <th>earliest_cr_line</th>\n",
              "      <th>inq_last_6mths</th>\n",
              "      <th>mths_since_last_delinq</th>\n",
              "      <th>mths_since_last_record</th>\n",
              "      <th>open_acc</th>\n",
              "      <th>pub_rec</th>\n",
              "      <th>revol_bal</th>\n",
              "      <th>revol_util</th>\n",
              "      <th>total_acc</th>\n",
              "      <th>initial_list_status</th>\n",
              "      <th>out_prncp</th>\n",
              "      <th>out_prncp_inv</th>\n",
              "      <th>total_pymnt</th>\n",
              "      <th>total_pymnt_inv</th>\n",
              "      <th>...</th>\n",
              "      <th>tax_liens</th>\n",
              "      <th>tot_hi_cred_lim</th>\n",
              "      <th>total_bal_ex_mort</th>\n",
              "      <th>total_bc_limit</th>\n",
              "      <th>total_il_high_credit_limit</th>\n",
              "      <th>revol_bal_joint</th>\n",
              "      <th>sec_app_earliest_cr_line</th>\n",
              "      <th>sec_app_inq_last_6mths</th>\n",
              "      <th>sec_app_mort_acc</th>\n",
              "      <th>sec_app_open_acc</th>\n",
              "      <th>sec_app_revol_util</th>\n",
              "      <th>sec_app_open_act_il</th>\n",
              "      <th>sec_app_num_rev_accts</th>\n",
              "      <th>sec_app_chargeoff_within_12_mths</th>\n",
              "      <th>sec_app_collections_12_mths_ex_med</th>\n",
              "      <th>sec_app_mths_since_last_major_derog</th>\n",
              "      <th>hardship_flag</th>\n",
              "      <th>hardship_type</th>\n",
              "      <th>hardship_reason</th>\n",
              "      <th>hardship_status</th>\n",
              "      <th>deferral_term</th>\n",
              "      <th>hardship_amount</th>\n",
              "      <th>hardship_start_date</th>\n",
              "      <th>hardship_end_date</th>\n",
              "      <th>payment_plan_start_date</th>\n",
              "      <th>hardship_length</th>\n",
              "      <th>hardship_dpd</th>\n",
              "      <th>hardship_loan_status</th>\n",
              "      <th>orig_projected_additional_accrued_interest</th>\n",
              "      <th>hardship_payoff_balance_amount</th>\n",
              "      <th>hardship_last_payment_amount</th>\n",
              "      <th>disbursement_method</th>\n",
              "      <th>debt_settlement_flag</th>\n",
              "      <th>debt_settlement_flag_date</th>\n",
              "      <th>settlement_status</th>\n",
              "      <th>settlement_date</th>\n",
              "      <th>settlement_amount</th>\n",
              "      <th>settlement_percentage</th>\n",
              "      <th>settlement_term</th>\n",
              "      <th>Defaulted</th>\n",
              "    </tr>\n",
              "  </thead>\n",
              "  <tbody>\n",
              "    <tr>\n",
              "      <th>220496</th>\n",
              "      <td>NaN</td>\n",
              "      <td>NaN</td>\n",
              "      <td>7500</td>\n",
              "      <td>7500</td>\n",
              "      <td>7500.0</td>\n",
              "      <td>36 months</td>\n",
              "      <td>12.73</td>\n",
              "      <td>251.74</td>\n",
              "      <td>B</td>\n",
              "      <td>B5</td>\n",
              "      <td>NaN</td>\n",
              "      <td>NaN</td>\n",
              "      <td>MORTGAGE</td>\n",
              "      <td>50000.0</td>\n",
              "      <td>Verified</td>\n",
              "      <td>Jul-2018</td>\n",
              "      <td>Default</td>\n",
              "      <td>n</td>\n",
              "      <td>NaN</td>\n",
              "      <td>NaN</td>\n",
              "      <td>medical</td>\n",
              "      <td>Medical expenses</td>\n",
              "      <td>460xx</td>\n",
              "      <td>IN</td>\n",
              "      <td>13.73</td>\n",
              "      <td>0.0</td>\n",
              "      <td>Oct-2003</td>\n",
              "      <td>1.0</td>\n",
              "      <td>64.0</td>\n",
              "      <td>83.0</td>\n",
              "      <td>4.0</td>\n",
              "      <td>1.0</td>\n",
              "      <td>52075.0</td>\n",
              "      <td>98.8</td>\n",
              "      <td>18.0</td>\n",
              "      <td>w</td>\n",
              "      <td>7154.49</td>\n",
              "      <td>7154.49</td>\n",
              "      <td>492.87</td>\n",
              "      <td>492.87</td>\n",
              "      <td>...</td>\n",
              "      <td>0.0</td>\n",
              "      <td>115993.0</td>\n",
              "      <td>53619.0</td>\n",
              "      <td>0.0</td>\n",
              "      <td>3743.0</td>\n",
              "      <td>2470.0</td>\n",
              "      <td>Nov-1998</td>\n",
              "      <td>2.0</td>\n",
              "      <td>1.0</td>\n",
              "      <td>1.0</td>\n",
              "      <td>NaN</td>\n",
              "      <td>1.0</td>\n",
              "      <td>5.0</td>\n",
              "      <td>0.0</td>\n",
              "      <td>0.0</td>\n",
              "      <td>NaN</td>\n",
              "      <td>N</td>\n",
              "      <td>NaN</td>\n",
              "      <td>NaN</td>\n",
              "      <td>NaN</td>\n",
              "      <td>NaN</td>\n",
              "      <td>NaN</td>\n",
              "      <td>NaN</td>\n",
              "      <td>NaN</td>\n",
              "      <td>NaN</td>\n",
              "      <td>NaN</td>\n",
              "      <td>NaN</td>\n",
              "      <td>NaN</td>\n",
              "      <td>NaN</td>\n",
              "      <td>NaN</td>\n",
              "      <td>NaN</td>\n",
              "      <td>Cash</td>\n",
              "      <td>N</td>\n",
              "      <td>NaN</td>\n",
              "      <td>NaN</td>\n",
              "      <td>NaN</td>\n",
              "      <td>NaN</td>\n",
              "      <td>NaN</td>\n",
              "      <td>NaN</td>\n",
              "      <td>1</td>\n",
              "    </tr>\n",
              "    <tr>\n",
              "      <th>220980</th>\n",
              "      <td>NaN</td>\n",
              "      <td>NaN</td>\n",
              "      <td>30000</td>\n",
              "      <td>30000</td>\n",
              "      <td>30000.0</td>\n",
              "      <td>36 months</td>\n",
              "      <td>20.89</td>\n",
              "      <td>1128.56</td>\n",
              "      <td>D</td>\n",
              "      <td>D4</td>\n",
              "      <td>President</td>\n",
              "      <td>8 years</td>\n",
              "      <td>MORTGAGE</td>\n",
              "      <td>109000.0</td>\n",
              "      <td>Verified</td>\n",
              "      <td>Jul-2018</td>\n",
              "      <td>Default</td>\n",
              "      <td>n</td>\n",
              "      <td>NaN</td>\n",
              "      <td>NaN</td>\n",
              "      <td>debt_consolidation</td>\n",
              "      <td>Debt consolidation</td>\n",
              "      <td>770xx</td>\n",
              "      <td>TX</td>\n",
              "      <td>27.71</td>\n",
              "      <td>1.0</td>\n",
              "      <td>Mar-2008</td>\n",
              "      <td>1.0</td>\n",
              "      <td>17.0</td>\n",
              "      <td>NaN</td>\n",
              "      <td>12.0</td>\n",
              "      <td>0.0</td>\n",
              "      <td>40662.0</td>\n",
              "      <td>83.5</td>\n",
              "      <td>25.0</td>\n",
              "      <td>w</td>\n",
              "      <td>26770.71</td>\n",
              "      <td>26770.71</td>\n",
              "      <td>6758.16</td>\n",
              "      <td>6758.16</td>\n",
              "      <td>...</td>\n",
              "      <td>0.0</td>\n",
              "      <td>378242.0</td>\n",
              "      <td>98662.0</td>\n",
              "      <td>34700.0</td>\n",
              "      <td>59542.0</td>\n",
              "      <td>NaN</td>\n",
              "      <td>NaN</td>\n",
              "      <td>NaN</td>\n",
              "      <td>NaN</td>\n",
              "      <td>NaN</td>\n",
              "      <td>NaN</td>\n",
              "      <td>NaN</td>\n",
              "      <td>NaN</td>\n",
              "      <td>NaN</td>\n",
              "      <td>NaN</td>\n",
              "      <td>NaN</td>\n",
              "      <td>N</td>\n",
              "      <td>NaN</td>\n",
              "      <td>NaN</td>\n",
              "      <td>NaN</td>\n",
              "      <td>NaN</td>\n",
              "      <td>NaN</td>\n",
              "      <td>NaN</td>\n",
              "      <td>NaN</td>\n",
              "      <td>NaN</td>\n",
              "      <td>NaN</td>\n",
              "      <td>NaN</td>\n",
              "      <td>NaN</td>\n",
              "      <td>NaN</td>\n",
              "      <td>NaN</td>\n",
              "      <td>NaN</td>\n",
              "      <td>Cash</td>\n",
              "      <td>N</td>\n",
              "      <td>NaN</td>\n",
              "      <td>NaN</td>\n",
              "      <td>NaN</td>\n",
              "      <td>NaN</td>\n",
              "      <td>NaN</td>\n",
              "      <td>NaN</td>\n",
              "      <td>1</td>\n",
              "    </tr>\n",
              "    <tr>\n",
              "      <th>260870</th>\n",
              "      <td>NaN</td>\n",
              "      <td>NaN</td>\n",
              "      <td>1000</td>\n",
              "      <td>1000</td>\n",
              "      <td>1000.0</td>\n",
              "      <td>36 months</td>\n",
              "      <td>17.47</td>\n",
              "      <td>35.89</td>\n",
              "      <td>D</td>\n",
              "      <td>D1</td>\n",
              "      <td>NaN</td>\n",
              "      <td>NaN</td>\n",
              "      <td>MORTGAGE</td>\n",
              "      <td>56160.0</td>\n",
              "      <td>Verified</td>\n",
              "      <td>Jun-2018</td>\n",
              "      <td>Default</td>\n",
              "      <td>n</td>\n",
              "      <td>NaN</td>\n",
              "      <td>NaN</td>\n",
              "      <td>other</td>\n",
              "      <td>Other</td>\n",
              "      <td>951xx</td>\n",
              "      <td>CA</td>\n",
              "      <td>6.80</td>\n",
              "      <td>5.0</td>\n",
              "      <td>Jun-2003</td>\n",
              "      <td>0.0</td>\n",
              "      <td>8.0</td>\n",
              "      <td>NaN</td>\n",
              "      <td>4.0</td>\n",
              "      <td>0.0</td>\n",
              "      <td>2874.0</td>\n",
              "      <td>47.9</td>\n",
              "      <td>10.0</td>\n",
              "      <td>w</td>\n",
              "      <td>1000.00</td>\n",
              "      <td>1000.00</td>\n",
              "      <td>0.00</td>\n",
              "      <td>0.00</td>\n",
              "      <td>...</td>\n",
              "      <td>0.0</td>\n",
              "      <td>143711.0</td>\n",
              "      <td>9713.0</td>\n",
              "      <td>6000.0</td>\n",
              "      <td>11061.0</td>\n",
              "      <td>NaN</td>\n",
              "      <td>NaN</td>\n",
              "      <td>NaN</td>\n",
              "      <td>NaN</td>\n",
              "      <td>NaN</td>\n",
              "      <td>NaN</td>\n",
              "      <td>NaN</td>\n",
              "      <td>NaN</td>\n",
              "      <td>NaN</td>\n",
              "      <td>NaN</td>\n",
              "      <td>NaN</td>\n",
              "      <td>N</td>\n",
              "      <td>NaN</td>\n",
              "      <td>NaN</td>\n",
              "      <td>NaN</td>\n",
              "      <td>NaN</td>\n",
              "      <td>NaN</td>\n",
              "      <td>NaN</td>\n",
              "      <td>NaN</td>\n",
              "      <td>NaN</td>\n",
              "      <td>NaN</td>\n",
              "      <td>NaN</td>\n",
              "      <td>NaN</td>\n",
              "      <td>NaN</td>\n",
              "      <td>NaN</td>\n",
              "      <td>NaN</td>\n",
              "      <td>Cash</td>\n",
              "      <td>N</td>\n",
              "      <td>NaN</td>\n",
              "      <td>NaN</td>\n",
              "      <td>NaN</td>\n",
              "      <td>NaN</td>\n",
              "      <td>NaN</td>\n",
              "      <td>NaN</td>\n",
              "      <td>1</td>\n",
              "    </tr>\n",
              "    <tr>\n",
              "      <th>338482</th>\n",
              "      <td>NaN</td>\n",
              "      <td>NaN</td>\n",
              "      <td>35000</td>\n",
              "      <td>35000</td>\n",
              "      <td>35000.0</td>\n",
              "      <td>60 months</td>\n",
              "      <td>10.90</td>\n",
              "      <td>759.25</td>\n",
              "      <td>B</td>\n",
              "      <td>B4</td>\n",
              "      <td>NaN</td>\n",
              "      <td>NaN</td>\n",
              "      <td>OWN</td>\n",
              "      <td>30000.0</td>\n",
              "      <td>Verified</td>\n",
              "      <td>May-2018</td>\n",
              "      <td>Default</td>\n",
              "      <td>n</td>\n",
              "      <td>NaN</td>\n",
              "      <td>NaN</td>\n",
              "      <td>debt_consolidation</td>\n",
              "      <td>Debt consolidation</td>\n",
              "      <td>141xx</td>\n",
              "      <td>NY</td>\n",
              "      <td>3.44</td>\n",
              "      <td>0.0</td>\n",
              "      <td>Feb-2004</td>\n",
              "      <td>0.0</td>\n",
              "      <td>NaN</td>\n",
              "      <td>NaN</td>\n",
              "      <td>3.0</td>\n",
              "      <td>0.0</td>\n",
              "      <td>12763.0</td>\n",
              "      <td>2.0</td>\n",
              "      <td>14.0</td>\n",
              "      <td>w</td>\n",
              "      <td>32251.22</td>\n",
              "      <td>32251.22</td>\n",
              "      <td>5500.13</td>\n",
              "      <td>5500.13</td>\n",
              "      <td>...</td>\n",
              "      <td>0.0</td>\n",
              "      <td>99000.0</td>\n",
              "      <td>12763.0</td>\n",
              "      <td>14000.0</td>\n",
              "      <td>0.0</td>\n",
              "      <td>18304.0</td>\n",
              "      <td>Oct-2005</td>\n",
              "      <td>2.0</td>\n",
              "      <td>1.0</td>\n",
              "      <td>4.0</td>\n",
              "      <td>87.8</td>\n",
              "      <td>1.0</td>\n",
              "      <td>10.0</td>\n",
              "      <td>0.0</td>\n",
              "      <td>0.0</td>\n",
              "      <td>39.0</td>\n",
              "      <td>N</td>\n",
              "      <td>NaN</td>\n",
              "      <td>NaN</td>\n",
              "      <td>NaN</td>\n",
              "      <td>NaN</td>\n",
              "      <td>NaN</td>\n",
              "      <td>NaN</td>\n",
              "      <td>NaN</td>\n",
              "      <td>NaN</td>\n",
              "      <td>NaN</td>\n",
              "      <td>NaN</td>\n",
              "      <td>NaN</td>\n",
              "      <td>NaN</td>\n",
              "      <td>NaN</td>\n",
              "      <td>NaN</td>\n",
              "      <td>Cash</td>\n",
              "      <td>N</td>\n",
              "      <td>NaN</td>\n",
              "      <td>NaN</td>\n",
              "      <td>NaN</td>\n",
              "      <td>NaN</td>\n",
              "      <td>NaN</td>\n",
              "      <td>NaN</td>\n",
              "      <td>1</td>\n",
              "    </tr>\n",
              "    <tr>\n",
              "      <th>347594</th>\n",
              "      <td>NaN</td>\n",
              "      <td>NaN</td>\n",
              "      <td>22000</td>\n",
              "      <td>22000</td>\n",
              "      <td>22000.0</td>\n",
              "      <td>60 months</td>\n",
              "      <td>24.84</td>\n",
              "      <td>643.67</td>\n",
              "      <td>E</td>\n",
              "      <td>E3</td>\n",
              "      <td>Teacher</td>\n",
              "      <td>4 years</td>\n",
              "      <td>RENT</td>\n",
              "      <td>62000.0</td>\n",
              "      <td>Verified</td>\n",
              "      <td>Apr-2018</td>\n",
              "      <td>Default</td>\n",
              "      <td>n</td>\n",
              "      <td>NaN</td>\n",
              "      <td>NaN</td>\n",
              "      <td>other</td>\n",
              "      <td>Other</td>\n",
              "      <td>088xx</td>\n",
              "      <td>NJ</td>\n",
              "      <td>16.12</td>\n",
              "      <td>0.0</td>\n",
              "      <td>Sep-2007</td>\n",
              "      <td>0.0</td>\n",
              "      <td>NaN</td>\n",
              "      <td>NaN</td>\n",
              "      <td>16.0</td>\n",
              "      <td>0.0</td>\n",
              "      <td>6591.0</td>\n",
              "      <td>90.3</td>\n",
              "      <td>31.0</td>\n",
              "      <td>w</td>\n",
              "      <td>21022.29</td>\n",
              "      <td>21022.29</td>\n",
              "      <td>3878.64</td>\n",
              "      <td>3878.64</td>\n",
              "      <td>...</td>\n",
              "      <td>0.0</td>\n",
              "      <td>68633.0</td>\n",
              "      <td>74439.0</td>\n",
              "      <td>4600.0</td>\n",
              "      <td>61333.0</td>\n",
              "      <td>NaN</td>\n",
              "      <td>NaN</td>\n",
              "      <td>NaN</td>\n",
              "      <td>NaN</td>\n",
              "      <td>NaN</td>\n",
              "      <td>NaN</td>\n",
              "      <td>NaN</td>\n",
              "      <td>NaN</td>\n",
              "      <td>NaN</td>\n",
              "      <td>NaN</td>\n",
              "      <td>NaN</td>\n",
              "      <td>N</td>\n",
              "      <td>NaN</td>\n",
              "      <td>NaN</td>\n",
              "      <td>NaN</td>\n",
              "      <td>NaN</td>\n",
              "      <td>NaN</td>\n",
              "      <td>NaN</td>\n",
              "      <td>NaN</td>\n",
              "      <td>NaN</td>\n",
              "      <td>NaN</td>\n",
              "      <td>NaN</td>\n",
              "      <td>NaN</td>\n",
              "      <td>NaN</td>\n",
              "      <td>NaN</td>\n",
              "      <td>NaN</td>\n",
              "      <td>Cash</td>\n",
              "      <td>N</td>\n",
              "      <td>NaN</td>\n",
              "      <td>NaN</td>\n",
              "      <td>NaN</td>\n",
              "      <td>NaN</td>\n",
              "      <td>NaN</td>\n",
              "      <td>NaN</td>\n",
              "      <td>1</td>\n",
              "    </tr>\n",
              "  </tbody>\n",
              "</table>\n",
              "<p>5 rows × 146 columns</p>\n",
              "</div>"
            ],
            "text/plain": [
              "        id  member_id  ...  settlement_term  Defaulted\n",
              "220496 NaN        NaN  ...              NaN          1\n",
              "220980 NaN        NaN  ...              NaN          1\n",
              "260870 NaN        NaN  ...              NaN          1\n",
              "338482 NaN        NaN  ...              NaN          1\n",
              "347594 NaN        NaN  ...              NaN          1\n",
              "\n",
              "[5 rows x 146 columns]"
            ]
          },
          "metadata": {
            "tags": []
          },
          "execution_count": 40
        }
      ]
    },
    {
      "cell_type": "code",
      "metadata": {
        "id": "wBimZA5cpEV8",
        "colab_type": "code",
        "outputId": "d98a0358-1c6e-4a74-fe14-f87fc56f91ae",
        "colab": {
          "base_uri": "https://localhost:8080/",
          "height": 34
        }
      },
      "source": [
        "# A binary variable, can take 2 values. For example,\n",
        "# the variable defaulted that we just created:\n",
        "# either the loan is defaulted (1) or not (0)\n",
        "\n",
        "data.Defaulted.unique()"
      ],
      "execution_count": 41,
      "outputs": [
        {
          "output_type": "execute_result",
          "data": {
            "text/plain": [
              "array([0, 1])"
            ]
          },
          "metadata": {
            "tags": []
          },
          "execution_count": 41
        }
      ]
    },
    {
      "cell_type": "code",
      "metadata": {
        "id": "IhELKrxhpMPj",
        "colab_type": "code",
        "outputId": "88427f16-e343-4bab-9372-3adbc44c8a0b",
        "colab": {
          "base_uri": "https://localhost:8080/",
          "height": 296
        }
      },
      "source": [
        "data.Defaulted.plot.hist()\n",
        "plt.xlabel('Deafaulted Accounts')\n",
        "plt.ylabel('Number of Loan')\n",
        "plt.xlim(0,2)"
      ],
      "execution_count": 42,
      "outputs": [
        {
          "output_type": "execute_result",
          "data": {
            "text/plain": [
              "(0, 2)"
            ]
          },
          "metadata": {
            "tags": []
          },
          "execution_count": 42
        },
        {
          "output_type": "display_data",
          "data": {
            "image/png": "[encoded data removed]",
            "text/plain": [
              "<Figure size 432x288 with 1 Axes>"
            ]
          },
          "metadata": {
            "tags": []
          }
        }
      ]
    },
    {
      "cell_type": "code",
      "metadata": {
        "id": "Hh30khXUee4Z",
        "colab_type": "code",
        "outputId": "6799db5d-798e-483b-d4c9-5092fdb5d647",
        "colab": {
          "base_uri": "https://localhost:8080/",
          "height": 34
        }
      },
      "source": [
        "from google.colab import drive\n",
        "drive.mount('/content/drive')"
      ],
      "execution_count": 43,
      "outputs": [
        {
          "output_type": "stream",
          "text": [
            "Drive already mounted at /content/drive; to attempt to forcibly remount, call drive.mount(\"/content/drive\", force_remount=True).\n"
          ],
          "name": "stdout"
        }
      ]
    },
    {
      "cell_type": "markdown",
      "metadata": {
        "id": "wWywyT31sLbP",
        "colab_type": "text"
      },
      "source": [
        "#### As we can see, the variable shows only 2 values, 0 and 1, and the majority of the loans are ok."
      ]
    },
    {
      "cell_type": "markdown",
      "metadata": {
        "id": "g1u5DW--xmTv",
        "colab_type": "text"
      },
      "source": [
        "##Categorical variables\n",
        "The values of a categorical variable are selected from a group of categories, also called labels. \n",
        "\n",
        "Examples are gender (male or female) and marital status (never married, married, divorced or widowed). Other examples of categorical variables include:\n",
        "\n",
        "- Intended use of loan (debt-consolidation, car purchase, wedding expenses, ...)\n",
        "- Mobile network provider (Vodafone, Orange, ...)\n",
        "Postcode\n",
        "\n",
        "Categorical variables can be further categorised into \n",
        "- ordinal and \n",
        "- nominal variables."
      ]
    },
    {
      "cell_type": "markdown",
      "metadata": {
        "id": "XN2ZDyp9xwoW",
        "colab_type": "text"
      },
      "source": [
        "##Ordinal categorical variables"
      ]
    },
    {
      "cell_type": "markdown",
      "metadata": {
        "id": "nujtBMqQyrzE",
        "colab_type": "text"
      },
      "source": [
        "####Categorical variable in which categories can be meaningfully ordered are called ordinal. For example:\n",
        "\n",
        "- Student's grade in an exam (A, B, C or Fail).\n",
        "- Days of the week can be ordinal with Monday = 1 and Sunday = 7.\n",
        "- Educational level, with the categories Elementary school, High school, College graduate and PhD ranked from 1 to 4."
      ]
    },
    {
      "cell_type": "markdown",
      "metadata": {
        "id": "jYlKwBfQzn0t",
        "colab_type": "text"
      },
      "source": [
        "#### Nominal categorical variable\n",
        "There isn't an intrinsic order of the labels. \n",
        "\n",
        "For example, country of birth (Argentina, England, Germany) is nominal. Other examples of nominal variables include:\n",
        "\n",
        "Postcode\n",
        "Vehicle make (Citroen, Peugeot, ...)\n",
        "There is nothing that indicates an intrinsic order of the labels, and in principle, they are all equal.\n",
        "\n",
        "#### To be considered:\n",
        "\n",
        "\n",
        "\n",
        "Sometimes categorical variables are coded as numbers when the data are recorded (e.g. gender may be coded as 0 for males and 1 for females). The variable is still categorical, despite the use of numbers.\n",
        "\n",
        "In a similar way, individuals in a survey may be coded with a number that uniquely identifies them (for example to avoid storing personal information for confidentiality). This number is really a label, and the variable then categorical. The number has no meaning other than making it possible to uniquely identify the observation (in this case the interviewed subject).\n",
        "\n",
        "Ideally, when we work with a dataset in a business scenario, the data will come with a dictionary that indicates if the numbers in the variables are to be considered as categories or if they are numerical. And if the numbers are categoriies, the dictionary would explain what they intend to represent."
      ]
    },
    {
      "cell_type": "code",
      "metadata": {
        "id": "ZedYbFws0pX7",
        "colab_type": "code",
        "colab": {}
      },
      "source": [
        "categorical_columns = [col for col in data.columns if data[col].dtype == 'object']"
      ],
      "execution_count": 0,
      "outputs": []
    },
    {
      "cell_type": "code",
      "metadata": {
        "id": "6y72E-XQ1BzF",
        "colab_type": "code",
        "outputId": "9f394065-f0e5-4932-8134-388ee43e1ecd",
        "colab": {
          "base_uri": "https://localhost:8080/",
          "height": 629
        }
      },
      "source": [
        "categorical_columns"
      ],
      "execution_count": 45,
      "outputs": [
        {
          "output_type": "execute_result",
          "data": {
            "text/plain": [
              "['term',\n",
              " 'grade',\n",
              " 'sub_grade',\n",
              " 'emp_title',\n",
              " 'emp_length',\n",
              " 'home_ownership',\n",
              " 'verification_status',\n",
              " 'issue_d',\n",
              " 'loan_status',\n",
              " 'pymnt_plan',\n",
              " 'desc',\n",
              " 'purpose',\n",
              " 'title',\n",
              " 'zip_code',\n",
              " 'addr_state',\n",
              " 'earliest_cr_line',\n",
              " 'initial_list_status',\n",
              " 'last_pymnt_d',\n",
              " 'next_pymnt_d',\n",
              " 'last_credit_pull_d',\n",
              " 'application_type',\n",
              " 'verification_status_joint',\n",
              " 'sec_app_earliest_cr_line',\n",
              " 'hardship_flag',\n",
              " 'hardship_type',\n",
              " 'hardship_reason',\n",
              " 'hardship_status',\n",
              " 'hardship_start_date',\n",
              " 'hardship_end_date',\n",
              " 'payment_plan_start_date',\n",
              " 'hardship_loan_status',\n",
              " 'disbursement_method',\n",
              " 'debt_settlement_flag',\n",
              " 'debt_settlement_flag_date',\n",
              " 'settlement_status',\n",
              " 'settlement_date']"
            ]
          },
          "metadata": {
            "tags": []
          },
          "execution_count": 45
        }
      ]
    },
    {
      "cell_type": "code",
      "metadata": {
        "id": "g5K9QQ6y6uCX",
        "colab_type": "code",
        "outputId": "6ee0c5e9-43cf-483b-a470-165b8762bbdf",
        "colab": {
          "base_uri": "https://localhost:8080/",
          "height": 204
        }
      },
      "source": [
        "use_cols = ['id', 'purpose', 'loan_status', 'home_ownership']\n",
        "data[use_cols].head()"
      ],
      "execution_count": 46,
      "outputs": [
        {
          "output_type": "execute_result",
          "data": {
            "text/html": [
              "<div>\n",
              "<style scoped>\n",
              "    .dataframe tbody tr th:only-of-type {\n",
              "        vertical-align: middle;\n",
              "    }\n",
              "\n",
              "    .dataframe tbody tr th {\n",
              "        vertical-align: top;\n",
              "    }\n",
              "\n",
              "    .dataframe thead th {\n",
              "        text-align: right;\n",
              "    }\n",
              "</style>\n",
              "<table border=\"1\" class=\"dataframe\">\n",
              "  <thead>\n",
              "    <tr style=\"text-align: right;\">\n",
              "      <th></th>\n",
              "      <th>id</th>\n",
              "      <th>purpose</th>\n",
              "      <th>loan_status</th>\n",
              "      <th>home_ownership</th>\n",
              "    </tr>\n",
              "  </thead>\n",
              "  <tbody>\n",
              "    <tr>\n",
              "      <th>0</th>\n",
              "      <td>NaN</td>\n",
              "      <td>debt_consolidation</td>\n",
              "      <td>Current</td>\n",
              "      <td>RENT</td>\n",
              "    </tr>\n",
              "    <tr>\n",
              "      <th>1</th>\n",
              "      <td>NaN</td>\n",
              "      <td>debt_consolidation</td>\n",
              "      <td>Current</td>\n",
              "      <td>MORTGAGE</td>\n",
              "    </tr>\n",
              "    <tr>\n",
              "      <th>2</th>\n",
              "      <td>NaN</td>\n",
              "      <td>debt_consolidation</td>\n",
              "      <td>Current</td>\n",
              "      <td>MORTGAGE</td>\n",
              "    </tr>\n",
              "    <tr>\n",
              "      <th>3</th>\n",
              "      <td>NaN</td>\n",
              "      <td>debt_consolidation</td>\n",
              "      <td>Current</td>\n",
              "      <td>MORTGAGE</td>\n",
              "    </tr>\n",
              "    <tr>\n",
              "      <th>4</th>\n",
              "      <td>NaN</td>\n",
              "      <td>debt_consolidation</td>\n",
              "      <td>Current</td>\n",
              "      <td>MORTGAGE</td>\n",
              "    </tr>\n",
              "  </tbody>\n",
              "</table>\n",
              "</div>"
            ],
            "text/plain": [
              "   id             purpose loan_status home_ownership\n",
              "0 NaN  debt_consolidation     Current           RENT\n",
              "1 NaN  debt_consolidation     Current       MORTGAGE\n",
              "2 NaN  debt_consolidation     Current       MORTGAGE\n",
              "3 NaN  debt_consolidation     Current       MORTGAGE\n",
              "4 NaN  debt_consolidation     Current       MORTGAGE"
            ]
          },
          "metadata": {
            "tags": []
          },
          "execution_count": 46
        }
      ]
    },
    {
      "cell_type": "code",
      "metadata": {
        "id": "MMu_t0kb7dhs",
        "colab_type": "code",
        "outputId": "2666aae7-3584-494f-84d2-1b8ff9fbb7d8",
        "colab": {
          "base_uri": "https://localhost:8080/",
          "height": 34
        }
      },
      "source": [
        "# let's inspect the variable home ownership,\n",
        "# which indicates whether the borrowers own their home\n",
        "# or if they are renting for example, among other things.\n",
        "data.home_ownership.unique()"
      ],
      "execution_count": 47,
      "outputs": [
        {
          "output_type": "execute_result",
          "data": {
            "text/plain": [
              "array(['RENT', 'MORTGAGE', 'OWN', 'ANY'], dtype=object)"
            ]
          },
          "metadata": {
            "tags": []
          },
          "execution_count": 47
        }
      ]
    },
    {
      "cell_type": "markdown",
      "metadata": {
        "id": "ibi1SgZ_7q2j",
        "colab_type": "text"
      },
      "source": [
        "## For categorical data we use bar plots"
      ]
    },
    {
      "cell_type": "code",
      "metadata": {
        "id": "RuA0rZ1h7t8T",
        "colab_type": "code",
        "outputId": "3397a1b3-5eb7-4d9e-a6ef-fc07599f886e",
        "colab": {
          "base_uri": "https://localhost:8080/",
          "height": 346
        }
      },
      "source": [
        "data['home_ownership'].value_counts().plot.bar()\n",
        "plt.ylabel('Number Of Customers')\n",
        "plt.title('Home Ownership')"
      ],
      "execution_count": 48,
      "outputs": [
        {
          "output_type": "execute_result",
          "data": {
            "text/plain": [
              "Text(0.5, 1.0, 'Home Ownership')"
            ]
          },
          "metadata": {
            "tags": []
          },
          "execution_count": 48
        },
        {
          "output_type": "display_data",
          "data": {
            "image/png": "[encoded data removed]",
            "text/plain": [
              "<Figure size 432x288 with 1 Axes>"
            ]
          },
          "metadata": {
            "tags": []
          }
        }
      ]
    },
    {
      "cell_type": "markdown",
      "metadata": {
        "id": "JVR9kBYx9-AO",
        "colab_type": "text"
      },
      "source": [
        "#### The majority of the borrowers either own their house on a mortgage or rent their property. A few borrowers own their home completely. The category 'Other' seems to be empty. To be completely sure, we could print the numbers as below."
      ]
    },
    {
      "cell_type": "code",
      "metadata": {
        "id": "Zl6FmGxA9XOI",
        "colab_type": "code",
        "outputId": "1276e469-921b-4a63-ce24-45067e6c7500",
        "colab": {
          "base_uri": "https://localhost:8080/",
          "height": 0
        }
      },
      "source": [
        "import seaborn as sns\n",
        "sns.countplot(data['home_ownership'])"
      ],
      "execution_count": 49,
      "outputs": [
        {
          "output_type": "execute_result",
          "data": {
            "text/plain": [
              "<matplotlib.axes._subplots.AxesSubplot at 0x7fe733d46cc0>"
            ]
          },
          "metadata": {
            "tags": []
          },
          "execution_count": 49
        },
        {
          "output_type": "display_data",
          "data": {
            "image/png": "[encoded data removed]",
            "text/plain": [
              "<Figure size 432x288 with 1 Axes>"
            ]
          },
          "metadata": {
            "tags": []
          }
        }
      ]
    },
    {
      "cell_type": "code",
      "metadata": {
        "id": "uTYH33Am-RaW",
        "colab_type": "code",
        "outputId": "7b5a5ea1-863a-4020-8559-863673ccd7ff",
        "colab": {
          "base_uri": "https://localhost:8080/",
          "height": 0
        }
      },
      "source": [
        "data['home_ownership'].value_counts()"
      ],
      "execution_count": 50,
      "outputs": [
        {
          "output_type": "execute_result",
          "data": {
            "text/plain": [
              "MORTGAGE    638518\n",
              "RENT        516343\n",
              "OWN         154712\n",
              "ANY            600\n",
              "Name: home_ownership, dtype: int64"
            ]
          },
          "metadata": {
            "tags": []
          },
          "execution_count": 50
        }
      ]
    },
    {
      "cell_type": "markdown",
      "metadata": {
        "id": "J0Yd69bM-fZf",
        "colab_type": "text"
      },
      "source": [
        "## There are 2 borrowers that have other arrangements for their property. For example, they could live with their parents, or live in a hotel."
      ]
    },
    {
      "cell_type": "code",
      "metadata": {
        "id": "8jkvQWpU-jd5",
        "colab_type": "code",
        "outputId": "5621be14-176d-4b2a-f7a1-85101c5fe6cd",
        "colab": {
          "base_uri": "https://localhost:8080/",
          "height": 85
        }
      },
      "source": [
        "# the \"purpose\" variable is another categorical variable\n",
        "# that indicates how the borrowers intend to use the\n",
        "# money they are borrowing, for example to improve their\n",
        "# house, or to cancel previous debt.\n",
        "data.purpose.unique()"
      ],
      "execution_count": 51,
      "outputs": [
        {
          "output_type": "execute_result",
          "data": {
            "text/plain": [
              "array(['debt_consolidation', 'credit_card', 'house', 'car', 'other',\n",
              "       'vacation', 'home_improvement', 'small_business', 'major_purchase',\n",
              "       'medical', 'renewable_energy', 'moving', 'wedding', 'educational'],\n",
              "      dtype=object)"
            ]
          },
          "metadata": {
            "tags": []
          },
          "execution_count": 51
        }
      ]
    },
    {
      "cell_type": "code",
      "metadata": {
        "id": "TaFHkr_FDp8U",
        "colab_type": "code",
        "outputId": "4c6f22e9-468d-4b35-ec7b-eaad05dfa7dc",
        "colab": {
          "base_uri": "https://localhost:8080/",
          "height": 678
        }
      },
      "source": [
        "plt.figure(figsize=(20,11))\n",
        "sns.countplot(data.purpose)"
      ],
      "execution_count": 52,
      "outputs": [
        {
          "output_type": "execute_result",
          "data": {
            "text/plain": [
              "<matplotlib.axes._subplots.AxesSubplot at 0x7fe733c8b9b0>"
            ]
          },
          "metadata": {
            "tags": []
          },
          "execution_count": 52
        },
        {
          "output_type": "display_data",
          "data": {
            "image/png": "[encoded data removed]",
            "text/plain": [
              "<Figure size 1440x792 with 1 Axes>"
            ]
          },
          "metadata": {
            "tags": []
          }
        }
      ]
    },
    {
      "cell_type": "code",
      "metadata": {
        "id": "xkbQfoz-EEsq",
        "colab_type": "code",
        "outputId": "cf78c99b-e32e-49d4-aacc-347a50719c29",
        "colab": {
          "base_uri": "https://localhost:8080/",
          "height": 388
        }
      },
      "source": [
        "data['purpose'].value_counts().plot.bar()\n",
        "plt.title('Loan Purpose')\n",
        "plt.ylabel('Number of Customers')\n"
      ],
      "execution_count": 53,
      "outputs": [
        {
          "output_type": "execute_result",
          "data": {
            "text/plain": [
              "Text(0, 0.5, 'Number of Customers')"
            ]
          },
          "metadata": {
            "tags": []
          },
          "execution_count": 53
        },
        {
          "output_type": "display_data",
          "data": {
            "image/png": "[encoded data removed]",
            "text/plain": [
              "<Figure size 432x288 with 1 Axes>"
            ]
          },
          "metadata": {
            "tags": []
          }
        }
      ]
    },
    {
      "cell_type": "markdown",
      "metadata": {
        "id": "wsnUfXR7E7Pc",
        "colab_type": "text"
      },
      "source": [
        "The majority of the borrowers intend to use the loan for 'debt consolidation' or to repay their 'credit cards'. This is quite a common among borrowers. What the borrowers intend to do is, to consolidate all the debt that they have on different financial items, in one single debt, the new loan that they will take from Lending Club in this case. This loan will usually provide an advantage to the borrower, either in the form of lower interest rates than a credit card, for example, or longer repayment period."
      ]
    },
    {
      "cell_type": "code",
      "metadata": {
        "id": "Kl-Bo4yKE8pt",
        "colab_type": "code",
        "outputId": "56b76b17-042c-443f-8fad-940fc2b8ccfd",
        "colab": {
          "base_uri": "https://localhost:8080/",
          "height": 51
        }
      },
      "source": [
        "# let's look at one additional categorical variable,\n",
        "# \"loan status\", which represents the current status\n",
        "# of the loan. This is whether the loan is still active\n",
        "# and being repaid, or if it was defaulted,\n",
        "# or if it was fully paid among other things.\n",
        "\n",
        "data.loan_status.unique()"
      ],
      "execution_count": 54,
      "outputs": [
        {
          "output_type": "execute_result",
          "data": {
            "text/plain": [
              "array(['Current', 'Fully Paid', 'Late (31-120 days)', 'In Grace Period',\n",
              "       'Charged Off', 'Late (16-30 days)', 'Default'], dtype=object)"
            ]
          },
          "metadata": {
            "tags": []
          },
          "execution_count": 54
        }
      ]
    },
    {
      "cell_type": "code",
      "metadata": {
        "id": "huI3nCT5G2bD",
        "colab_type": "code",
        "outputId": "b38ab0fb-e9db-48bc-b27d-0c31da90b487",
        "colab": {
          "base_uri": "https://localhost:8080/",
          "height": 383
        }
      },
      "source": [
        "data['loan_status'].value_counts().plot.bar()\n",
        "plt.title('Status of the Loan')\n",
        "plt.ylabel('Number of customers')"
      ],
      "execution_count": 55,
      "outputs": [
        {
          "output_type": "execute_result",
          "data": {
            "text/plain": [
              "Text(0, 0.5, 'Number of customers')"
            ]
          },
          "metadata": {
            "tags": []
          },
          "execution_count": 55
        },
        {
          "output_type": "display_data",
          "data": {
            "image/png": "[encoded data removed]",
            "text/plain": [
              "<Figure size 432x288 with 1 Axes>"
            ]
          },
          "metadata": {
            "tags": []
          }
        }
      ]
    },
    {
      "cell_type": "markdown",
      "metadata": {
        "id": "_qt6jdDhJJvV",
        "colab_type": "text"
      },
      "source": [
        "We can see that the majority of the loans are active (current) and a big number have been 'Fully paid'. The remaining labels have the following meaning:\n",
        "\n",
        "- Late (16-30 days): customer missed a payment\n",
        "- Late (31-120 days): customer is behind in payments for more than a month\n",
        "- Charged off: the company declared that they will not be able to recover the money for that loan ( money is typically lost)\n",
        "- Issued: loan was granted but money not yet sent to borrower\n",
        "- In Grace Period: window of time agreed with customer to wait for payment, usually, when customer is behind in their payments"
      ]
    },
    {
      "cell_type": "code",
      "metadata": {
        "id": "ZPCHzvpkHZmZ",
        "colab_type": "code",
        "outputId": "e6f32bf2-0df4-452e-a8c1-ca5a2d2a03ea",
        "colab": {
          "base_uri": "https://localhost:8080/",
          "height": 119
        }
      },
      "source": [
        "# finally, let's look at a variable that is numerical,\n",
        "# but its numbers have no real meaning, and therefore\n",
        "# should be better considered as a categorical one.\n",
        "\n",
        "data['id'].head()"
      ],
      "execution_count": 61,
      "outputs": [
        {
          "output_type": "execute_result",
          "data": {
            "text/plain": [
              "0   NaN\n",
              "1   NaN\n",
              "2   NaN\n",
              "3   NaN\n",
              "4   NaN\n",
              "Name: id, dtype: float64"
            ]
          },
          "metadata": {
            "tags": []
          },
          "execution_count": 61
        }
      ]
    },
    {
      "cell_type": "code",
      "metadata": {
        "id": "2aFevPWHjjSH",
        "colab_type": "code",
        "colab": {
          "base_uri": "https://localhost:8080/",
          "height": 34
        },
        "outputId": "e77cef3b-d65f-4e1b-cb40-1cb8152d224e"
      },
      "source": [
        "data.shape"
      ],
      "execution_count": 62,
      "outputs": [
        {
          "output_type": "execute_result",
          "data": {
            "text/plain": [
              "(2260668, 145)"
            ]
          },
          "metadata": {
            "tags": []
          },
          "execution_count": 62
        }
      ]
    },
    {
      "cell_type": "code",
      "metadata": {
        "id": "MD-dlOzCjpDL",
        "colab_type": "code",
        "colab": {
          "base_uri": "https://localhost:8080/",
          "height": 34
        },
        "outputId": "9bd849ed-8d81-4d66-d30c-6db68bd7c6a4"
      },
      "source": [
        "len(data['id'].unique())"
      ],
      "execution_count": 63,
      "outputs": [
        {
          "output_type": "execute_result",
          "data": {
            "text/plain": [
              "1"
            ]
          },
          "metadata": {
            "tags": []
          },
          "execution_count": 63
        }
      ]
    },
    {
      "cell_type": "markdown",
      "metadata": {
        "id": "JoAKPPwvkb7I",
        "colab_type": "text"
      },
      "source": [
        "## Dates and Times\n",
        "A special type of categorical variable are those that instead of taking traditional labels, like color (blue, red), or city (London, Manchester), take dates as values. \n",
        "\n",
        "For example, date of birth ('29-08-1987', '12-01-2012'), or time of application ('2016-Dec', '2013-March').\n",
        "\n",
        "Datetime variables can contain dates only, or time only, or date and time.\n",
        "\n",
        "Typically, we would never work with a date variable as a categorical variable, for a variety of reasons:\n",
        "\n",
        "- Date variables usually contain a huge number of individual categories, which will expand the feature space dramatically\n",
        "- Date variables allow us to capture much more information from the dataset if preprocessed in the right way\n",
        "\n",
        "- In addition, often, date variables will contain dates that were not present in the dataset that we used to train the machine learning algorithm. In fact, will contain dates placed in the future respect to the dates present in the dataset we used to train. Therefore, the machine learning model will not know what to do with them, because it never saw them while being trained."
      ]
    },
    {
      "cell_type": "code",
      "metadata": {
        "id": "HyObWgfAknv4",
        "colab_type": "code",
        "colab": {
          "base_uri": "https://localhost:8080/",
          "height": 204
        },
        "outputId": "281e4290-8527-4ff0-8135-ffa92f5a1ac2"
      },
      "source": [
        "use_cols = ['loan_amnt', 'grade', 'purpose', 'issue_d', 'last_pymnt_d']\n",
        "df_pymnt = data[use_cols]\n",
        "df_pymnt.head()"
      ],
      "execution_count": 67,
      "outputs": [
        {
          "output_type": "execute_result",
          "data": {
            "text/html": [
              "<div>\n",
              "<style scoped>\n",
              "    .dataframe tbody tr th:only-of-type {\n",
              "        vertical-align: middle;\n",
              "    }\n",
              "\n",
              "    .dataframe tbody tr th {\n",
              "        vertical-align: top;\n",
              "    }\n",
              "\n",
              "    .dataframe thead th {\n",
              "        text-align: right;\n",
              "    }\n",
              "</style>\n",
              "<table border=\"1\" class=\"dataframe\">\n",
              "  <thead>\n",
              "    <tr style=\"text-align: right;\">\n",
              "      <th></th>\n",
              "      <th>loan_amnt</th>\n",
              "      <th>grade</th>\n",
              "      <th>purpose</th>\n",
              "      <th>issue_d</th>\n",
              "      <th>last_pymnt_d</th>\n",
              "    </tr>\n",
              "  </thead>\n",
              "  <tbody>\n",
              "    <tr>\n",
              "      <th>0</th>\n",
              "      <td>2500</td>\n",
              "      <td>C</td>\n",
              "      <td>debt_consolidation</td>\n",
              "      <td>Dec-2018</td>\n",
              "      <td>Feb-2019</td>\n",
              "    </tr>\n",
              "    <tr>\n",
              "      <th>1</th>\n",
              "      <td>30000</td>\n",
              "      <td>D</td>\n",
              "      <td>debt_consolidation</td>\n",
              "      <td>Dec-2018</td>\n",
              "      <td>Feb-2019</td>\n",
              "    </tr>\n",
              "    <tr>\n",
              "      <th>2</th>\n",
              "      <td>5000</td>\n",
              "      <td>D</td>\n",
              "      <td>debt_consolidation</td>\n",
              "      <td>Dec-2018</td>\n",
              "      <td>Feb-2019</td>\n",
              "    </tr>\n",
              "    <tr>\n",
              "      <th>3</th>\n",
              "      <td>4000</td>\n",
              "      <td>D</td>\n",
              "      <td>debt_consolidation</td>\n",
              "      <td>Dec-2018</td>\n",
              "      <td>Feb-2019</td>\n",
              "    </tr>\n",
              "    <tr>\n",
              "      <th>4</th>\n",
              "      <td>30000</td>\n",
              "      <td>C</td>\n",
              "      <td>debt_consolidation</td>\n",
              "      <td>Dec-2018</td>\n",
              "      <td>Feb-2019</td>\n",
              "    </tr>\n",
              "  </tbody>\n",
              "</table>\n",
              "</div>"
            ],
            "text/plain": [
              "   loan_amnt grade             purpose   issue_d last_pymnt_d\n",
              "0       2500     C  debt_consolidation  Dec-2018     Feb-2019\n",
              "1      30000     D  debt_consolidation  Dec-2018     Feb-2019\n",
              "2       5000     D  debt_consolidation  Dec-2018     Feb-2019\n",
              "3       4000     D  debt_consolidation  Dec-2018     Feb-2019\n",
              "4      30000     C  debt_consolidation  Dec-2018     Feb-2019"
            ]
          },
          "metadata": {
            "tags": []
          },
          "execution_count": 67
        }
      ]
    },
    {
      "cell_type": "code",
      "metadata": {
        "id": "U0PkBpXgk0R-",
        "colab_type": "code",
        "colab": {
          "base_uri": "https://localhost:8080/",
          "height": 119
        },
        "outputId": "057ae1ac-803e-4922-d7bf-ca826752d7dc"
      },
      "source": [
        "\n",
        "# let's inspect at the pandas type of object used to store the information\n",
        "\n",
        "df_pymnt.dtypes"
      ],
      "execution_count": 68,
      "outputs": [
        {
          "output_type": "execute_result",
          "data": {
            "text/plain": [
              "loan_amnt        int64\n",
              "grade           object\n",
              "purpose         object\n",
              "issue_d         object\n",
              "last_pymnt_d    object\n",
              "dtype: object"
            ]
          },
          "metadata": {
            "tags": []
          },
          "execution_count": 68
        }
      ]
    },
    {
      "cell_type": "code",
      "metadata": {
        "id": "hf-DqlpLoRBh",
        "colab_type": "code",
        "colab": {
          "base_uri": "https://localhost:8080/",
          "height": 408
        },
        "outputId": "303dbd0b-56f9-4998-eead-19599ca5683b"
      },
      "source": [
        "# now let's parse the dates, currently coded as strings, into datetime format\n",
        "# this will allow us to make some analysis afterwards\n",
        "\n",
        "df_pymnt['issue_dt'] = pd.to_datetime(df_pymnt.issue_d)\n",
        "df_pymnt['last_pymnt_dt'] = pd.to_datetime(df_pymnt.last_pymnt_d)\n",
        "\n",
        "df_pymnt[['issue_d', 'issue_dt', 'last_pymnt_d', 'last_pymnt_dt']].head()"
      ],
      "execution_count": 79,
      "outputs": [
        {
          "output_type": "stream",
          "text": [
            "/usr/local/lib/python3.6/dist-packages/ipykernel_launcher.py:2: SettingWithCopyWarning: \n",
            "A value is trying to be set on a copy of a slice from a DataFrame.\n",
            "Try using .loc[row_indexer,col_indexer] = value instead\n",
            "\n",
            "See the caveats in the documentation: http://pandas.pydata.org/pandas-docs/stable/user_guide/indexing.html#returning-a-view-versus-a-copy\n",
            "  \n",
            "/usr/local/lib/python3.6/dist-packages/ipykernel_launcher.py:3: SettingWithCopyWarning: \n",
            "A value is trying to be set on a copy of a slice from a DataFrame.\n",
            "Try using .loc[row_indexer,col_indexer] = value instead\n",
            "\n",
            "See the caveats in the documentation: http://pandas.pydata.org/pandas-docs/stable/user_guide/indexing.html#returning-a-view-versus-a-copy\n",
            "  This is separate from the ipykernel package so we can avoid doing imports until\n"
          ],
          "name": "stderr"
        },
        {
          "output_type": "execute_result",
          "data": {
            "text/html": [
              "<div>\n",
              "<style scoped>\n",
              "    .dataframe tbody tr th:only-of-type {\n",
              "        vertical-align: middle;\n",
              "    }\n",
              "\n",
              "    .dataframe tbody tr th {\n",
              "        vertical-align: top;\n",
              "    }\n",
              "\n",
              "    .dataframe thead th {\n",
              "        text-align: right;\n",
              "    }\n",
              "</style>\n",
              "<table border=\"1\" class=\"dataframe\">\n",
              "  <thead>\n",
              "    <tr style=\"text-align: right;\">\n",
              "      <th></th>\n",
              "      <th>issue_d</th>\n",
              "      <th>issue_dt</th>\n",
              "      <th>last_pymnt_d</th>\n",
              "      <th>last_pymnt_dt</th>\n",
              "    </tr>\n",
              "  </thead>\n",
              "  <tbody>\n",
              "    <tr>\n",
              "      <th>0</th>\n",
              "      <td>Dec-2018</td>\n",
              "      <td>2018-12-01</td>\n",
              "      <td>Feb-2019</td>\n",
              "      <td>2019-02-01</td>\n",
              "    </tr>\n",
              "    <tr>\n",
              "      <th>1</th>\n",
              "      <td>Dec-2018</td>\n",
              "      <td>2018-12-01</td>\n",
              "      <td>Feb-2019</td>\n",
              "      <td>2019-02-01</td>\n",
              "    </tr>\n",
              "    <tr>\n",
              "      <th>2</th>\n",
              "      <td>Dec-2018</td>\n",
              "      <td>2018-12-01</td>\n",
              "      <td>Feb-2019</td>\n",
              "      <td>2019-02-01</td>\n",
              "    </tr>\n",
              "    <tr>\n",
              "      <th>3</th>\n",
              "      <td>Dec-2018</td>\n",
              "      <td>2018-12-01</td>\n",
              "      <td>Feb-2019</td>\n",
              "      <td>2019-02-01</td>\n",
              "    </tr>\n",
              "    <tr>\n",
              "      <th>4</th>\n",
              "      <td>Dec-2018</td>\n",
              "      <td>2018-12-01</td>\n",
              "      <td>Feb-2019</td>\n",
              "      <td>2019-02-01</td>\n",
              "    </tr>\n",
              "  </tbody>\n",
              "</table>\n",
              "</div>"
            ],
            "text/plain": [
              "    issue_d   issue_dt last_pymnt_d last_pymnt_dt\n",
              "0  Dec-2018 2018-12-01     Feb-2019    2019-02-01\n",
              "1  Dec-2018 2018-12-01     Feb-2019    2019-02-01\n",
              "2  Dec-2018 2018-12-01     Feb-2019    2019-02-01\n",
              "3  Dec-2018 2018-12-01     Feb-2019    2019-02-01\n",
              "4  Dec-2018 2018-12-01     Feb-2019    2019-02-01"
            ]
          },
          "metadata": {
            "tags": []
          },
          "execution_count": 79
        }
      ]
    },
    {
      "cell_type": "code",
      "metadata": {
        "id": "xk38h1ztlUt8",
        "colab_type": "code",
        "colab": {
          "base_uri": "https://localhost:8080/",
          "height": 514
        },
        "outputId": "6d537b2e-451b-42c4-bd80-813c1a3e749a"
      },
      "source": [
        "# let's see how much money Lending Club has disbursed\n",
        "# (i.e., lent) over the years to the different risk\n",
        "# markets (grade variable)\n",
        "df_grp = df_pymnt.groupby(['issue_dt','grade'])['loan_amnt'].sum().unstack()\n",
        "df_grp.plot(figsize=(14,8),linewidth=2)\n",
        "plt.title('Amount disbursed in time')\n",
        "plt.ylabel('Disbursed Amount (US dollars)')\n",
        "plt.show()"
      ],
      "execution_count": 80,
      "outputs": [
        {
          "output_type": "display_data",
          "data": {
            "image/png": "[encoded data removed]",
            "text/plain": [
              "<Figure size 1008x576 with 1 Axes>"
            ]
          },
          "metadata": {
            "tags": []
          }
        }
      ]
    },
    {
      "cell_type": "markdown",
      "metadata": {
        "id": "DyjhRZl_o33Z",
        "colab_type": "text"
      },
      "source": [
        "#### Note\n",
        "\n",
        "Lending Club seems to have increased the amount of money lent from 2013 onwards. The tendency indicates that they continue to grow. In addition, we can see that their major business comes from lending money to C and B grades.\n",
        "\n",
        "'A' grades are the lower risk borrowers, this is borrowers that most likely will be able to repay their loans, as they are typically in a better financial situation. Borrowers within this grade are typically charged lower interest rates.\n",
        "\n",
        "E, F and G grades represent the riskier borrowers. Usually borrowers in somewhat tighter financial situations, or for whom there is not sufficient financial history to make a reliable credit assessment. They are typically charged higher rates, as the business, and therefore the investors, take a higher risk when lending them money.\n",
        "\n",
        "Lending Club lends the biggest fraction to borrowers that intend to use that money to repay other debt or credit cards."
      ]
    },
    {
      "cell_type": "code",
      "metadata": {
        "id": "noRH0Lb9m12H",
        "colab_type": "code",
        "colab": {
          "base_uri": "https://localhost:8080/",
          "height": 390
        },
        "outputId": "46fceece-33ff-4797-c643-eb1075ccb289"
      },
      "source": [
        "df_grp.head(10)"
      ],
      "execution_count": 81,
      "outputs": [
        {
          "output_type": "execute_result",
          "data": {
            "text/html": [
              "<div>\n",
              "<style scoped>\n",
              "    .dataframe tbody tr th:only-of-type {\n",
              "        vertical-align: middle;\n",
              "    }\n",
              "\n",
              "    .dataframe tbody tr th {\n",
              "        vertical-align: top;\n",
              "    }\n",
              "\n",
              "    .dataframe thead th {\n",
              "        text-align: right;\n",
              "    }\n",
              "</style>\n",
              "<table border=\"1\" class=\"dataframe\">\n",
              "  <thead>\n",
              "    <tr style=\"text-align: right;\">\n",
              "      <th>grade</th>\n",
              "      <th>A</th>\n",
              "      <th>B</th>\n",
              "      <th>C</th>\n",
              "      <th>D</th>\n",
              "      <th>E</th>\n",
              "      <th>F</th>\n",
              "      <th>G</th>\n",
              "    </tr>\n",
              "    <tr>\n",
              "      <th>issue_dt</th>\n",
              "      <th></th>\n",
              "      <th></th>\n",
              "      <th></th>\n",
              "      <th></th>\n",
              "      <th></th>\n",
              "      <th></th>\n",
              "      <th></th>\n",
              "    </tr>\n",
              "  </thead>\n",
              "  <tbody>\n",
              "    <tr>\n",
              "      <th>2007-06-01</th>\n",
              "      <td>25600.0</td>\n",
              "      <td>23625.0</td>\n",
              "      <td>32850.0</td>\n",
              "      <td>1275.0</td>\n",
              "      <td>8500.0</td>\n",
              "      <td>NaN</td>\n",
              "      <td>NaN</td>\n",
              "    </tr>\n",
              "    <tr>\n",
              "      <th>2007-07-01</th>\n",
              "      <td>72750.0</td>\n",
              "      <td>36600.0</td>\n",
              "      <td>105350.0</td>\n",
              "      <td>49375.0</td>\n",
              "      <td>35850.0</td>\n",
              "      <td>36700.0</td>\n",
              "      <td>11700.0</td>\n",
              "    </tr>\n",
              "    <tr>\n",
              "      <th>2007-08-01</th>\n",
              "      <td>76850.0</td>\n",
              "      <td>60550.0</td>\n",
              "      <td>51725.0</td>\n",
              "      <td>63900.0</td>\n",
              "      <td>70500.0</td>\n",
              "      <td>118800.0</td>\n",
              "      <td>72975.0</td>\n",
              "    </tr>\n",
              "    <tr>\n",
              "      <th>2007-09-01</th>\n",
              "      <td>34500.0</td>\n",
              "      <td>64725.0</td>\n",
              "      <td>62875.0</td>\n",
              "      <td>31550.0</td>\n",
              "      <td>36400.0</td>\n",
              "      <td>76450.0</td>\n",
              "      <td>66450.0</td>\n",
              "    </tr>\n",
              "    <tr>\n",
              "      <th>2007-10-01</th>\n",
              "      <td>47700.0</td>\n",
              "      <td>53275.0</td>\n",
              "      <td>170525.0</td>\n",
              "      <td>124575.0</td>\n",
              "      <td>142350.0</td>\n",
              "      <td>117725.0</td>\n",
              "      <td>97075.0</td>\n",
              "    </tr>\n",
              "    <tr>\n",
              "      <th>2007-11-01</th>\n",
              "      <td>66950.0</td>\n",
              "      <td>229900.0</td>\n",
              "      <td>206675.0</td>\n",
              "      <td>140400.0</td>\n",
              "      <td>211000.0</td>\n",
              "      <td>120625.0</td>\n",
              "      <td>33100.0</td>\n",
              "    </tr>\n",
              "    <tr>\n",
              "      <th>2007-12-01</th>\n",
              "      <td>66850.0</td>\n",
              "      <td>348425.0</td>\n",
              "      <td>536875.0</td>\n",
              "      <td>381475.0</td>\n",
              "      <td>309225.0</td>\n",
              "      <td>145950.0</td>\n",
              "      <td>98375.0</td>\n",
              "    </tr>\n",
              "    <tr>\n",
              "      <th>2008-01-01</th>\n",
              "      <td>284525.0</td>\n",
              "      <td>647500.0</td>\n",
              "      <td>652000.0</td>\n",
              "      <td>495375.0</td>\n",
              "      <td>396200.0</td>\n",
              "      <td>314300.0</td>\n",
              "      <td>136100.0</td>\n",
              "    </tr>\n",
              "    <tr>\n",
              "      <th>2008-02-01</th>\n",
              "      <td>189500.0</td>\n",
              "      <td>801250.0</td>\n",
              "      <td>544500.0</td>\n",
              "      <td>547625.0</td>\n",
              "      <td>381625.0</td>\n",
              "      <td>184425.0</td>\n",
              "      <td>310300.0</td>\n",
              "    </tr>\n",
              "    <tr>\n",
              "      <th>2008-03-01</th>\n",
              "      <td>220650.0</td>\n",
              "      <td>1083125.0</td>\n",
              "      <td>908950.0</td>\n",
              "      <td>863375.0</td>\n",
              "      <td>606050.0</td>\n",
              "      <td>251250.0</td>\n",
              "      <td>216650.0</td>\n",
              "    </tr>\n",
              "  </tbody>\n",
              "</table>\n",
              "</div>"
            ],
            "text/plain": [
              "grade              A          B         C  ...         E         F         G\n",
              "issue_dt                                   ...                              \n",
              "2007-06-01   25600.0    23625.0   32850.0  ...    8500.0       NaN       NaN\n",
              "2007-07-01   72750.0    36600.0  105350.0  ...   35850.0   36700.0   11700.0\n",
              "2007-08-01   76850.0    60550.0   51725.0  ...   70500.0  118800.0   72975.0\n",
              "2007-09-01   34500.0    64725.0   62875.0  ...   36400.0   76450.0   66450.0\n",
              "2007-10-01   47700.0    53275.0  170525.0  ...  142350.0  117725.0   97075.0\n",
              "2007-11-01   66950.0   229900.0  206675.0  ...  211000.0  120625.0   33100.0\n",
              "2007-12-01   66850.0   348425.0  536875.0  ...  309225.0  145950.0   98375.0\n",
              "2008-01-01  284525.0   647500.0  652000.0  ...  396200.0  314300.0  136100.0\n",
              "2008-02-01  189500.0   801250.0  544500.0  ...  381625.0  184425.0  310300.0\n",
              "2008-03-01  220650.0  1083125.0  908950.0  ...  606050.0  251250.0  216650.0\n",
              "\n",
              "[10 rows x 7 columns]"
            ]
          },
          "metadata": {
            "tags": []
          },
          "execution_count": 81
        }
      ]
    },
    {
      "cell_type": "code",
      "metadata": {
        "id": "ZUJgMEokqJK7",
        "colab_type": "code",
        "colab": {
          "base_uri": "https://localhost:8080/",
          "height": 68
        },
        "outputId": "97610f04-ea87-491f-f489-71d2e58f1580"
      },
      "source": [
        "data['open_il_24m'].unique()"
      ],
      "execution_count": 83,
      "outputs": [
        {
          "output_type": "execute_result",
          "data": {
            "text/plain": [
              "array([ 2.,  3.,  5.,  1.,  0.,  4.,  6.,  7.,  9., 12.,  8., 10., 11.,\n",
              "       19., 15., 14., 13., 17., 16., 18., 20., 26., 22., 21., 23., 39.,\n",
              "       31., 24., 28., 51., 30., nan])"
            ]
          },
          "metadata": {
            "tags": []
          },
          "execution_count": 83
        }
      ]
    },
    {
      "cell_type": "markdown",
      "metadata": {
        "id": "e_6y9suRsFck",
        "colab_type": "text"
      },
      "source": [
        "## Mixed variables\n",
        "Mixed variables are those which values contain both numbers and labels.\n",
        "\n",
        "Variables can be mixed for a variety of reasons. For example, when credit agencies gather and store financial information of users, usually, the values of the variables they store are numbers. However, in some cases the credit agencies cannot retrieve information for a certain user for different reasons. What Credit Agencies do in these situations is to code each different reason due to which they failed to retrieve information with a different code or 'label'. Like this, they generate mixed type variables. These variables contain numbers when the value could be retrieved, or labels otherwise.\n",
        "\n",
        "As an example, think of the variable 'number_of_open_accounts'. It can take any number, representing the number of different financial accounts of the borrower. Sometimes, information may not be available for a certain borrower, for a variety of reasons. \n",
        "\n",
        "Each reason will be coded by a different letter, for example: \n",
        "\n",
        "* 'A': couldn't identify the person, \n",
        "* 'B': no relevant data, \n",
        "* 'C': person seems not to have any open account.\n",
        "\n",
        "Another example of mixed type variables, is for example the variable missed_payment_status. This variable indicates, whether a borrower has missed a (any) payment in their financial item. \n",
        "\n",
        "For example, if the borrower has a credit card, this variable indicates whether they missed a monthly payment on it. Therefore, this variable can take values of 0, 1, 2, 3 meaning that the customer has missed 0-3 payments in their account. And it can also take the value D, if the customer defaulted on that account.\n",
        "\n",
        "Typically, once the customer has missed 3 payments, the lender declares the item **defaulted (D)**, that is why this variable takes numerical values 0-3 and then D."
      ]
    },
    {
      "cell_type": "code",
      "metadata": {
        "id": "szG-OgufsAOc",
        "colab_type": "code",
        "colab": {}
      },
      "source": [
        ""
      ],
      "execution_count": 0,
      "outputs": []
    }
  ]
}