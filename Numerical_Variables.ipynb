{
  "nbformat": 4,
  "nbformat_minor": 0,
  "metadata": {
    "colab": {
      "name": "Numerical_Variables.ipynb",
      "provenance": [],
      "toc_visible": true,
      "include_colab_link": true
    },
    "kernelspec": {
      "name": "python3",
      "display_name": "Python 3"
    },
    "accelerator": "GPU"
  },
  "cells": [
    {
      "cell_type": "markdown",
      "metadata": {
        "id": "view-in-github",
        "colab_type": "text"
      },
      "source": [
        "<a href=\"https://colab.research.google.com/github/plaban1981/Feature-Engineering-for-Machine-Learning/blob/master/Numerical_Variables.ipynb\" target=\"_parent\"><img src=\"https://colab.research.google.com/assets/colab-badge.svg\" alt=\"Open In Colab\"/></a>"
      ]
    },
    {
      "cell_type": "markdown",
      "metadata": {
        "id": "n-lM4Tq2wgOv",
        "colab_type": "text"
      },
      "source": [
        "\n",
        "#### What is a Variable?\n",
        "A variable is any characteristic, number, or quantity that can be measured or counted. The following are examples of variables:\n",
        "\n",
        "- Age (21, 35, 62, ...)\n",
        "- Gender (male, female)\n",
        "- Income (GBP 20000, GBP 35000, GBP 45000, ...)\n",
        "- House price (GBP 350000, GBP 570000, ...)\n",
        "- Country of birth (China, Russia, Costa Rica, ...)\n",
        "- Eye colour (brown, green, blue, ...)\n",
        "- Vehicle make (Ford, Volkswagen, ...)\n",
        "\n",
        "\n",
        "They are called 'variables' because the value they take may vary (and it usually does) in a population.\n",
        "\n",
        "#### Most variables in a data set can be classified into one of two major types:\n",
        "\n",
        "- Numerical variables\n",
        "- Categorical variables"
      ]
    },
    {
      "cell_type": "markdown",
      "metadata": {
        "id": "YfurfNG4w4PY",
        "colab_type": "text"
      },
      "source": [
        "##Numerical variables\n",
        "The values of a numerical variable are numbers. They can be further classified into \n",
        "\n",
        "- discrete variables and \n",
        "- continuous variables.\n",
        "\n",
        "#### Discrete numerical variable\n",
        "A variable which values are whole numbers (counts) is called discrete. \n",
        "\n",
        "For example, the number of items bought by a customer in a supermarket is discrete. The customer can buy 1, 25, or 50 items, but not 3.7 items. It is always a round number. \n",
        "\n",
        "The following are examples of discrete variables:\n",
        "\n",
        "- Number of active bank accounts of a borrower (1, 4, 7, ...)\n",
        "- Number of pets in the family\n",
        "- Number of children in the family\n",
        "\n",
        "#### Continuous numerical variable\n",
        "A variable that may contain any value within some range is called continuous. \n",
        "\n",
        "For example, the total amount paid by a customer in a supermarket is continuous. \n",
        "\n",
        "The customer can pay, GBP 20.5, GBP 13.10, GBP 83.20 and so on. Other examples of continuous variables are:\n",
        "\n",
        "- House price (in principle, it can take any value) (GBP 350000, 57000, 1000000, ...)\n",
        "- Time spent surfing a website (3.4 seconds, 5.10 seconds, ...)\n",
        "- Total debt as percentage of total income in the last month (0.2, 0.001, 0, 0.75, ...)"
      ]
    },
    {
      "cell_type": "markdown",
      "metadata": {
        "id": "GIAThmSb0DYK",
        "colab_type": "text"
      },
      "source": [
        "## Real Life example: Peer to peer lending (Finance)\n",
        "#### Lending Club\n",
        "\n",
        "Lending Club is a peer-to-peer Lending company based in the US. They match people looking to invest money with people looking to borrow money. When investors invest their money through Lending Club, this money is passed onto borrowers, and when borrowers pay their loans back, the capital plus the interest passes on back to the investors. It is a win for everybody as they can get typically lower loan rates and higher investor returns.\n",
        "\n",
        "If you want to learn more about Lending Club follow this link.\n",
        "\n",
        "The Lending Club dataset contains complete loan data for all loans issued through 2007-2015, including the current loan status (Current, Late, Fully Paid, etc.) and latest payment information. Features include credit scores, number of finance inquiries, address including zip codes and state, and collections among others. Collections indicates whether the customer has missed one or more payments and the team is trying to recover their money.\n",
        "\n",
        "The file is a matrix of about 890 thousand observations and 75 variables. More detail on this dataset can be found in Kaggle's website\n",
        "\n",
        "Let's go ahead and have a look at the variables!\n",
        "\n",
        "====================================================================================================\n",
        "\n",
        "#### To download the Lending Club loan book from Kaggle go to this website\n",
        "\n",
        "Scroll down to the bottom of the page, and click on the link 'loan.csv', and then click the 'download' blue button towards the right of the screen, to download the dataset. Unzip it, and save it to a directory of your choice.\n",
        "\n",
        "Note that you need to be logged in to Kaggle in order to download the datasets."
      ]
    },
    {
      "cell_type": "code",
      "metadata": {
        "id": "JzEzJOaFtjEs",
        "colab_type": "code",
        "colab": {}
      },
      "source": [
        "import pandas as pd\n",
        "import numpy as np\n",
        "import matplotlib.pyplot as plt\n",
        "%matplotlib inline"
      ],
      "execution_count": 0,
      "outputs": []
    },
    {
      "cell_type": "markdown",
      "metadata": {
        "id": "Bqx_Td1O2_JR",
        "colab_type": "text"
      },
      "source": [
        "## let's load the dataset with just a few columns and a few rows to speed things up"
      ]
    },
    {
      "cell_type": "code",
      "metadata": {
        "id": "LQfsFcvd240z",
        "colab_type": "code",
        "colab": {
          "base_uri": "https://localhost:8080/",
          "height": 204
        },
        "outputId": "0aff39a7-0e68-4ab6-fa10-ed4d7fcc2af6"
      },
      "source": [
        "use_cols = ['loan_amnt', 'int_rate', 'annual_inc', 'open_acc', 'loan_status','open_il_12m']\n",
        "data = pd.read_csv('loan.csv', usecols=use_cols)  # set a seed for reproducibility\n",
        "data.head()"
      ],
      "execution_count": 21,
      "outputs": [
        {
          "output_type": "execute_result",
          "data": {
            "text/html": [
              "<div>\n",
              "<style scoped>\n",
              "    .dataframe tbody tr th:only-of-type {\n",
              "        vertical-align: middle;\n",
              "    }\n",
              "\n",
              "    .dataframe tbody tr th {\n",
              "        vertical-align: top;\n",
              "    }\n",
              "\n",
              "    .dataframe thead th {\n",
              "        text-align: right;\n",
              "    }\n",
              "</style>\n",
              "<table border=\"1\" class=\"dataframe\">\n",
              "  <thead>\n",
              "    <tr style=\"text-align: right;\">\n",
              "      <th></th>\n",
              "      <th>loan_amnt</th>\n",
              "      <th>int_rate</th>\n",
              "      <th>annual_inc</th>\n",
              "      <th>loan_status</th>\n",
              "      <th>open_acc</th>\n",
              "      <th>open_il_12m</th>\n",
              "    </tr>\n",
              "  </thead>\n",
              "  <tbody>\n",
              "    <tr>\n",
              "      <th>0</th>\n",
              "      <td>2500</td>\n",
              "      <td>13.56</td>\n",
              "      <td>55000.0</td>\n",
              "      <td>Current</td>\n",
              "      <td>9.0</td>\n",
              "      <td>1.0</td>\n",
              "    </tr>\n",
              "    <tr>\n",
              "      <th>1</th>\n",
              "      <td>30000</td>\n",
              "      <td>18.94</td>\n",
              "      <td>90000.0</td>\n",
              "      <td>Current</td>\n",
              "      <td>13.0</td>\n",
              "      <td>2.0</td>\n",
              "    </tr>\n",
              "    <tr>\n",
              "      <th>2</th>\n",
              "      <td>5000</td>\n",
              "      <td>17.97</td>\n",
              "      <td>59280.0</td>\n",
              "      <td>Current</td>\n",
              "      <td>8.0</td>\n",
              "      <td>0.0</td>\n",
              "    </tr>\n",
              "    <tr>\n",
              "      <th>3</th>\n",
              "      <td>4000</td>\n",
              "      <td>18.94</td>\n",
              "      <td>92000.0</td>\n",
              "      <td>Current</td>\n",
              "      <td>10.0</td>\n",
              "      <td>3.0</td>\n",
              "    </tr>\n",
              "    <tr>\n",
              "      <th>4</th>\n",
              "      <td>30000</td>\n",
              "      <td>16.14</td>\n",
              "      <td>57250.0</td>\n",
              "      <td>Current</td>\n",
              "      <td>12.0</td>\n",
              "      <td>3.0</td>\n",
              "    </tr>\n",
              "  </tbody>\n",
              "</table>\n",
              "</div>"
            ],
            "text/plain": [
              "   loan_amnt  int_rate  annual_inc loan_status  open_acc  open_il_12m\n",
              "0       2500     13.56     55000.0     Current       9.0          1.0\n",
              "1      30000     18.94     90000.0     Current      13.0          2.0\n",
              "2       5000     17.97     59280.0     Current       8.0          0.0\n",
              "3       4000     18.94     92000.0     Current      10.0          3.0\n",
              "4      30000     16.14     57250.0     Current      12.0          3.0"
            ]
          },
          "metadata": {
            "tags": []
          },
          "execution_count": 21
        }
      ]
    },
    {
      "cell_type": "code",
      "metadata": {
        "id": "cEFFs9jD3jww",
        "colab_type": "code",
        "colab": {
          "base_uri": "https://localhost:8080/",
          "height": 204
        },
        "outputId": "4245c906-14d8-4d2b-9454-0458a69e252e"
      },
      "source": [
        "data.info()"
      ],
      "execution_count": 22,
      "outputs": [
        {
          "output_type": "stream",
          "text": [
            "<class 'pandas.core.frame.DataFrame'>\n",
            "RangeIndex: 789278 entries, 0 to 789277\n",
            "Data columns (total 6 columns):\n",
            "loan_amnt      789278 non-null int64\n",
            "int_rate       789278 non-null float64\n",
            "annual_inc     789277 non-null float64\n",
            "loan_status    789277 non-null object\n",
            "open_acc       789277 non-null float64\n",
            "open_il_12m    789277 non-null float64\n",
            "dtypes: float64(4), int64(1), object(1)\n",
            "memory usage: 36.1+ MB\n"
          ],
          "name": "stdout"
        }
      ]
    },
    {
      "cell_type": "code",
      "metadata": {
        "id": "C0t5uZjm3YVi",
        "colab_type": "code",
        "colab": {
          "base_uri": "https://localhost:8080/",
          "height": 34
        },
        "outputId": "4690364c-923d-412d-e87f-127a40ac630e"
      },
      "source": [
        "data.shape"
      ],
      "execution_count": 23,
      "outputs": [
        {
          "output_type": "execute_result",
          "data": {
            "text/plain": [
              "(789278, 6)"
            ]
          },
          "metadata": {
            "tags": []
          },
          "execution_count": 23
        }
      ]
    },
    {
      "cell_type": "markdown",
      "metadata": {
        "id": "E42Ny9Bq3ycm",
        "colab_type": "text"
      },
      "source": [
        "##Continuous Variables"
      ]
    },
    {
      "cell_type": "code",
      "metadata": {
        "id": "iwJFytH530o5",
        "colab_type": "code",
        "colab": {
          "base_uri": "https://localhost:8080/",
          "height": 34
        },
        "outputId": "a93cf114-c6aa-4f3f-ea86-ddac4410fdf6"
      },
      "source": [
        "# let's look at the values of the variable loan_amnt\n",
        "# this is the amount of money requested by the borrower\n",
        "# in US dollars\n",
        "\n",
        "data['loan_amnt'].unique()"
      ],
      "execution_count": 24,
      "outputs": [
        {
          "output_type": "execute_result",
          "data": {
            "text/plain": [
              "array([ 2500, 30000,  5000, ..., 36075, 36100,  2025])"
            ]
          },
          "metadata": {
            "tags": []
          },
          "execution_count": 24
        }
      ]
    },
    {
      "cell_type": "code",
      "metadata": {
        "id": "zETGWaS34y14",
        "colab_type": "code",
        "colab": {
          "base_uri": "https://localhost:8080/",
          "height": 312
        },
        "outputId": "dc677a5c-9e17-46ba-e823-c4344d504f50"
      },
      "source": [
        "# let's make an histogram to get familiar with the\n",
        "# distribution of the variable\n",
        "data['loan_amnt'].hist(bins=50)\n",
        "plt.title('Loan Amount Requested')\n",
        "plt.xlabel('Loan Amount')\n",
        "plt.ylabel('Number of Loans')"
      ],
      "execution_count": 25,
      "outputs": [
        {
          "output_type": "execute_result",
          "data": {
            "text/plain": [
              "Text(0, 0.5, 'Number of Loans')"
            ]
          },
          "metadata": {
            "tags": []
          },
          "execution_count": 25
        },
        {
          "output_type": "display_data",
          "data": {
            "image/png": "[encoded data removed]",
            "text/plain": [
              "<Figure size 432x288 with 1 Axes>"
            ]
          },
          "metadata": {
            "tags": []
          }
        }
      ]
    },
    {
      "cell_type": "markdown",
      "metadata": {
        "id": "BtrSCPpp6LDT",
        "colab_type": "text"
      },
      "source": [
        "\n",
        "The values of the variable vary across the entire range of the variable. This is characteristic of continuous variables.\n",
        "\n",
        "The taller bars correspond to loan sizes of 10000, 15000, 20000, and 35000. There are more loans disbursed for those loan amount values. This indicates that most people tend to ask for these loan amounts. Likely, these particular loan amounts are pre-determined and offered as such in the Lending Club website.\n",
        "\n",
        "Less frequent loan values, like 23,000 or 33,000 could be requested by people who require a specific amount of money for a definite purpose."
      ]
    },
    {
      "cell_type": "code",
      "metadata": {
        "id": "ypb8a-Dz6UKt",
        "colab_type": "code",
        "colab": {
          "base_uri": "https://localhost:8080/",
          "height": 312
        },
        "outputId": "4969c63d-8fa7-47ac-e4e2-1e3b49596b91"
      },
      "source": [
        "data['int_rate'].hist(bins=30)\n",
        "plt.title('Interest Rate')\n",
        "plt.xlabel('Interest Rate')\n",
        "plt.ylabel('Number of Loans')"
      ],
      "execution_count": 26,
      "outputs": [
        {
          "output_type": "execute_result",
          "data": {
            "text/plain": [
              "Text(0, 0.5, 'Number of Loans')"
            ]
          },
          "metadata": {
            "tags": []
          },
          "execution_count": 26
        },
        {
          "output_type": "display_data",
          "data": {
            "image/png": "[encoded data removed]",
            "text/plain": [
              "<Figure size 432x288 with 1 Axes>"
            ]
          },
          "metadata": {
            "tags": []
          }
        }
      ]
    },
    {
      "cell_type": "markdown",
      "metadata": {
        "id": "Jk0QaxNWCzhu",
        "colab_type": "text"
      },
      "source": [
        "#### Again, we see that the values of the variable vary continuously across the variable range.\n",
        "\n"
      ]
    },
    {
      "cell_type": "code",
      "metadata": {
        "id": "uxjoTKNbVHAf",
        "colab_type": "code",
        "colab": {
          "base_uri": "https://localhost:8080/",
          "height": 312
        },
        "outputId": "efa1a01c-e48c-4a69-ad45-eb52522ae3bd"
      },
      "source": [
        "# and now,let's explore the income declared by the customers,\n",
        "# that is, how much they earn yearly.\n",
        "\n",
        "fig = data.annual_inc.hist(bins=100)\n",
        "fig.set_xlim(0, 400000)\n",
        "fig.set_title(\"Customer's Annual Income\")\n",
        "fig.set_xlabel('Annual Income')\n",
        "fig.set_ylabel('Number of Customers')"
      ],
      "execution_count": 27,
      "outputs": [
        {
          "output_type": "execute_result",
          "data": {
            "text/plain": [
              "Text(0, 0.5, 'Number of Customers')"
            ]
          },
          "metadata": {
            "tags": []
          },
          "execution_count": 27
        },
        {
          "output_type": "display_data",
          "data": {
            "image/png": "[encoded data removed]",
            "text/plain": [
              "<Figure size 432x288 with 1 Axes>"
            ]
          },
          "metadata": {
            "tags": []
          }
        }
      ]
    },
    {
      "cell_type": "markdown",
      "metadata": {
        "id": "4ROpV4GkdsLZ",
        "colab_type": "text"
      },
      "source": [
        "\n",
        "The majority of salaries are concentrated towards values in the range 30-70 k, with only a few customers earning higher salaries. Again, the values of the variable, vary continuosly across the variable range."
      ]
    },
    {
      "cell_type": "markdown",
      "metadata": {
        "id": "gF70SWPkdzKb",
        "colab_type": "text"
      },
      "source": [
        "## Discrete Variables"
      ]
    },
    {
      "cell_type": "code",
      "metadata": {
        "id": "eRucAuVodtmu",
        "colab_type": "code",
        "colab": {
          "base_uri": "https://localhost:8080/",
          "height": 102
        },
        "outputId": "62ba0d30-f324-443b-f54a-0dc870d02a37"
      },
      "source": [
        "data.isnull().sum()[data.isnull().sum() > 0]"
      ],
      "execution_count": 28,
      "outputs": [
        {
          "output_type": "execute_result",
          "data": {
            "text/plain": [
              "annual_inc     1\n",
              "loan_status    1\n",
              "open_acc       1\n",
              "open_il_12m    1\n",
              "dtype: int64"
            ]
          },
          "metadata": {
            "tags": []
          },
          "execution_count": 28
        }
      ]
    },
    {
      "cell_type": "code",
      "metadata": {
        "id": "wmoqjFj6fPi_",
        "colab_type": "code",
        "colab": {
          "base_uri": "https://localhost:8080/",
          "height": 153
        },
        "outputId": "ca4d5c04-b1a7-4212-ed60-e8022510619b"
      },
      "source": [
        "data.open_acc.dropna().unique()"
      ],
      "execution_count": 29,
      "outputs": [
        {
          "output_type": "execute_result",
          "data": {
            "text/plain": [
              "array([  9.,  13.,   8.,  10.,  12.,  18.,   1.,  19.,  38.,   6.,  20.,\n",
              "        27.,   7.,   4.,  14.,  17.,   5.,  11.,   3.,  16.,  15.,  24.,\n",
              "        23.,  26.,  22.,  21.,  25.,  29.,   2.,  44.,  28.,  31.,  34.,\n",
              "        32.,  30.,  35.,  41.,  36.,  40.,  33.,  45.,  43.,  37.,  59.,\n",
              "        39.,   0.,  55.,  48.,  60.,  47.,  42.,  51.,  66.,  49.,  53.,\n",
              "        57.,  50.,  46.,  54.,  61.,  63.,  68.,  52.,  64.,  62.,  69.,\n",
              "        94.,  70.,  58.,  78.,  56.,  82., 101.,  86.,  65.,  72.,  80.,\n",
              "        77.,  81.,  71.])"
            ]
          },
          "metadata": {
            "tags": []
          },
          "execution_count": 29
        }
      ]
    },
    {
      "cell_type": "code",
      "metadata": {
        "id": "aZ7yczbDfWIs",
        "colab_type": "code",
        "colab": {
          "base_uri": "https://localhost:8080/",
          "height": 295
        },
        "outputId": "d69ef66d-2414-4d76-8b72-9aa7baddeaa3"
      },
      "source": [
        "# let's make an histogram to get familiar with the\n",
        "# distribution of the variable\n",
        "data.open_acc.plot.hist(bins=200)\n",
        "plt.xlabel('Number of Open Accounts')\n",
        "plt.ylabel('Number of Customers')\n",
        "plt.title('Open Accounts vs Customers')\n",
        "plt.xlim(0, 30)\n",
        "plt.show()"
      ],
      "execution_count": 32,
      "outputs": [
        {
          "output_type": "display_data",
          "data": {
            "image/png": "[encoded data removed]",
            "text/plain": [
              "<Figure size 432x288 with 1 Axes>"
            ]
          },
          "metadata": {
            "tags": []
          }
        }
      ]
    },
    {
      "cell_type": "markdown",
      "metadata": {
        "id": "f6A4YaSRgQcV",
        "colab_type": "text"
      },
      "source": [
        "#### Histograms of discrete variables have this typical broken shape, as not all the values within the variable range are present in the variable."
      ]
    },
    {
      "cell_type": "markdown",
      "metadata": {
        "id": "BWR5P3JRgSJA",
        "colab_type": "text"
      },
      "source": [
        "**Number of installment accounts opened in past 12 months (open_il_12m in the dataset)**. \n",
        "\n",
        "Installment accounts are those that at the moment of acquiring them, there is a set period and amount of repayments agreed between the lender and borrower. An example of this is a car loan, or a student loan. The borrower knows that they are going to pay a certain, fixed amount over for example 36 months."
      ]
    },
    {
      "cell_type": "code",
      "metadata": {
        "id": "QZaYlndXg_De",
        "colab_type": "code",
        "colab": {
          "base_uri": "https://localhost:8080/",
          "height": 51
        },
        "outputId": "d837c08a-e3c0-4da9-a358-7f5d27b7d700"
      },
      "source": [
        "data.open_il_12m.unique()"
      ],
      "execution_count": 33,
      "outputs": [
        {
          "output_type": "execute_result",
          "data": {
            "text/plain": [
              "array([ 1.,  2.,  0.,  3.,  5.,  4.,  6.,  8.,  7., 10.,  9., 11., 12.,\n",
              "       13., 20., 21., 25., 15., 14., nan])"
            ]
          },
          "metadata": {
            "tags": []
          },
          "execution_count": 33
        }
      ]
    },
    {
      "cell_type": "code",
      "metadata": {
        "id": "SCKivYKziHun",
        "colab_type": "code",
        "colab": {
          "base_uri": "https://localhost:8080/",
          "height": 312
        },
        "outputId": "fa38c4b2-7fc7-4d69-d7ef-c9edddae676c"
      },
      "source": [
        "data.open_il_12m.plot.hist(bins=50)\n",
        "plt.title('Number of installment accounts opened in past 12 months')\n",
        "plt.xlabel('Number of installment accounts opened in past 12 months')\n",
        "plt.ylabel('Number of borrowers')\n",
        "plt.xlim(0,15)\n",
        "plt.plot()"
      ],
      "execution_count": 35,
      "outputs": [
        {
          "output_type": "execute_result",
          "data": {
            "text/plain": [
              "[]"
            ]
          },
          "metadata": {
            "tags": []
          },
          "execution_count": 35
        },
        {
          "output_type": "display_data",
          "data": {
            "image/png": "[encoded data removed]",
            "text/plain": [
              "<Figure size 432x288 with 1 Axes>"
            ]
          },
          "metadata": {
            "tags": []
          }
        }
      ]
    },
    {
      "cell_type": "markdown",
      "metadata": {
        "id": "6rM9nppiitrn",
        "colab_type": "text"
      },
      "source": [
        "####The majority of the borrowers have none or 1 installment account, with only a few borrowers having more than 2."
      ]
    },
    {
      "cell_type": "markdown",
      "metadata": {
        "id": "oyPs3tpTi4w8",
        "colab_type": "text"
      },
      "source": [
        "##A variation of discrete variables: the binary variable"
      ]
    },
    {
      "cell_type": "markdown",
      "metadata": {
        "id": "MYaM-MuujgGE",
        "colab_type": "text"
      },
      "source": [
        "#### Binary variables, are discrete variables, that can take only 2 values, therefore binary.\n",
        "\n",
        "In the next cells I will create an additional variable, called defaulted, to capture the number of loans that have defaulted. A defaulted loan is a loan that a customer has failed to re-pay and the money is lost.\n",
        "\n",
        "The variable takes the values 0 where the loans are ok and being re-paid regularly, or 1, when the borrower has confirmed that will not be able to re-pay the borrowed amount."
      ]
    },
    {
      "cell_type": "code",
      "metadata": {
        "id": "ajmF5ohcjik-",
        "colab_type": "code",
        "colab": {
          "base_uri": "https://localhost:8080/",
          "height": 51
        },
        "outputId": "7bf7859a-b9e7-4c7d-d1f9-d8c4fb6dc89e"
      },
      "source": [
        "data.loan_status.unique()"
      ],
      "execution_count": 36,
      "outputs": [
        {
          "output_type": "execute_result",
          "data": {
            "text/plain": [
              "array(['Current', 'Fully Paid', 'Late (31-120 days)', 'In Grace Period',\n",
              "       'Charged Off', 'Late (16-30 days)', 'Default', nan], dtype=object)"
            ]
          },
          "metadata": {
            "tags": []
          },
          "execution_count": 36
        }
      ]
    },
    {
      "cell_type": "code",
      "metadata": {
        "id": "GDurWDJCiwjv",
        "colab_type": "code",
        "colab": {}
      },
      "source": [
        "# let's create one additional variable called defaulted.\n",
        "# This variable indicates if the loan has defaulted, which means,\n",
        "# if the borrower failed to re-pay the loan, and the money\n",
        "# is deemed lost.\n",
        "\n",
        "data['Defaulted'] = np.where(data['loan_status'].isin(['Default']),1,0)"
      ],
      "execution_count": 0,
      "outputs": []
    },
    {
      "cell_type": "code",
      "metadata": {
        "id": "ivV18CB_oI6y",
        "colab_type": "code",
        "colab": {
          "base_uri": "https://localhost:8080/",
          "height": 34
        },
        "outputId": "059b0067-654a-45eb-d6c8-60bd0ca78980"
      },
      "source": [
        "data['Defaulted'].mean()"
      ],
      "execution_count": 38,
      "outputs": [
        {
          "output_type": "execute_result",
          "data": {
            "text/plain": [
              "2.027169134322761e-05"
            ]
          },
          "metadata": {
            "tags": []
          },
          "execution_count": 38
        }
      ]
    },
    {
      "cell_type": "code",
      "metadata": {
        "id": "_cPRFhMyoSpw",
        "colab_type": "code",
        "colab": {
          "base_uri": "https://localhost:8080/",
          "height": 204
        },
        "outputId": "59cb70ad-7077-4579-a94f-c6c1af58b478"
      },
      "source": [
        "data.head()"
      ],
      "execution_count": 39,
      "outputs": [
        {
          "output_type": "execute_result",
          "data": {
            "text/html": [
              "<div>\n",
              "<style scoped>\n",
              "    .dataframe tbody tr th:only-of-type {\n",
              "        vertical-align: middle;\n",
              "    }\n",
              "\n",
              "    .dataframe tbody tr th {\n",
              "        vertical-align: top;\n",
              "    }\n",
              "\n",
              "    .dataframe thead th {\n",
              "        text-align: right;\n",
              "    }\n",
              "</style>\n",
              "<table border=\"1\" class=\"dataframe\">\n",
              "  <thead>\n",
              "    <tr style=\"text-align: right;\">\n",
              "      <th></th>\n",
              "      <th>loan_amnt</th>\n",
              "      <th>int_rate</th>\n",
              "      <th>annual_inc</th>\n",
              "      <th>loan_status</th>\n",
              "      <th>open_acc</th>\n",
              "      <th>open_il_12m</th>\n",
              "      <th>Defaulted</th>\n",
              "    </tr>\n",
              "  </thead>\n",
              "  <tbody>\n",
              "    <tr>\n",
              "      <th>0</th>\n",
              "      <td>2500</td>\n",
              "      <td>13.56</td>\n",
              "      <td>55000.0</td>\n",
              "      <td>Current</td>\n",
              "      <td>9.0</td>\n",
              "      <td>1.0</td>\n",
              "      <td>0</td>\n",
              "    </tr>\n",
              "    <tr>\n",
              "      <th>1</th>\n",
              "      <td>30000</td>\n",
              "      <td>18.94</td>\n",
              "      <td>90000.0</td>\n",
              "      <td>Current</td>\n",
              "      <td>13.0</td>\n",
              "      <td>2.0</td>\n",
              "      <td>0</td>\n",
              "    </tr>\n",
              "    <tr>\n",
              "      <th>2</th>\n",
              "      <td>5000</td>\n",
              "      <td>17.97</td>\n",
              "      <td>59280.0</td>\n",
              "      <td>Current</td>\n",
              "      <td>8.0</td>\n",
              "      <td>0.0</td>\n",
              "      <td>0</td>\n",
              "    </tr>\n",
              "    <tr>\n",
              "      <th>3</th>\n",
              "      <td>4000</td>\n",
              "      <td>18.94</td>\n",
              "      <td>92000.0</td>\n",
              "      <td>Current</td>\n",
              "      <td>10.0</td>\n",
              "      <td>3.0</td>\n",
              "      <td>0</td>\n",
              "    </tr>\n",
              "    <tr>\n",
              "      <th>4</th>\n",
              "      <td>30000</td>\n",
              "      <td>16.14</td>\n",
              "      <td>57250.0</td>\n",
              "      <td>Current</td>\n",
              "      <td>12.0</td>\n",
              "      <td>3.0</td>\n",
              "      <td>0</td>\n",
              "    </tr>\n",
              "  </tbody>\n",
              "</table>\n",
              "</div>"
            ],
            "text/plain": [
              "   loan_amnt  int_rate  annual_inc  ... open_acc  open_il_12m  Defaulted\n",
              "0       2500     13.56     55000.0  ...      9.0          1.0          0\n",
              "1      30000     18.94     90000.0  ...     13.0          2.0          0\n",
              "2       5000     17.97     59280.0  ...      8.0          0.0          0\n",
              "3       4000     18.94     92000.0  ...     10.0          3.0          0\n",
              "4      30000     16.14     57250.0  ...     12.0          3.0          0\n",
              "\n",
              "[5 rows x 7 columns]"
            ]
          },
          "metadata": {
            "tags": []
          },
          "execution_count": 39
        }
      ]
    },
    {
      "cell_type": "code",
      "metadata": {
        "id": "4qhMdpKtoi5b",
        "colab_type": "code",
        "colab": {
          "base_uri": "https://localhost:8080/",
          "height": 204
        },
        "outputId": "f8d5c332-d235-4879-c86e-b7e181d2f19c"
      },
      "source": [
        "# the new variable takes the value 1 for loans that\n",
        "# are defaulted\n",
        "\n",
        "data[data['loan_status'] == 'Default'].head()"
      ],
      "execution_count": 40,
      "outputs": [
        {
          "output_type": "execute_result",
          "data": {
            "text/html": [
              "<div>\n",
              "<style scoped>\n",
              "    .dataframe tbody tr th:only-of-type {\n",
              "        vertical-align: middle;\n",
              "    }\n",
              "\n",
              "    .dataframe tbody tr th {\n",
              "        vertical-align: top;\n",
              "    }\n",
              "\n",
              "    .dataframe thead th {\n",
              "        text-align: right;\n",
              "    }\n",
              "</style>\n",
              "<table border=\"1\" class=\"dataframe\">\n",
              "  <thead>\n",
              "    <tr style=\"text-align: right;\">\n",
              "      <th></th>\n",
              "      <th>loan_amnt</th>\n",
              "      <th>int_rate</th>\n",
              "      <th>annual_inc</th>\n",
              "      <th>loan_status</th>\n",
              "      <th>open_acc</th>\n",
              "      <th>open_il_12m</th>\n",
              "      <th>Defaulted</th>\n",
              "    </tr>\n",
              "  </thead>\n",
              "  <tbody>\n",
              "    <tr>\n",
              "      <th>220496</th>\n",
              "      <td>7500</td>\n",
              "      <td>12.73</td>\n",
              "      <td>50000.0</td>\n",
              "      <td>Default</td>\n",
              "      <td>4.0</td>\n",
              "      <td>1.0</td>\n",
              "      <td>1</td>\n",
              "    </tr>\n",
              "    <tr>\n",
              "      <th>220980</th>\n",
              "      <td>30000</td>\n",
              "      <td>20.89</td>\n",
              "      <td>109000.0</td>\n",
              "      <td>Default</td>\n",
              "      <td>12.0</td>\n",
              "      <td>1.0</td>\n",
              "      <td>1</td>\n",
              "    </tr>\n",
              "    <tr>\n",
              "      <th>260870</th>\n",
              "      <td>1000</td>\n",
              "      <td>17.47</td>\n",
              "      <td>56160.0</td>\n",
              "      <td>Default</td>\n",
              "      <td>4.0</td>\n",
              "      <td>0.0</td>\n",
              "      <td>1</td>\n",
              "    </tr>\n",
              "    <tr>\n",
              "      <th>338482</th>\n",
              "      <td>35000</td>\n",
              "      <td>10.90</td>\n",
              "      <td>30000.0</td>\n",
              "      <td>Default</td>\n",
              "      <td>3.0</td>\n",
              "      <td>0.0</td>\n",
              "      <td>1</td>\n",
              "    </tr>\n",
              "    <tr>\n",
              "      <th>347594</th>\n",
              "      <td>22000</td>\n",
              "      <td>24.84</td>\n",
              "      <td>62000.0</td>\n",
              "      <td>Default</td>\n",
              "      <td>16.0</td>\n",
              "      <td>2.0</td>\n",
              "      <td>1</td>\n",
              "    </tr>\n",
              "  </tbody>\n",
              "</table>\n",
              "</div>"
            ],
            "text/plain": [
              "        loan_amnt  int_rate  annual_inc  ... open_acc  open_il_12m  Defaulted\n",
              "220496       7500     12.73     50000.0  ...      4.0          1.0          1\n",
              "220980      30000     20.89    109000.0  ...     12.0          1.0          1\n",
              "260870       1000     17.47     56160.0  ...      4.0          0.0          1\n",
              "338482      35000     10.90     30000.0  ...      3.0          0.0          1\n",
              "347594      22000     24.84     62000.0  ...     16.0          2.0          1\n",
              "\n",
              "[5 rows x 7 columns]"
            ]
          },
          "metadata": {
            "tags": []
          },
          "execution_count": 40
        }
      ]
    },
    {
      "cell_type": "code",
      "metadata": {
        "id": "wBimZA5cpEV8",
        "colab_type": "code",
        "colab": {
          "base_uri": "https://localhost:8080/",
          "height": 34
        },
        "outputId": "686e986b-23b3-468d-fe5b-4b89d5f01238"
      },
      "source": [
        "# A binary variable, can take 2 values. For example,\n",
        "# the variable defaulted that we just created:\n",
        "# either the loan is defaulted (1) or not (0)\n",
        "\n",
        "data.Defaulted.unique()"
      ],
      "execution_count": 41,
      "outputs": [
        {
          "output_type": "execute_result",
          "data": {
            "text/plain": [
              "array([0, 1])"
            ]
          },
          "metadata": {
            "tags": []
          },
          "execution_count": 41
        }
      ]
    },
    {
      "cell_type": "code",
      "metadata": {
        "id": "IhELKrxhpMPj",
        "colab_type": "code",
        "colab": {
          "base_uri": "https://localhost:8080/",
          "height": 296
        },
        "outputId": "511fb57d-9690-428b-f86b-227ff327c1d2"
      },
      "source": [
        "data.Defaulted.plot.hist()\n",
        "plt.xlabel('Deafaulted Accounts')\n",
        "plt.ylabel('Number of Loan')\n",
        "plt.xlim(0,2)"
      ],
      "execution_count": 45,
      "outputs": [
        {
          "output_type": "execute_result",
          "data": {
            "text/plain": [
              "(0, 2)"
            ]
          },
          "metadata": {
            "tags": []
          },
          "execution_count": 45
        },
        {
          "output_type": "display_data",
          "data": {
            "image/png": "[encoded data removed]",
            "text/plain": [
              "<Figure size 432x288 with 1 Axes>"
            ]
          },
          "metadata": {
            "tags": []
          }
        }
      ]
    },
    {
      "cell_type": "markdown",
      "metadata": {
        "id": "wWywyT31sLbP",
        "colab_type": "text"
      },
      "source": [
        "#### As we can see, the variable shows only 2 values, 0 and 1, and the majority of the loans are ok."
      ]
    }
  ]
}